{
 "cells": [
  {
   "cell_type": "code",
   "execution_count": 254,
   "id": "cdf73eeb",
   "metadata": {},
   "outputs": [],
   "source": [
    "# Importing necessary libraries\n",
    "import pandas as pd\n",
    "import numpy as np\n",
    "import matplotlib.pyplot as plt\n",
    "import seaborn as sns"
   ]
  },
  {
   "cell_type": "code",
   "execution_count": 255,
   "id": "991adbd4",
   "metadata": {},
   "outputs": [],
   "source": [
    "path = r'C:\\Users\\Administrator\\Desktop\\Data Science project\\archive\\UEFA Champions League 2016-2022 Data.xlsx'"
   ]
  },
  {
   "cell_type": "code",
   "execution_count": 256,
   "id": "5a8548fa",
   "metadata": {},
   "outputs": [],
   "source": [
    "goals = pd.read_excel(path, sheet_name = 'goals')\n",
    "managers = pd.read_excel(path, sheet_name = 'managers')\n",
    "matches = pd.read_excel(path, sheet_name = 'matches')\n",
    "players = pd.read_excel(path, sheet_name = 'players')\n",
    "stadiums = pd.read_excel(path, sheet_name = 'stadiums')\n",
    "teams = pd.read_excel(path, sheet_name = 'teams')"
   ]
  },
  {
   "cell_type": "code",
   "execution_count": 257,
   "id": "2eeddabf",
   "metadata": {},
   "outputs": [],
   "source": [
    "# function for changing columns to lower case\n",
    "def lower(df):\n",
    "    df.columns = df.columns.str.lower()\n",
    "    return df"
   ]
  },
  {
   "cell_type": "code",
   "execution_count": 258,
   "id": "64c2e87d",
   "metadata": {},
   "outputs": [],
   "source": [
    "# Applying function for every dataframe\n",
    "goal = lower(goals)\n",
    "match = lower(matches)\n",
    "stadium = lower(stadiums)\n",
    "player = lower(players)\n",
    "manager = lower(managers)\n",
    "team = lower(teams)"
   ]
  },
  {
   "cell_type": "code",
   "execution_count": 259,
   "id": "2e7f8607",
   "metadata": {},
   "outputs": [],
   "source": [
    "matches['result'] = 'D'  # Set default value as 'D' (draw)\n",
    "\n",
    "# Update result based on home_team_score and away_team_score\n",
    "matches.loc[matches['home_team_score'] > matches['away_team_score'], 'result'] = 'W'\n",
    "matches.loc[matches['home_team_score'] < matches['away_team_score'], 'result'] = 'L'\n"
   ]
  },
  {
   "cell_type": "code",
   "execution_count": 260,
   "id": "147d6246",
   "metadata": {},
   "outputs": [],
   "source": [
    "matches['season'] = matches['season'].apply(lambda x: int(x.split('-')[0]))"
   ]
  },
  {
   "cell_type": "code",
   "execution_count": 261,
   "id": "716e5bdf",
   "metadata": {},
   "outputs": [],
   "source": [
    "match[\"date_time\"] = pd.to_datetime(match[\"date_time\"], format=\"%d-%b-%y %I.%M.%S.%f000000 %p\")"
   ]
  },
  {
   "cell_type": "code",
   "execution_count": 262,
   "id": "e956f0ef",
   "metadata": {},
   "outputs": [],
   "source": [
    "matches.rename(columns={'home_team': 'team', 'away_team': 'opponent'}, inplace=True)\n"
   ]
  },
  {
   "cell_type": "code",
   "execution_count": 263,
   "id": "627a50c9",
   "metadata": {},
   "outputs": [],
   "source": [
    "matches['opp_code'] = matches['opponent'].astype(\"category\").cat.codes"
   ]
  },
  {
   "cell_type": "code",
   "execution_count": 264,
   "id": "9fcbff27",
   "metadata": {},
   "outputs": [],
   "source": [
    "matches[\"day_code\"]=matches[\"date_time\"].dt.dayofweek"
   ]
  },
  {
   "cell_type": "code",
   "execution_count": 265,
   "id": "536cd08a",
   "metadata": {},
   "outputs": [],
   "source": [
    "matches['venue_code'] = np.where(matches['team']==matches['team'], 1, 0)\n"
   ]
  },
  {
   "cell_type": "code",
   "execution_count": 266,
   "id": "2acf110b",
   "metadata": {},
   "outputs": [],
   "source": [
    "matches[\"target\"] = matches[\"result\"].map({\"W\": 1, \"L\": 2, \"D\": 0}).astype(\"int\")\n"
   ]
  },
  {
   "cell_type": "code",
   "execution_count": 319,
   "id": "359baae8",
   "metadata": {},
   "outputs": [
    {
     "data": {
      "text/plain": [
       "W    0.439516\n",
       "L    0.346774\n",
       "D    0.213710\n",
       "Name: result, dtype: float64"
      ]
     },
     "execution_count": 319,
     "metadata": {},
     "output_type": "execute_result"
    }
   ],
   "source": [
    "matches[\"result\"].value_counts(\"W\")"
   ]
  },
  {
   "cell_type": "code",
   "execution_count": 304,
   "id": "af6db8bf",
   "metadata": {},
   "outputs": [
    {
     "data": {
      "text/plain": [
       "match_id                     object\n",
       "season                        int64\n",
       "date_time            datetime64[ns]\n",
       "team                         object\n",
       "opponent                     object\n",
       "stadium                      object\n",
       "home_team_score               int64\n",
       "away_team_score               int64\n",
       "penalty_shoot_out             int64\n",
       "attendance                    int64\n",
       "result                       object\n",
       "opp_code                       int8\n",
       "day_code                      int64\n",
       "venue_code                    int32\n",
       "target                        int32\n",
       "dtype: object"
      ]
     },
     "execution_count": 304,
     "metadata": {},
     "output_type": "execute_result"
    }
   ],
   "source": [
    "matches.dtypes"
   ]
  },
  {
   "cell_type": "markdown",
   "id": "abcb5e2d",
   "metadata": {},
   "source": []
  },
  {
   "cell_type": "code",
   "execution_count": 306,
   "id": "5184804b",
   "metadata": {},
   "outputs": [],
   "source": [
    "from sklearn.linear_model import LogisticRegression\n",
    "lr = LogisticRegression(max_iter=500)"
   ]
  },
  {
   "cell_type": "code",
   "execution_count": 307,
   "id": "54812e9c",
   "metadata": {},
   "outputs": [],
   "source": [
    "train=matches[matches[\"date_time\"]< '2020-01-01']"
   ]
  },
  {
   "cell_type": "code",
   "execution_count": 308,
   "id": "4aa9f826",
   "metadata": {},
   "outputs": [],
   "source": [
    "test=matches[matches[\"date_time\"]> '2020-01-01']"
   ]
  },
  {
   "cell_type": "code",
   "execution_count": 309,
   "id": "73abf378",
   "metadata": {},
   "outputs": [
    {
     "data": {
      "text/plain": [
       "['venue_code', 'opp_code', 'day_code']"
      ]
     },
     "execution_count": 309,
     "metadata": {},
     "output_type": "execute_result"
    }
   ],
   "source": [
    "predictors= [\"venue_code\", \"opp_code\", \"day_code\"]\n",
    "predictors"
   ]
  },
  {
   "cell_type": "code",
   "execution_count": 310,
   "id": "a7472f11",
   "metadata": {},
   "outputs": [
    {
     "data": {
      "text/html": [
       "<style>#sk-container-id-24 {color: black;background-color: white;}#sk-container-id-24 pre{padding: 0;}#sk-container-id-24 div.sk-toggleable {background-color: white;}#sk-container-id-24 label.sk-toggleable__label {cursor: pointer;display: block;width: 100%;margin-bottom: 0;padding: 0.3em;box-sizing: border-box;text-align: center;}#sk-container-id-24 label.sk-toggleable__label-arrow:before {content: \"▸\";float: left;margin-right: 0.25em;color: #696969;}#sk-container-id-24 label.sk-toggleable__label-arrow:hover:before {color: black;}#sk-container-id-24 div.sk-estimator:hover label.sk-toggleable__label-arrow:before {color: black;}#sk-container-id-24 div.sk-toggleable__content {max-height: 0;max-width: 0;overflow: hidden;text-align: left;background-color: #f0f8ff;}#sk-container-id-24 div.sk-toggleable__content pre {margin: 0.2em;color: black;border-radius: 0.25em;background-color: #f0f8ff;}#sk-container-id-24 input.sk-toggleable__control:checked~div.sk-toggleable__content {max-height: 200px;max-width: 100%;overflow: auto;}#sk-container-id-24 input.sk-toggleable__control:checked~label.sk-toggleable__label-arrow:before {content: \"▾\";}#sk-container-id-24 div.sk-estimator input.sk-toggleable__control:checked~label.sk-toggleable__label {background-color: #d4ebff;}#sk-container-id-24 div.sk-label input.sk-toggleable__control:checked~label.sk-toggleable__label {background-color: #d4ebff;}#sk-container-id-24 input.sk-hidden--visually {border: 0;clip: rect(1px 1px 1px 1px);clip: rect(1px, 1px, 1px, 1px);height: 1px;margin: -1px;overflow: hidden;padding: 0;position: absolute;width: 1px;}#sk-container-id-24 div.sk-estimator {font-family: monospace;background-color: #f0f8ff;border: 1px dotted black;border-radius: 0.25em;box-sizing: border-box;margin-bottom: 0.5em;}#sk-container-id-24 div.sk-estimator:hover {background-color: #d4ebff;}#sk-container-id-24 div.sk-parallel-item::after {content: \"\";width: 100%;border-bottom: 1px solid gray;flex-grow: 1;}#sk-container-id-24 div.sk-label:hover label.sk-toggleable__label {background-color: #d4ebff;}#sk-container-id-24 div.sk-serial::before {content: \"\";position: absolute;border-left: 1px solid gray;box-sizing: border-box;top: 0;bottom: 0;left: 50%;z-index: 0;}#sk-container-id-24 div.sk-serial {display: flex;flex-direction: column;align-items: center;background-color: white;padding-right: 0.2em;padding-left: 0.2em;position: relative;}#sk-container-id-24 div.sk-item {position: relative;z-index: 1;}#sk-container-id-24 div.sk-parallel {display: flex;align-items: stretch;justify-content: center;background-color: white;position: relative;}#sk-container-id-24 div.sk-item::before, #sk-container-id-24 div.sk-parallel-item::before {content: \"\";position: absolute;border-left: 1px solid gray;box-sizing: border-box;top: 0;bottom: 0;left: 50%;z-index: -1;}#sk-container-id-24 div.sk-parallel-item {display: flex;flex-direction: column;z-index: 1;position: relative;background-color: white;}#sk-container-id-24 div.sk-parallel-item:first-child::after {align-self: flex-end;width: 50%;}#sk-container-id-24 div.sk-parallel-item:last-child::after {align-self: flex-start;width: 50%;}#sk-container-id-24 div.sk-parallel-item:only-child::after {width: 0;}#sk-container-id-24 div.sk-dashed-wrapped {border: 1px dashed gray;margin: 0 0.4em 0.5em 0.4em;box-sizing: border-box;padding-bottom: 0.4em;background-color: white;}#sk-container-id-24 div.sk-label label {font-family: monospace;font-weight: bold;display: inline-block;line-height: 1.2em;}#sk-container-id-24 div.sk-label-container {text-align: center;}#sk-container-id-24 div.sk-container {/* jupyter's `normalize.less` sets `[hidden] { display: none; }` but bootstrap.min.css set `[hidden] { display: none !important; }` so we also need the `!important` here to be able to override the default hidden behavior on the sphinx rendered scikit-learn.org. See: https://github.com/scikit-learn/scikit-learn/issues/21755 */display: inline-block !important;position: relative;}#sk-container-id-24 div.sk-text-repr-fallback {display: none;}</style><div id=\"sk-container-id-24\" class=\"sk-top-container\"><div class=\"sk-text-repr-fallback\"><pre>LogisticRegression(max_iter=500)</pre><b>In a Jupyter environment, please rerun this cell to show the HTML representation or trust the notebook. <br />On GitHub, the HTML representation is unable to render, please try loading this page with nbviewer.org.</b></div><div class=\"sk-container\" hidden><div class=\"sk-item\"><div class=\"sk-estimator sk-toggleable\"><input class=\"sk-toggleable__control sk-hidden--visually\" id=\"sk-estimator-id-24\" type=\"checkbox\" checked><label for=\"sk-estimator-id-24\" class=\"sk-toggleable__label sk-toggleable__label-arrow\">LogisticRegression</label><div class=\"sk-toggleable__content\"><pre>LogisticRegression(max_iter=500)</pre></div></div></div></div></div>"
      ],
      "text/plain": [
       "LogisticRegression(max_iter=500)"
      ]
     },
     "execution_count": 310,
     "metadata": {},
     "output_type": "execute_result"
    }
   ],
   "source": [
    "lr.fit(train[predictors], train[\"target\"])"
   ]
  },
  {
   "cell_type": "code",
   "execution_count": 311,
   "id": "78947b8f",
   "metadata": {},
   "outputs": [],
   "source": [
    "# Make predictions on the test set\n",
    "preds = lr.predict(test[predictors])"
   ]
  },
  {
   "cell_type": "code",
   "execution_count": 312,
   "id": "253f76a3",
   "metadata": {},
   "outputs": [
    {
     "name": "stdout",
     "output_type": "stream",
     "text": [
      "Accuracy: 0.43223443223443225\n"
     ]
    }
   ],
   "source": [
    "from sklearn.metrics import accuracy_score\n",
    "# Evaluate the model's accuracy\n",
    "accuracy = accuracy_score(test[\"target\"], preds)\n",
    "print(\"Accuracy:\", accuracy)"
   ]
  },
  {
   "cell_type": "code",
   "execution_count": 313,
   "id": "6769ff40",
   "metadata": {},
   "outputs": [
    {
     "name": "stdout",
     "output_type": "stream",
     "text": [
      "     target  predicted\n",
      "0         1          1\n",
      "1         0          1\n",
      "2         1          1\n",
      "3         2          1\n",
      "4         2          1\n",
      "..      ...        ...\n",
      "364       2          1\n",
      "365       2          1\n",
      "366       2          1\n",
      "367       2          1\n",
      "368       2          1\n",
      "\n",
      "[273 rows x 2 columns]\n"
     ]
    }
   ],
   "source": [
    "result_df = pd.concat([test['target'], pd.Series(preds, name='predicted', index=test.index)], axis=1)\n",
    "print(result_df)"
   ]
  },
  {
   "cell_type": "code",
   "execution_count": 314,
   "id": "8358b090",
   "metadata": {},
   "outputs": [
    {
     "name": "stdout",
     "output_type": "stream",
     "text": [
      "[[  0  51   0]\n",
      " [  0 118   0]\n",
      " [  0 104   0]]\n"
     ]
    }
   ],
   "source": [
    "from sklearn.metrics import confusion_matrix\n",
    "\n",
    "# Generate confusion matrix\n",
    "cm = confusion_matrix(test[\"target\"], preds)\n",
    "print(cm)"
   ]
  },
  {
   "cell_type": "code",
   "execution_count": 315,
   "id": "00959269",
   "metadata": {},
   "outputs": [
    {
     "data": {
      "image/png": "[encoded data removed]",
      "text/plain": [
       "<Figure size 640x480 with 2 Axes>"
      ]
     },
     "metadata": {},
     "output_type": "display_data"
    }
   ],
   "source": [
    "import seaborn as sns\n",
    "import matplotlib.pyplot as plt\n",
    "\n",
    "# Plot heatmap of confusion matrix\n",
    "sns.heatmap(cm, annot=True, cmap=\"Blues\", fmt=\"d\", xticklabels=[\"D\", \"W\", \"L\"], yticklabels=[\"D\", \"W\", \"L\"])\n",
    "plt.xlabel(\"Predicted\")\n",
    "plt.ylabel(\"Actual\")\n",
    "plt.show()"
   ]
  },
  {
   "cell_type": "code",
   "execution_count": 316,
   "id": "6b1472bc",
   "metadata": {},
   "outputs": [],
   "source": [
    "combined=pd.DataFrame(dict(actual=test[\"target\"], prediction=preds))"
   ]
  },
  {
   "cell_type": "code",
   "execution_count": 317,
   "id": "9ab4cf9d",
   "metadata": {},
   "outputs": [
    {
     "data": {
      "text/html": [
       "<div>\n",
       "<style scoped>\n",
       "    .dataframe tbody tr th:only-of-type {\n",
       "        vertical-align: middle;\n",
       "    }\n",
       "\n",
       "    .dataframe tbody tr th {\n",
       "        vertical-align: top;\n",
       "    }\n",
       "\n",
       "    .dataframe thead th {\n",
       "        text-align: right;\n",
       "    }\n",
       "</style>\n",
       "<table border=\"1\" class=\"dataframe\">\n",
       "  <thead>\n",
       "    <tr style=\"text-align: right;\">\n",
       "      <th>prediction</th>\n",
       "      <th>1</th>\n",
       "    </tr>\n",
       "    <tr>\n",
       "      <th>actual</th>\n",
       "      <th></th>\n",
       "    </tr>\n",
       "  </thead>\n",
       "  <tbody>\n",
       "    <tr>\n",
       "      <th>0</th>\n",
       "      <td>51</td>\n",
       "    </tr>\n",
       "    <tr>\n",
       "      <th>1</th>\n",
       "      <td>118</td>\n",
       "    </tr>\n",
       "    <tr>\n",
       "      <th>2</th>\n",
       "      <td>104</td>\n",
       "    </tr>\n",
       "  </tbody>\n",
       "</table>\n",
       "</div>"
      ],
      "text/plain": [
       "prediction    1\n",
       "actual         \n",
       "0            51\n",
       "1           118\n",
       "2           104"
      ]
     },
     "execution_count": 317,
     "metadata": {},
     "output_type": "execute_result"
    }
   ],
   "source": [
    "pd.crosstab(index=combined[\"actual\"], columns= combined[\"prediction\"])"
   ]
  },
  {
   "cell_type": "code",
   "execution_count": 305,
   "id": "93735ffa",
   "metadata": {},
   "outputs": [
    {
     "name": "stdout",
     "output_type": "stream",
     "text": [
      "Precision Score: 0.75\n"
     ]
    }
   ],
   "source": [
    "from sklearn.metrics import precision_score\n",
    "\n",
    "precision = precision_score(test[\"target\"], preds, average='weighted', zero_division=1)\n",
    "print(\"Precision Score: {:.2f}\".format(precision))"
   ]
  },
  {
   "cell_type": "code",
   "execution_count": 318,
   "id": "a5a7f871",
   "metadata": {},
   "outputs": [
    {
     "name": "stdout",
     "output_type": "stream",
     "text": [
      "F1 Score: 0.26\n"
     ]
    }
   ],
   "source": [
    "from sklearn.metrics import f1_score\n",
    "\n",
    "f1 = f1_score(test[\"target\"], preds, average='weighted')\n",
    "print(\"F1 Score: {:.2f}\".format(f1))\n",
    "\n"
   ]
  },
  {
   "cell_type": "code",
   "execution_count": null,
   "id": "0dbb79c9",
   "metadata": {},
   "outputs": [],
   "source": []
  }
 ],
 "metadata": {
  "kernelspec": {
   "display_name": "Python 3 (ipykernel)",
   "language": "python",
   "name": "python3"
  },
  "language_info": {
   "codemirror_mode": {
    "name": "ipython",
    "version": 3
   },
   "file_extension": ".py",
   "mimetype": "text/x-python",
   "name": "python",
   "nbconvert_exporter": "python",
   "pygments_lexer": "ipython3",
   "version": "3.10.9"
  }
 },
 "nbformat": 4,
 "nbformat_minor": 5
}
