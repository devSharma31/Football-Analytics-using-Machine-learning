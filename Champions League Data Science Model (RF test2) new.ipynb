{
 "cells": [
  {
   "cell_type": "code",
   "execution_count": 1,
   "id": "142ba6d9",
   "metadata": {},
   "outputs": [],
   "source": [
    "# Importing necessary libraries\n",
    "import pandas as pd\n",
    "import numpy as np\n",
    "import matplotlib.pyplot as plt\n",
    "import seaborn as sns"
   ]
  },
  {
   "cell_type": "code",
   "execution_count": 2,
   "id": "c3d90581",
   "metadata": {},
   "outputs": [],
   "source": [
    "path = r'C:\\Users\\Administrator\\Desktop\\Data Science project\\archive\\UEFA Champions League 2016-2022 Data.xlsx'"
   ]
  },
  {
   "cell_type": "code",
   "execution_count": 3,
   "id": "22e5134d",
   "metadata": {},
   "outputs": [],
   "source": [
    "goals = pd.read_excel(path, sheet_name = 'goals')\n",
    "managers = pd.read_excel(path, sheet_name = 'managers')\n",
    "matches = pd.read_excel(path, sheet_name = 'matches')\n",
    "players = pd.read_excel(path, sheet_name = 'players')\n",
    "stadiums = pd.read_excel(path, sheet_name = 'stadiums')\n",
    "teams = pd.read_excel(path, sheet_name = 'teams')"
   ]
  },
  {
   "cell_type": "code",
   "execution_count": 4,
   "id": "e1f594aa",
   "metadata": {},
   "outputs": [],
   "source": [
    "# function for changing columns to lower case\n",
    "def lower(df):\n",
    "    df.columns = df.columns.str.lower()\n",
    "    return df"
   ]
  },
  {
   "cell_type": "code",
   "execution_count": 5,
   "id": "0d37443a",
   "metadata": {},
   "outputs": [],
   "source": [
    "# Applying function for every dataframe\n",
    "goal = lower(goals)\n",
    "match = lower(matches)\n",
    "stadium = lower(stadiums)\n",
    "player = lower(players)\n",
    "manager = lower(managers)\n",
    "team = lower(teams)"
   ]
  },
  {
   "cell_type": "code",
   "execution_count": 6,
   "id": "aa6cda51",
   "metadata": {},
   "outputs": [],
   "source": [
    "matches['result'] = 'D'  # Set default value as 'D' (draw)\n",
    "\n",
    "# Update result based on home_team_score and away_team_score\n",
    "matches.loc[matches['home_team_score'] > matches['away_team_score'], 'result'] = 'W'\n",
    "matches.loc[matches['home_team_score'] < matches['away_team_score'], 'result'] = 'L'\n"
   ]
  },
  {
   "cell_type": "code",
   "execution_count": 7,
   "id": "ca76e0fc",
   "metadata": {},
   "outputs": [],
   "source": [
    "matches['season'] = matches['season'].apply(lambda x: int(x.split('-')[0]))"
   ]
  },
  {
   "cell_type": "code",
   "execution_count": 8,
   "id": "fa62ba3c",
   "metadata": {},
   "outputs": [],
   "source": [
    "match[\"date_time\"] = pd.to_datetime(match[\"date_time\"], format=\"%d-%b-%y %I.%M.%S.%f000000 %p\")"
   ]
  },
  {
   "cell_type": "code",
   "execution_count": 9,
   "id": "b034fc30",
   "metadata": {},
   "outputs": [],
   "source": [
    " # Convert date column to timestamp\n",
    "matches['timestamp'] = matches['date_time'].apply(lambda x: x.timestamp())"
   ]
  },
  {
   "cell_type": "code",
   "execution_count": 10,
   "id": "7b1f017a",
   "metadata": {},
   "outputs": [
    {
     "data": {
      "text/plain": [
       "match_id                     object\n",
       "season                        int64\n",
       "date_time            datetime64[ns]\n",
       "home_team                    object\n",
       "away_team                    object\n",
       "stadium                      object\n",
       "home_team_score               int64\n",
       "away_team_score               int64\n",
       "penalty_shoot_out             int64\n",
       "attendance                    int64\n",
       "result                       object\n",
       "timestamp                   float64\n",
       "dtype: object"
      ]
     },
     "execution_count": 10,
     "metadata": {},
     "output_type": "execute_result"
    }
   ],
   "source": [
    "match.dtypes"
   ]
  },
  {
   "cell_type": "code",
   "execution_count": 11,
   "id": "3bd170db",
   "metadata": {},
   "outputs": [],
   "source": [
    "matches.rename(columns={'home_team': 'team', 'away_team': 'opponent'}, inplace=True)\n"
   ]
  },
  {
   "cell_type": "code",
   "execution_count": 12,
   "id": "521ed6c1",
   "metadata": {},
   "outputs": [],
   "source": [
    "matches['opp_code'] = matches['opponent'].astype(\"category\").cat.codes"
   ]
  },
  {
   "cell_type": "code",
   "execution_count": 13,
   "id": "897e4390",
   "metadata": {},
   "outputs": [],
   "source": [
    "matches[\"day_code\"]=matches[\"date_time\"].dt.dayofweek"
   ]
  },
  {
   "cell_type": "code",
   "execution_count": 14,
   "id": "08f429fc",
   "metadata": {},
   "outputs": [],
   "source": [
    "matches['venue_code'] = np.where(matches['team']==matches['team'], 1, 0)\n"
   ]
  },
  {
   "cell_type": "code",
   "execution_count": 15,
   "id": "d0c11ba9",
   "metadata": {},
   "outputs": [],
   "source": [
    "matches[\"target\"] = matches[\"result\"].map({\"W\": 1, \"L\": 2, \"D\": 0}).astype(\"int\")\n"
   ]
  },
  {
   "cell_type": "code",
   "execution_count": 16,
   "id": "59c4bf6a",
   "metadata": {},
   "outputs": [],
   "source": [
    "target = \"target\"\n",
    "\n",
    "# Create a dictionary to keep track of each team's win count\n",
    "team_wins = {}\n",
    "\n",
    "# Loop through each match\n",
    "for i, match in matches.iterrows():\n",
    "\n",
    "    # Get home and away team names and match result\n",
    "    home_team = match['team']\n",
    "    away_team = match['opponent']\n",
    "    result = match['result']\n",
    "\n",
    "    # Update home team's win count\n",
    "    if result == \"W\":\n",
    "        if home_team not in team_wins:\n",
    "            team_wins[home_team] = 0\n",
    "        team_wins[home_team] += 1\n",
    "\n",
    "    # Update away team's win count\n",
    "    elif result == \"L\":\n",
    "        if away_team not in team_wins:\n",
    "            team_wins[away_team] = 0\n",
    "        team_wins[away_team] += 1\n",
    "\n",
    "# Create a new DataFrame with total wins for each team\n",
    "team_wins_df = pd.DataFrame({'team': list(team_wins.keys()), 'total_wins': list(team_wins.values())})\n",
    "\n"
   ]
  },
  {
   "cell_type": "code",
   "execution_count": 17,
   "id": "e0aa2e88",
   "metadata": {},
   "outputs": [],
   "source": [
    "from sklearn.model_selection import train_test_split"
   ]
  },
  {
   "cell_type": "code",
   "execution_count": 18,
   "id": "401e425c",
   "metadata": {},
   "outputs": [],
   "source": [
    "matches = pd.merge(matches, team_wins_df, on='team', how='left')"
   ]
  },
  {
   "cell_type": "code",
   "execution_count": 19,
   "id": "30a9cc19",
   "metadata": {},
   "outputs": [],
   "source": [
    "# Merge the team_wins_df DataFrame with the train and test DataFrames on the team name\n",
    "#train = pd.merge(matches, team_wins_df, on='team', how='left')\n",
    "#test = pd.merge(matches, team_wins_df, on='team', how='left')"
   ]
  },
  {
   "cell_type": "code",
   "execution_count": 20,
   "id": "94fa71bf",
   "metadata": {},
   "outputs": [],
   "source": [
    "matches['total_wins'] = matches['total_wins'].fillna(method='ffill')"
   ]
  },
  {
   "cell_type": "code",
   "execution_count": 21,
   "id": "78366754",
   "metadata": {},
   "outputs": [],
   "source": [
    "# Group data by team name and calculate most goals scored by that team\n",
    "matches['total_goals'] = matches['home_team_score'].groupby(matches['team']).transform('sum')\n"
   ]
  },
  {
   "cell_type": "code",
   "execution_count": 22,
   "id": "3166868c",
   "metadata": {},
   "outputs": [],
   "source": [
    "# Count number of appearances for each team in the dataset\n",
    "appearances = matches['team'].value_counts()"
   ]
  },
  {
   "cell_type": "code",
   "execution_count": 23,
   "id": "36d20ac3",
   "metadata": {},
   "outputs": [],
   "source": [
    "# Add new feature 'appearances' to the matches dataframe\n",
    "matches['appearances'] = matches['team'].map(appearances)"
   ]
  },
  {
   "cell_type": "code",
   "execution_count": 24,
   "id": "5cf23610",
   "metadata": {},
   "outputs": [
    {
     "data": {
      "text/html": [
       "<div>\n",
       "<style scoped>\n",
       "    .dataframe tbody tr th:only-of-type {\n",
       "        vertical-align: middle;\n",
       "    }\n",
       "\n",
       "    .dataframe tbody tr th {\n",
       "        vertical-align: top;\n",
       "    }\n",
       "\n",
       "    .dataframe thead th {\n",
       "        text-align: right;\n",
       "    }\n",
       "</style>\n",
       "<table border=\"1\" class=\"dataframe\">\n",
       "  <thead>\n",
       "    <tr style=\"text-align: right;\">\n",
       "      <th></th>\n",
       "      <th>match_id</th>\n",
       "      <th>season</th>\n",
       "      <th>date_time</th>\n",
       "      <th>team</th>\n",
       "      <th>opponent</th>\n",
       "      <th>stadium</th>\n",
       "      <th>home_team_score</th>\n",
       "      <th>away_team_score</th>\n",
       "      <th>penalty_shoot_out</th>\n",
       "      <th>attendance</th>\n",
       "      <th>result</th>\n",
       "      <th>timestamp</th>\n",
       "      <th>opp_code</th>\n",
       "      <th>day_code</th>\n",
       "      <th>venue_code</th>\n",
       "      <th>target</th>\n",
       "      <th>total_wins</th>\n",
       "      <th>total_goals</th>\n",
       "      <th>appearances</th>\n",
       "    </tr>\n",
       "  </thead>\n",
       "  <tbody>\n",
       "    <tr>\n",
       "      <th>0</th>\n",
       "      <td>mt1</td>\n",
       "      <td>2021</td>\n",
       "      <td>2021-09-15 20:00:00</td>\n",
       "      <td>Manchester City</td>\n",
       "      <td>RB Leipzig</td>\n",
       "      <td>Etihad Stadium</td>\n",
       "      <td>6</td>\n",
       "      <td>3</td>\n",
       "      <td>0</td>\n",
       "      <td>38062</td>\n",
       "      <td>W</td>\n",
       "      <td>1.631736e+09</td>\n",
       "      <td>55</td>\n",
       "      <td>2</td>\n",
       "      <td>1</td>\n",
       "      <td>1</td>\n",
       "      <td>40.0</td>\n",
       "      <td>83</td>\n",
       "      <td>32</td>\n",
       "    </tr>\n",
       "    <tr>\n",
       "      <th>1</th>\n",
       "      <td>mt2</td>\n",
       "      <td>2021</td>\n",
       "      <td>2021-09-15 20:00:00</td>\n",
       "      <td>Club Brugge KV</td>\n",
       "      <td>Paris Saint-Germain</td>\n",
       "      <td>Jan Breydel Stadion</td>\n",
       "      <td>1</td>\n",
       "      <td>1</td>\n",
       "      <td>0</td>\n",
       "      <td>27546</td>\n",
       "      <td>D</td>\n",
       "      <td>1.631736e+09</td>\n",
       "      <td>53</td>\n",
       "      <td>2</td>\n",
       "      <td>1</td>\n",
       "      <td>0</td>\n",
       "      <td>4.0</td>\n",
       "      <td>9</td>\n",
       "      <td>15</td>\n",
       "    </tr>\n",
       "    <tr>\n",
       "      <th>2</th>\n",
       "      <td>mt3</td>\n",
       "      <td>2021</td>\n",
       "      <td>2021-09-28 20:00:00</td>\n",
       "      <td>Paris Saint-Germain</td>\n",
       "      <td>Manchester City</td>\n",
       "      <td>Parc des Princes</td>\n",
       "      <td>2</td>\n",
       "      <td>0</td>\n",
       "      <td>0</td>\n",
       "      <td>37350</td>\n",
       "      <td>W</td>\n",
       "      <td>1.632859e+09</td>\n",
       "      <td>45</td>\n",
       "      <td>1</td>\n",
       "      <td>1</td>\n",
       "      <td>1</td>\n",
       "      <td>31.0</td>\n",
       "      <td>67</td>\n",
       "      <td>27</td>\n",
       "    </tr>\n",
       "    <tr>\n",
       "      <th>3</th>\n",
       "      <td>mt4</td>\n",
       "      <td>2021</td>\n",
       "      <td>2021-09-28 20:00:00</td>\n",
       "      <td>RB Leipzig</td>\n",
       "      <td>Club Brugge KV</td>\n",
       "      <td>Red Bull Arena</td>\n",
       "      <td>1</td>\n",
       "      <td>2</td>\n",
       "      <td>0</td>\n",
       "      <td>23500</td>\n",
       "      <td>L</td>\n",
       "      <td>1.632859e+09</td>\n",
       "      <td>19</td>\n",
       "      <td>1</td>\n",
       "      <td>1</td>\n",
       "      <td>2</td>\n",
       "      <td>14.0</td>\n",
       "      <td>26</td>\n",
       "      <td>16</td>\n",
       "    </tr>\n",
       "    <tr>\n",
       "      <th>4</th>\n",
       "      <td>mt5</td>\n",
       "      <td>2021</td>\n",
       "      <td>2021-10-19 17:45:00</td>\n",
       "      <td>Club Brugge KV</td>\n",
       "      <td>Manchester City</td>\n",
       "      <td>Jan Breydel Stadion</td>\n",
       "      <td>1</td>\n",
       "      <td>5</td>\n",
       "      <td>0</td>\n",
       "      <td>24915</td>\n",
       "      <td>L</td>\n",
       "      <td>1.634666e+09</td>\n",
       "      <td>45</td>\n",
       "      <td>1</td>\n",
       "      <td>1</td>\n",
       "      <td>2</td>\n",
       "      <td>4.0</td>\n",
       "      <td>9</td>\n",
       "      <td>15</td>\n",
       "    </tr>\n",
       "    <tr>\n",
       "      <th>5</th>\n",
       "      <td>mt6</td>\n",
       "      <td>2021</td>\n",
       "      <td>2021-10-19 20:00:00</td>\n",
       "      <td>Paris Saint-Germain</td>\n",
       "      <td>RB Leipzig</td>\n",
       "      <td>Parc des Princes</td>\n",
       "      <td>3</td>\n",
       "      <td>2</td>\n",
       "      <td>0</td>\n",
       "      <td>47359</td>\n",
       "      <td>W</td>\n",
       "      <td>1.634674e+09</td>\n",
       "      <td>55</td>\n",
       "      <td>1</td>\n",
       "      <td>1</td>\n",
       "      <td>1</td>\n",
       "      <td>31.0</td>\n",
       "      <td>67</td>\n",
       "      <td>27</td>\n",
       "    </tr>\n",
       "    <tr>\n",
       "      <th>6</th>\n",
       "      <td>mt7</td>\n",
       "      <td>2021</td>\n",
       "      <td>2021-11-03 20:00:00</td>\n",
       "      <td>RB Leipzig</td>\n",
       "      <td>Paris Saint-Germain</td>\n",
       "      <td>Red Bull Arena</td>\n",
       "      <td>2</td>\n",
       "      <td>2</td>\n",
       "      <td>0</td>\n",
       "      <td>39794</td>\n",
       "      <td>D</td>\n",
       "      <td>1.635970e+09</td>\n",
       "      <td>53</td>\n",
       "      <td>2</td>\n",
       "      <td>1</td>\n",
       "      <td>0</td>\n",
       "      <td>14.0</td>\n",
       "      <td>26</td>\n",
       "      <td>16</td>\n",
       "    </tr>\n",
       "    <tr>\n",
       "      <th>7</th>\n",
       "      <td>mt8</td>\n",
       "      <td>2021</td>\n",
       "      <td>2021-11-03 20:00:00</td>\n",
       "      <td>Manchester City</td>\n",
       "      <td>Club Brugge KV</td>\n",
       "      <td>Etihad Stadium</td>\n",
       "      <td>4</td>\n",
       "      <td>1</td>\n",
       "      <td>0</td>\n",
       "      <td>50228</td>\n",
       "      <td>W</td>\n",
       "      <td>1.635970e+09</td>\n",
       "      <td>19</td>\n",
       "      <td>2</td>\n",
       "      <td>1</td>\n",
       "      <td>1</td>\n",
       "      <td>40.0</td>\n",
       "      <td>83</td>\n",
       "      <td>32</td>\n",
       "    </tr>\n",
       "    <tr>\n",
       "      <th>8</th>\n",
       "      <td>mt9</td>\n",
       "      <td>2021</td>\n",
       "      <td>2021-11-24 20:00:00</td>\n",
       "      <td>Manchester City</td>\n",
       "      <td>Paris Saint-Germain</td>\n",
       "      <td>Etihad Stadium</td>\n",
       "      <td>2</td>\n",
       "      <td>1</td>\n",
       "      <td>0</td>\n",
       "      <td>52030</td>\n",
       "      <td>W</td>\n",
       "      <td>1.637784e+09</td>\n",
       "      <td>53</td>\n",
       "      <td>2</td>\n",
       "      <td>1</td>\n",
       "      <td>1</td>\n",
       "      <td>40.0</td>\n",
       "      <td>83</td>\n",
       "      <td>32</td>\n",
       "    </tr>\n",
       "    <tr>\n",
       "      <th>9</th>\n",
       "      <td>mt10</td>\n",
       "      <td>2021</td>\n",
       "      <td>2021-11-24 20:00:00</td>\n",
       "      <td>Club Brugge KV</td>\n",
       "      <td>RB Leipzig</td>\n",
       "      <td>Jan Breydel Stadion</td>\n",
       "      <td>0</td>\n",
       "      <td>5</td>\n",
       "      <td>0</td>\n",
       "      <td>24072</td>\n",
       "      <td>L</td>\n",
       "      <td>1.637784e+09</td>\n",
       "      <td>55</td>\n",
       "      <td>2</td>\n",
       "      <td>1</td>\n",
       "      <td>2</td>\n",
       "      <td>4.0</td>\n",
       "      <td>9</td>\n",
       "      <td>15</td>\n",
       "    </tr>\n",
       "  </tbody>\n",
       "</table>\n",
       "</div>"
      ],
      "text/plain": [
       "  match_id  season           date_time                 team  \\\n",
       "0      mt1    2021 2021-09-15 20:00:00      Manchester City   \n",
       "1      mt2    2021 2021-09-15 20:00:00       Club Brugge KV   \n",
       "2      mt3    2021 2021-09-28 20:00:00  Paris Saint-Germain   \n",
       "3      mt4    2021 2021-09-28 20:00:00           RB Leipzig   \n",
       "4      mt5    2021 2021-10-19 17:45:00       Club Brugge KV   \n",
       "5      mt6    2021 2021-10-19 20:00:00  Paris Saint-Germain   \n",
       "6      mt7    2021 2021-11-03 20:00:00           RB Leipzig   \n",
       "7      mt8    2021 2021-11-03 20:00:00      Manchester City   \n",
       "8      mt9    2021 2021-11-24 20:00:00      Manchester City   \n",
       "9     mt10    2021 2021-11-24 20:00:00       Club Brugge KV   \n",
       "\n",
       "              opponent              stadium  home_team_score  away_team_score  \\\n",
       "0           RB Leipzig       Etihad Stadium                6                3   \n",
       "1  Paris Saint-Germain  Jan Breydel Stadion                1                1   \n",
       "2      Manchester City     Parc des Princes                2                0   \n",
       "3       Club Brugge KV       Red Bull Arena                1                2   \n",
       "4      Manchester City  Jan Breydel Stadion                1                5   \n",
       "5           RB Leipzig     Parc des Princes                3                2   \n",
       "6  Paris Saint-Germain       Red Bull Arena                2                2   \n",
       "7       Club Brugge KV       Etihad Stadium                4                1   \n",
       "8  Paris Saint-Germain       Etihad Stadium                2                1   \n",
       "9           RB Leipzig  Jan Breydel Stadion                0                5   \n",
       "\n",
       "   penalty_shoot_out  attendance result     timestamp  opp_code  day_code  \\\n",
       "0                  0       38062      W  1.631736e+09        55         2   \n",
       "1                  0       27546      D  1.631736e+09        53         2   \n",
       "2                  0       37350      W  1.632859e+09        45         1   \n",
       "3                  0       23500      L  1.632859e+09        19         1   \n",
       "4                  0       24915      L  1.634666e+09        45         1   \n",
       "5                  0       47359      W  1.634674e+09        55         1   \n",
       "6                  0       39794      D  1.635970e+09        53         2   \n",
       "7                  0       50228      W  1.635970e+09        19         2   \n",
       "8                  0       52030      W  1.637784e+09        53         2   \n",
       "9                  0       24072      L  1.637784e+09        55         2   \n",
       "\n",
       "   venue_code  target  total_wins  total_goals  appearances  \n",
       "0           1       1        40.0           83           32  \n",
       "1           1       0         4.0            9           15  \n",
       "2           1       1        31.0           67           27  \n",
       "3           1       2        14.0           26           16  \n",
       "4           1       2         4.0            9           15  \n",
       "5           1       1        31.0           67           27  \n",
       "6           1       0        14.0           26           16  \n",
       "7           1       1        40.0           83           32  \n",
       "8           1       1        40.0           83           32  \n",
       "9           1       2         4.0            9           15  "
      ]
     },
     "execution_count": 24,
     "metadata": {},
     "output_type": "execute_result"
    }
   ],
   "source": [
    "matches.head(10)"
   ]
  },
  {
   "cell_type": "code",
   "execution_count": 25,
   "id": "3c669f9d",
   "metadata": {},
   "outputs": [],
   "source": [
    "train=matches[matches[\"date_time\"]< '2022-06-01']"
   ]
  },
  {
   "cell_type": "code",
   "execution_count": 26,
   "id": "7be05d18",
   "metadata": {},
   "outputs": [],
   "source": [
    "test = matches[matches[\"date_time\"] > '2016-01-01']"
   ]
  },
  {
   "cell_type": "code",
   "execution_count": 27,
   "id": "627722a1",
   "metadata": {},
   "outputs": [],
   "source": [
    "# Define the predictors\n",
    "predictors = [\"venue_code\", \"opp_code\", \"day_code\", \"total_wins\", \"total_goals\", \"appearances\"]"
   ]
  },
  {
   "cell_type": "code",
   "execution_count": 28,
   "id": "45d9c143",
   "metadata": {},
   "outputs": [],
   "source": [
    "from sklearn.impute import SimpleImputer\n",
    "\n",
    "imputer = SimpleImputer(strategy='mean')\n",
    "train[predictors] = imputer.fit_transform(train[predictors])\n",
    "test[predictors] = imputer.transform(test[predictors])"
   ]
  },
  {
   "cell_type": "code",
   "execution_count": 29,
   "id": "f397e4a6",
   "metadata": {},
   "outputs": [],
   "source": [
    "from sklearn.ensemble import RandomForestClassifier"
   ]
  },
  {
   "cell_type": "code",
   "execution_count": 103,
   "id": "f69e7e2f",
   "metadata": {},
   "outputs": [],
   "source": [
    "from sklearn.ensemble import RandomForestClassifier\n",
    "\n",
    "rf = RandomForestClassifier(n_estimators=50, min_samples_split=8, random_state=1)\n"
   ]
  },
  {
   "cell_type": "code",
   "execution_count": 104,
   "id": "914b85ae",
   "metadata": {},
   "outputs": [
    {
     "data": {
      "text/html": [
       "<style>#sk-container-id-8 {color: black;background-color: white;}#sk-container-id-8 pre{padding: 0;}#sk-container-id-8 div.sk-toggleable {background-color: white;}#sk-container-id-8 label.sk-toggleable__label {cursor: pointer;display: block;width: 100%;margin-bottom: 0;padding: 0.3em;box-sizing: border-box;text-align: center;}#sk-container-id-8 label.sk-toggleable__label-arrow:before {content: \"▸\";float: left;margin-right: 0.25em;color: #696969;}#sk-container-id-8 label.sk-toggleable__label-arrow:hover:before {color: black;}#sk-container-id-8 div.sk-estimator:hover label.sk-toggleable__label-arrow:before {color: black;}#sk-container-id-8 div.sk-toggleable__content {max-height: 0;max-width: 0;overflow: hidden;text-align: left;background-color: #f0f8ff;}#sk-container-id-8 div.sk-toggleable__content pre {margin: 0.2em;color: black;border-radius: 0.25em;background-color: #f0f8ff;}#sk-container-id-8 input.sk-toggleable__control:checked~div.sk-toggleable__content {max-height: 200px;max-width: 100%;overflow: auto;}#sk-container-id-8 input.sk-toggleable__control:checked~label.sk-toggleable__label-arrow:before {content: \"▾\";}#sk-container-id-8 div.sk-estimator input.sk-toggleable__control:checked~label.sk-toggleable__label {background-color: #d4ebff;}#sk-container-id-8 div.sk-label input.sk-toggleable__control:checked~label.sk-toggleable__label {background-color: #d4ebff;}#sk-container-id-8 input.sk-hidden--visually {border: 0;clip: rect(1px 1px 1px 1px);clip: rect(1px, 1px, 1px, 1px);height: 1px;margin: -1px;overflow: hidden;padding: 0;position: absolute;width: 1px;}#sk-container-id-8 div.sk-estimator {font-family: monospace;background-color: #f0f8ff;border: 1px dotted black;border-radius: 0.25em;box-sizing: border-box;margin-bottom: 0.5em;}#sk-container-id-8 div.sk-estimator:hover {background-color: #d4ebff;}#sk-container-id-8 div.sk-parallel-item::after {content: \"\";width: 100%;border-bottom: 1px solid gray;flex-grow: 1;}#sk-container-id-8 div.sk-label:hover label.sk-toggleable__label {background-color: #d4ebff;}#sk-container-id-8 div.sk-serial::before {content: \"\";position: absolute;border-left: 1px solid gray;box-sizing: border-box;top: 0;bottom: 0;left: 50%;z-index: 0;}#sk-container-id-8 div.sk-serial {display: flex;flex-direction: column;align-items: center;background-color: white;padding-right: 0.2em;padding-left: 0.2em;position: relative;}#sk-container-id-8 div.sk-item {position: relative;z-index: 1;}#sk-container-id-8 div.sk-parallel {display: flex;align-items: stretch;justify-content: center;background-color: white;position: relative;}#sk-container-id-8 div.sk-item::before, #sk-container-id-8 div.sk-parallel-item::before {content: \"\";position: absolute;border-left: 1px solid gray;box-sizing: border-box;top: 0;bottom: 0;left: 50%;z-index: -1;}#sk-container-id-8 div.sk-parallel-item {display: flex;flex-direction: column;z-index: 1;position: relative;background-color: white;}#sk-container-id-8 div.sk-parallel-item:first-child::after {align-self: flex-end;width: 50%;}#sk-container-id-8 div.sk-parallel-item:last-child::after {align-self: flex-start;width: 50%;}#sk-container-id-8 div.sk-parallel-item:only-child::after {width: 0;}#sk-container-id-8 div.sk-dashed-wrapped {border: 1px dashed gray;margin: 0 0.4em 0.5em 0.4em;box-sizing: border-box;padding-bottom: 0.4em;background-color: white;}#sk-container-id-8 div.sk-label label {font-family: monospace;font-weight: bold;display: inline-block;line-height: 1.2em;}#sk-container-id-8 div.sk-label-container {text-align: center;}#sk-container-id-8 div.sk-container {/* jupyter's `normalize.less` sets `[hidden] { display: none; }` but bootstrap.min.css set `[hidden] { display: none !important; }` so we also need the `!important` here to be able to override the default hidden behavior on the sphinx rendered scikit-learn.org. See: https://github.com/scikit-learn/scikit-learn/issues/21755 */display: inline-block !important;position: relative;}#sk-container-id-8 div.sk-text-repr-fallback {display: none;}</style><div id=\"sk-container-id-8\" class=\"sk-top-container\"><div class=\"sk-text-repr-fallback\"><pre>RandomForestClassifier(min_samples_split=8, n_estimators=50, random_state=1)</pre><b>In a Jupyter environment, please rerun this cell to show the HTML representation or trust the notebook. <br />On GitHub, the HTML representation is unable to render, please try loading this page with nbviewer.org.</b></div><div class=\"sk-container\" hidden><div class=\"sk-item\"><div class=\"sk-estimator sk-toggleable\"><input class=\"sk-toggleable__control sk-hidden--visually\" id=\"sk-estimator-id-12\" type=\"checkbox\" checked><label for=\"sk-estimator-id-12\" class=\"sk-toggleable__label sk-toggleable__label-arrow\">RandomForestClassifier</label><div class=\"sk-toggleable__content\"><pre>RandomForestClassifier(min_samples_split=8, n_estimators=50, random_state=1)</pre></div></div></div></div></div>"
      ],
      "text/plain": [
       "RandomForestClassifier(min_samples_split=8, n_estimators=50, random_state=1)"
      ]
     },
     "execution_count": 104,
     "metadata": {},
     "output_type": "execute_result"
    }
   ],
   "source": [
    "rf.fit(train[predictors], train[\"target\"])"
   ]
  },
  {
   "cell_type": "code",
   "execution_count": 105,
   "id": "e57b933f",
   "metadata": {},
   "outputs": [],
   "source": [
    "preds=rf.predict(test[predictors])"
   ]
  },
  {
   "cell_type": "code",
   "execution_count": 106,
   "id": "0eb85faf",
   "metadata": {},
   "outputs": [
    {
     "name": "stdout",
     "output_type": "stream",
     "text": [
      "Accuracy: 0.7647849462365591\n"
     ]
    }
   ],
   "source": [
    "from sklearn.metrics import accuracy_score\n",
    "\n",
    "accuracy = accuracy_score(test[\"target\"], preds)\n",
    "print(\"Accuracy:\", accuracy)\n"
   ]
  },
  {
   "cell_type": "code",
   "execution_count": 107,
   "id": "c4e947c9",
   "metadata": {},
   "outputs": [
    {
     "name": "stdout",
     "output_type": "stream",
     "text": [
      "     target  predicted\n",
      "0         1          1\n",
      "1         0          2\n",
      "2         1          1\n",
      "3         2          1\n",
      "4         2          2\n",
      "..      ...        ...\n",
      "739       1          1\n",
      "740       2          2\n",
      "741       1          1\n",
      "742       1          1\n",
      "743       2          2\n",
      "\n",
      "[744 rows x 2 columns]\n"
     ]
    }
   ],
   "source": [
    "result_df = pd.concat([test['target'], pd.Series(preds, name='predicted', index=test.index)], axis=1)\n",
    "print(result_df)"
   ]
  },
  {
   "cell_type": "code",
   "execution_count": 108,
   "id": "f07ffa29",
   "metadata": {},
   "outputs": [
    {
     "name": "stdout",
     "output_type": "stream",
     "text": [
      "[[ 69  49  41]\n",
      " [  9 298  20]\n",
      " [  5  51 202]]\n"
     ]
    }
   ],
   "source": [
    "from sklearn.metrics import confusion_matrix\n",
    "\n",
    "# Generate confusion matrix\n",
    "cm = confusion_matrix(test[\"target\"], preds)\n",
    "print(cm)\n"
   ]
  },
  {
   "cell_type": "code",
   "execution_count": 117,
   "id": "1b2d5124",
   "metadata": {},
   "outputs": [
    {
     "data": {
      "image/png": "[encoded data removed]",
      "text/plain": [
       "<Figure size 640x480 with 2 Axes>"
      ]
     },
     "metadata": {},
     "output_type": "display_data"
    }
   ],
   "source": [
    "import seaborn as sns\n",
    "import matplotlib.pyplot as plt\n",
    "\n",
    "# Plot heatmap of confusion matrix\n",
    "sns.heatmap(cm, annot=True, cmap=\"Blues\", fmt=\"d\", xticklabels=[\"D\", \"W\", \"L\"], yticklabels=[\"D\", \"W\", \"L\"])\n",
    "plt.xlabel(\"Predicted\")\n",
    "plt.ylabel(\"Actual\")\n",
    "plt.show()\n"
   ]
  },
  {
   "cell_type": "code",
   "execution_count": 110,
   "id": "85a49ca0",
   "metadata": {},
   "outputs": [],
   "source": [
    "combined=pd.DataFrame(dict(actual=test[\"target\"], prediction=preds))"
   ]
  },
  {
   "cell_type": "code",
   "execution_count": 111,
   "id": "90ae3949",
   "metadata": {},
   "outputs": [
    {
     "data": {
      "text/html": [
       "<div>\n",
       "<style scoped>\n",
       "    .dataframe tbody tr th:only-of-type {\n",
       "        vertical-align: middle;\n",
       "    }\n",
       "\n",
       "    .dataframe tbody tr th {\n",
       "        vertical-align: top;\n",
       "    }\n",
       "\n",
       "    .dataframe thead th {\n",
       "        text-align: right;\n",
       "    }\n",
       "</style>\n",
       "<table border=\"1\" class=\"dataframe\">\n",
       "  <thead>\n",
       "    <tr style=\"text-align: right;\">\n",
       "      <th>prediction</th>\n",
       "      <th>0</th>\n",
       "      <th>1</th>\n",
       "      <th>2</th>\n",
       "    </tr>\n",
       "    <tr>\n",
       "      <th>actual</th>\n",
       "      <th></th>\n",
       "      <th></th>\n",
       "      <th></th>\n",
       "    </tr>\n",
       "  </thead>\n",
       "  <tbody>\n",
       "    <tr>\n",
       "      <th>0</th>\n",
       "      <td>69</td>\n",
       "      <td>49</td>\n",
       "      <td>41</td>\n",
       "    </tr>\n",
       "    <tr>\n",
       "      <th>1</th>\n",
       "      <td>9</td>\n",
       "      <td>298</td>\n",
       "      <td>20</td>\n",
       "    </tr>\n",
       "    <tr>\n",
       "      <th>2</th>\n",
       "      <td>5</td>\n",
       "      <td>51</td>\n",
       "      <td>202</td>\n",
       "    </tr>\n",
       "  </tbody>\n",
       "</table>\n",
       "</div>"
      ],
      "text/plain": [
       "prediction   0    1    2\n",
       "actual                  \n",
       "0           69   49   41\n",
       "1            9  298   20\n",
       "2            5   51  202"
      ]
     },
     "execution_count": 111,
     "metadata": {},
     "output_type": "execute_result"
    }
   ],
   "source": [
    "pd.crosstab(index=combined[\"actual\"], columns= combined[\"prediction\"])"
   ]
  },
  {
   "cell_type": "code",
   "execution_count": 112,
   "id": "7e0cc1f0",
   "metadata": {},
   "outputs": [
    {
     "name": "stdout",
     "output_type": "stream",
     "text": [
      "Precision Score: 0.77\n"
     ]
    }
   ],
   "source": [
    "from sklearn.metrics import precision_score\n",
    "\n",
    "precision = precision_score(test[\"target\"], preds, average='weighted', zero_division=1)\n",
    "print(\"Precision Score: {:.2f}\".format(precision))\n"
   ]
  },
  {
   "cell_type": "code",
   "execution_count": 113,
   "id": "889728df",
   "metadata": {},
   "outputs": [
    {
     "name": "stdout",
     "output_type": "stream",
     "text": [
      "F1 Score: 0.75\n"
     ]
    }
   ],
   "source": [
    "from sklearn.metrics import f1_score\n",
    "\n",
    "f1 = f1_score(test[\"target\"], preds, average='weighted')\n",
    "print(\"F1 Score: {:.2f}\".format(f1))\n",
    "\n"
   ]
  },
  {
   "cell_type": "code",
   "execution_count": 114,
   "id": "d24c9dd9",
   "metadata": {},
   "outputs": [
    {
     "data": {
      "text/plain": [
       "['match_prediction_model_rf_test2.joblib']"
      ]
     },
     "execution_count": 114,
     "metadata": {},
     "output_type": "execute_result"
    }
   ],
   "source": [
    "import joblib\n",
    "\n",
    "filename = 'match_prediction_model_rf_test2.joblib'\n",
    "joblib.dump(rf, filename)"
   ]
  },
  {
   "cell_type": "code",
   "execution_count": 115,
   "id": "3760020e",
   "metadata": {},
   "outputs": [
    {
     "data": {
      "text/html": [
       "<div>\n",
       "<style scoped>\n",
       "    .dataframe tbody tr th:only-of-type {\n",
       "        vertical-align: middle;\n",
       "    }\n",
       "\n",
       "    .dataframe tbody tr th {\n",
       "        vertical-align: top;\n",
       "    }\n",
       "\n",
       "    .dataframe thead th {\n",
       "        text-align: right;\n",
       "    }\n",
       "</style>\n",
       "<table border=\"1\" class=\"dataframe\">\n",
       "  <thead>\n",
       "    <tr style=\"text-align: right;\">\n",
       "      <th></th>\n",
       "      <th>match_id</th>\n",
       "      <th>season</th>\n",
       "      <th>date_time</th>\n",
       "      <th>team</th>\n",
       "      <th>opponent</th>\n",
       "      <th>stadium</th>\n",
       "      <th>home_team_score</th>\n",
       "      <th>away_team_score</th>\n",
       "      <th>penalty_shoot_out</th>\n",
       "      <th>attendance</th>\n",
       "      <th>result</th>\n",
       "      <th>timestamp</th>\n",
       "      <th>opp_code</th>\n",
       "      <th>day_code</th>\n",
       "      <th>venue_code</th>\n",
       "      <th>target</th>\n",
       "      <th>total_wins</th>\n",
       "      <th>total_goals</th>\n",
       "      <th>appearances</th>\n",
       "    </tr>\n",
       "  </thead>\n",
       "  <tbody>\n",
       "    <tr>\n",
       "      <th>0</th>\n",
       "      <td>mt1</td>\n",
       "      <td>2021</td>\n",
       "      <td>2021-09-15 20:00:00</td>\n",
       "      <td>Manchester City</td>\n",
       "      <td>RB Leipzig</td>\n",
       "      <td>Etihad Stadium</td>\n",
       "      <td>6</td>\n",
       "      <td>3</td>\n",
       "      <td>0</td>\n",
       "      <td>38062</td>\n",
       "      <td>W</td>\n",
       "      <td>1.631736e+09</td>\n",
       "      <td>55</td>\n",
       "      <td>2</td>\n",
       "      <td>1</td>\n",
       "      <td>1</td>\n",
       "      <td>40.0</td>\n",
       "      <td>83</td>\n",
       "      <td>32</td>\n",
       "    </tr>\n",
       "    <tr>\n",
       "      <th>1</th>\n",
       "      <td>mt2</td>\n",
       "      <td>2021</td>\n",
       "      <td>2021-09-15 20:00:00</td>\n",
       "      <td>Club Brugge KV</td>\n",
       "      <td>Paris Saint-Germain</td>\n",
       "      <td>Jan Breydel Stadion</td>\n",
       "      <td>1</td>\n",
       "      <td>1</td>\n",
       "      <td>0</td>\n",
       "      <td>27546</td>\n",
       "      <td>D</td>\n",
       "      <td>1.631736e+09</td>\n",
       "      <td>53</td>\n",
       "      <td>2</td>\n",
       "      <td>1</td>\n",
       "      <td>0</td>\n",
       "      <td>4.0</td>\n",
       "      <td>9</td>\n",
       "      <td>15</td>\n",
       "    </tr>\n",
       "    <tr>\n",
       "      <th>2</th>\n",
       "      <td>mt3</td>\n",
       "      <td>2021</td>\n",
       "      <td>2021-09-28 20:00:00</td>\n",
       "      <td>Paris Saint-Germain</td>\n",
       "      <td>Manchester City</td>\n",
       "      <td>Parc des Princes</td>\n",
       "      <td>2</td>\n",
       "      <td>0</td>\n",
       "      <td>0</td>\n",
       "      <td>37350</td>\n",
       "      <td>W</td>\n",
       "      <td>1.632859e+09</td>\n",
       "      <td>45</td>\n",
       "      <td>1</td>\n",
       "      <td>1</td>\n",
       "      <td>1</td>\n",
       "      <td>31.0</td>\n",
       "      <td>67</td>\n",
       "      <td>27</td>\n",
       "    </tr>\n",
       "    <tr>\n",
       "      <th>3</th>\n",
       "      <td>mt4</td>\n",
       "      <td>2021</td>\n",
       "      <td>2021-09-28 20:00:00</td>\n",
       "      <td>RB Leipzig</td>\n",
       "      <td>Club Brugge KV</td>\n",
       "      <td>Red Bull Arena</td>\n",
       "      <td>1</td>\n",
       "      <td>2</td>\n",
       "      <td>0</td>\n",
       "      <td>23500</td>\n",
       "      <td>L</td>\n",
       "      <td>1.632859e+09</td>\n",
       "      <td>19</td>\n",
       "      <td>1</td>\n",
       "      <td>1</td>\n",
       "      <td>2</td>\n",
       "      <td>14.0</td>\n",
       "      <td>26</td>\n",
       "      <td>16</td>\n",
       "    </tr>\n",
       "    <tr>\n",
       "      <th>4</th>\n",
       "      <td>mt5</td>\n",
       "      <td>2021</td>\n",
       "      <td>2021-10-19 17:45:00</td>\n",
       "      <td>Club Brugge KV</td>\n",
       "      <td>Manchester City</td>\n",
       "      <td>Jan Breydel Stadion</td>\n",
       "      <td>1</td>\n",
       "      <td>5</td>\n",
       "      <td>0</td>\n",
       "      <td>24915</td>\n",
       "      <td>L</td>\n",
       "      <td>1.634666e+09</td>\n",
       "      <td>45</td>\n",
       "      <td>1</td>\n",
       "      <td>1</td>\n",
       "      <td>2</td>\n",
       "      <td>4.0</td>\n",
       "      <td>9</td>\n",
       "      <td>15</td>\n",
       "    </tr>\n",
       "  </tbody>\n",
       "</table>\n",
       "</div>"
      ],
      "text/plain": [
       "  match_id  season           date_time                 team  \\\n",
       "0      mt1    2021 2021-09-15 20:00:00      Manchester City   \n",
       "1      mt2    2021 2021-09-15 20:00:00       Club Brugge KV   \n",
       "2      mt3    2021 2021-09-28 20:00:00  Paris Saint-Germain   \n",
       "3      mt4    2021 2021-09-28 20:00:00           RB Leipzig   \n",
       "4      mt5    2021 2021-10-19 17:45:00       Club Brugge KV   \n",
       "\n",
       "              opponent              stadium  home_team_score  away_team_score  \\\n",
       "0           RB Leipzig       Etihad Stadium                6                3   \n",
       "1  Paris Saint-Germain  Jan Breydel Stadion                1                1   \n",
       "2      Manchester City     Parc des Princes                2                0   \n",
       "3       Club Brugge KV       Red Bull Arena                1                2   \n",
       "4      Manchester City  Jan Breydel Stadion                1                5   \n",
       "\n",
       "   penalty_shoot_out  attendance result     timestamp  opp_code  day_code  \\\n",
       "0                  0       38062      W  1.631736e+09        55         2   \n",
       "1                  0       27546      D  1.631736e+09        53         2   \n",
       "2                  0       37350      W  1.632859e+09        45         1   \n",
       "3                  0       23500      L  1.632859e+09        19         1   \n",
       "4                  0       24915      L  1.634666e+09        45         1   \n",
       "\n",
       "   venue_code  target  total_wins  total_goals  appearances  \n",
       "0           1       1        40.0           83           32  \n",
       "1           1       0         4.0            9           15  \n",
       "2           1       1        31.0           67           27  \n",
       "3           1       2        14.0           26           16  \n",
       "4           1       2         4.0            9           15  "
      ]
     },
     "execution_count": 115,
     "metadata": {},
     "output_type": "execute_result"
    }
   ],
   "source": [
    "matches.head()"
   ]
  },
  {
   "cell_type": "code",
   "execution_count": 116,
   "id": "ad607a01",
   "metadata": {},
   "outputs": [],
   "source": [
    "matches.to_csv('matches.csv', index=False)\n"
   ]
  },
  {
   "cell_type": "code",
   "execution_count": 71,
   "id": "4bb410ff",
   "metadata": {},
   "outputs": [],
   "source": [
    "from scipy.stats import randint as sp_randint\n",
    "import matplotlib.pyplot as plt"
   ]
  },
  {
   "cell_type": "code",
   "execution_count": 72,
   "id": "27078293",
   "metadata": {},
   "outputs": [],
   "source": [
    "from sklearn.ensemble import GradientBoostingClassifier\n",
    "from sklearn.model_selection import RandomizedSearchCV\n",
    "import numpy as np\n",
    "from sklearn.model_selection import GridSearchCV\n",
    "\n",
    "# define the parameter grid to search over\n",
    "param_grid = {'max_depth': [3, 5, 7, 9], 'learning_rate': [0.001, 0.01, 0.1, 1]}\n",
    "\n",
    "# create a gradient boosting classifier\n",
    "gbc = GradientBoostingClassifier()\n",
    "\n",
    "# create the grid search object\n",
    "gs = GridSearchCV(gbc, param_grid, cv=5)"
   ]
  },
  {
   "cell_type": "code",
   "execution_count": 73,
   "id": "0f52dc76",
   "metadata": {},
   "outputs": [
    {
     "data": {
      "text/html": [
       "<style>#sk-container-id-5 {color: black;background-color: white;}#sk-container-id-5 pre{padding: 0;}#sk-container-id-5 div.sk-toggleable {background-color: white;}#sk-container-id-5 label.sk-toggleable__label {cursor: pointer;display: block;width: 100%;margin-bottom: 0;padding: 0.3em;box-sizing: border-box;text-align: center;}#sk-container-id-5 label.sk-toggleable__label-arrow:before {content: \"▸\";float: left;margin-right: 0.25em;color: #696969;}#sk-container-id-5 label.sk-toggleable__label-arrow:hover:before {color: black;}#sk-container-id-5 div.sk-estimator:hover label.sk-toggleable__label-arrow:before {color: black;}#sk-container-id-5 div.sk-toggleable__content {max-height: 0;max-width: 0;overflow: hidden;text-align: left;background-color: #f0f8ff;}#sk-container-id-5 div.sk-toggleable__content pre {margin: 0.2em;color: black;border-radius: 0.25em;background-color: #f0f8ff;}#sk-container-id-5 input.sk-toggleable__control:checked~div.sk-toggleable__content {max-height: 200px;max-width: 100%;overflow: auto;}#sk-container-id-5 input.sk-toggleable__control:checked~label.sk-toggleable__label-arrow:before {content: \"▾\";}#sk-container-id-5 div.sk-estimator input.sk-toggleable__control:checked~label.sk-toggleable__label {background-color: #d4ebff;}#sk-container-id-5 div.sk-label input.sk-toggleable__control:checked~label.sk-toggleable__label {background-color: #d4ebff;}#sk-container-id-5 input.sk-hidden--visually {border: 0;clip: rect(1px 1px 1px 1px);clip: rect(1px, 1px, 1px, 1px);height: 1px;margin: -1px;overflow: hidden;padding: 0;position: absolute;width: 1px;}#sk-container-id-5 div.sk-estimator {font-family: monospace;background-color: #f0f8ff;border: 1px dotted black;border-radius: 0.25em;box-sizing: border-box;margin-bottom: 0.5em;}#sk-container-id-5 div.sk-estimator:hover {background-color: #d4ebff;}#sk-container-id-5 div.sk-parallel-item::after {content: \"\";width: 100%;border-bottom: 1px solid gray;flex-grow: 1;}#sk-container-id-5 div.sk-label:hover label.sk-toggleable__label {background-color: #d4ebff;}#sk-container-id-5 div.sk-serial::before {content: \"\";position: absolute;border-left: 1px solid gray;box-sizing: border-box;top: 0;bottom: 0;left: 50%;z-index: 0;}#sk-container-id-5 div.sk-serial {display: flex;flex-direction: column;align-items: center;background-color: white;padding-right: 0.2em;padding-left: 0.2em;position: relative;}#sk-container-id-5 div.sk-item {position: relative;z-index: 1;}#sk-container-id-5 div.sk-parallel {display: flex;align-items: stretch;justify-content: center;background-color: white;position: relative;}#sk-container-id-5 div.sk-item::before, #sk-container-id-5 div.sk-parallel-item::before {content: \"\";position: absolute;border-left: 1px solid gray;box-sizing: border-box;top: 0;bottom: 0;left: 50%;z-index: -1;}#sk-container-id-5 div.sk-parallel-item {display: flex;flex-direction: column;z-index: 1;position: relative;background-color: white;}#sk-container-id-5 div.sk-parallel-item:first-child::after {align-self: flex-end;width: 50%;}#sk-container-id-5 div.sk-parallel-item:last-child::after {align-self: flex-start;width: 50%;}#sk-container-id-5 div.sk-parallel-item:only-child::after {width: 0;}#sk-container-id-5 div.sk-dashed-wrapped {border: 1px dashed gray;margin: 0 0.4em 0.5em 0.4em;box-sizing: border-box;padding-bottom: 0.4em;background-color: white;}#sk-container-id-5 div.sk-label label {font-family: monospace;font-weight: bold;display: inline-block;line-height: 1.2em;}#sk-container-id-5 div.sk-label-container {text-align: center;}#sk-container-id-5 div.sk-container {/* jupyter's `normalize.less` sets `[hidden] { display: none; }` but bootstrap.min.css set `[hidden] { display: none !important; }` so we also need the `!important` here to be able to override the default hidden behavior on the sphinx rendered scikit-learn.org. See: https://github.com/scikit-learn/scikit-learn/issues/21755 */display: inline-block !important;position: relative;}#sk-container-id-5 div.sk-text-repr-fallback {display: none;}</style><div id=\"sk-container-id-5\" class=\"sk-top-container\"><div class=\"sk-text-repr-fallback\"><pre>GridSearchCV(cv=5, estimator=GradientBoostingClassifier(),\n",
       "             param_grid={&#x27;learning_rate&#x27;: [0.001, 0.01, 0.1, 1],\n",
       "                         &#x27;max_depth&#x27;: [3, 5, 7, 9]})</pre><b>In a Jupyter environment, please rerun this cell to show the HTML representation or trust the notebook. <br />On GitHub, the HTML representation is unable to render, please try loading this page with nbviewer.org.</b></div><div class=\"sk-container\" hidden><div class=\"sk-item sk-dashed-wrapped\"><div class=\"sk-label-container\"><div class=\"sk-label sk-toggleable\"><input class=\"sk-toggleable__control sk-hidden--visually\" id=\"sk-estimator-id-7\" type=\"checkbox\" ><label for=\"sk-estimator-id-7\" class=\"sk-toggleable__label sk-toggleable__label-arrow\">GridSearchCV</label><div class=\"sk-toggleable__content\"><pre>GridSearchCV(cv=5, estimator=GradientBoostingClassifier(),\n",
       "             param_grid={&#x27;learning_rate&#x27;: [0.001, 0.01, 0.1, 1],\n",
       "                         &#x27;max_depth&#x27;: [3, 5, 7, 9]})</pre></div></div></div><div class=\"sk-parallel\"><div class=\"sk-parallel-item\"><div class=\"sk-item\"><div class=\"sk-label-container\"><div class=\"sk-label sk-toggleable\"><input class=\"sk-toggleable__control sk-hidden--visually\" id=\"sk-estimator-id-8\" type=\"checkbox\" ><label for=\"sk-estimator-id-8\" class=\"sk-toggleable__label sk-toggleable__label-arrow\">estimator: GradientBoostingClassifier</label><div class=\"sk-toggleable__content\"><pre>GradientBoostingClassifier()</pre></div></div></div><div class=\"sk-serial\"><div class=\"sk-item\"><div class=\"sk-estimator sk-toggleable\"><input class=\"sk-toggleable__control sk-hidden--visually\" id=\"sk-estimator-id-9\" type=\"checkbox\" ><label for=\"sk-estimator-id-9\" class=\"sk-toggleable__label sk-toggleable__label-arrow\">GradientBoostingClassifier</label><div class=\"sk-toggleable__content\"><pre>GradientBoostingClassifier()</pre></div></div></div></div></div></div></div></div></div></div>"
      ],
      "text/plain": [
       "GridSearchCV(cv=5, estimator=GradientBoostingClassifier(),\n",
       "             param_grid={'learning_rate': [0.001, 0.01, 0.1, 1],\n",
       "                         'max_depth': [3, 5, 7, 9]})"
      ]
     },
     "execution_count": 73,
     "metadata": {},
     "output_type": "execute_result"
    }
   ],
   "source": [
    "# Fit the randomized search object to the data\n",
    "#gs.fit(train[predictors], train[\"target\"])"
   ]
  },
  {
   "cell_type": "code",
   "execution_count": null,
   "id": "6db3bb41",
   "metadata": {},
   "outputs": [],
   "source": [
    "# extract the results of the grid search\n",
    "#results = gs.cv_results_\n"
   ]
  },
  {
   "cell_type": "code",
   "execution_count": null,
   "id": "7f966b75",
   "metadata": {},
   "outputs": [],
   "source": [
    "#plot the results of the grid search\n",
    "plt.figure(figsize=(10, 5))\n",
    "plt.title(\"Grid Search Results for Gradient Boosting Classifier\")\n",
    "plt.xlabel(\"max_depth\")\n",
    "plt.ylabel(\"learning_rate\")\n",
    "plt.imshow(results['mean_test_score'].reshape(4, 4), cmap='viridis', interpolation='nearest')\n",
    "plt.xticks(range(len(param_grid['max_depth'])), param_grid['max_depth'])\n",
    "plt.yticks(range(len(param_grid['learning_rate'])), param_grid['learning_rate'])\n",
    "plt.colorbar()\n",
    "plt.show()"
   ]
  }
 ],
 "metadata": {
  "kernelspec": {
   "display_name": "Python 3 (ipykernel)",
   "language": "python",
   "name": "python3"
  },
  "language_info": {
   "codemirror_mode": {
    "name": "ipython",
    "version": 3
   },
   "file_extension": ".py",
   "mimetype": "text/x-python",
   "name": "python",
   "nbconvert_exporter": "python",
   "pygments_lexer": "ipython3",
   "version": "3.10.9"
  }
 },
 "nbformat": 4,
 "nbformat_minor": 5
}
