{
 "cells": [
  {
   "cell_type": "code",
   "execution_count": 1,
   "id": "0f6f249b",
   "metadata": {},
   "outputs": [],
   "source": [
    "# Importing necessary libraries\n",
    "import pandas as pd\n",
    "import numpy as np\n",
    "import matplotlib.pyplot as plt\n",
    "import seaborn as sns"
   ]
  },
  {
   "cell_type": "code",
   "execution_count": 2,
   "id": "832dd8ed",
   "metadata": {},
   "outputs": [],
   "source": [
    "matches = pd.read_csv('matches.csv')"
   ]
  },
  {
   "cell_type": "code",
   "execution_count": 3,
   "id": "281b185c",
   "metadata": {},
   "outputs": [
    {
     "data": {
      "text/html": [
       "<div>\n",
       "<style scoped>\n",
       "    .dataframe tbody tr th:only-of-type {\n",
       "        vertical-align: middle;\n",
       "    }\n",
       "\n",
       "    .dataframe tbody tr th {\n",
       "        vertical-align: top;\n",
       "    }\n",
       "\n",
       "    .dataframe thead th {\n",
       "        text-align: right;\n",
       "    }\n",
       "</style>\n",
       "<table border=\"1\" class=\"dataframe\">\n",
       "  <thead>\n",
       "    <tr style=\"text-align: right;\">\n",
       "      <th></th>\n",
       "      <th>match_id</th>\n",
       "      <th>season</th>\n",
       "      <th>date_time</th>\n",
       "      <th>team</th>\n",
       "      <th>opponent</th>\n",
       "      <th>stadium</th>\n",
       "      <th>home_team_score</th>\n",
       "      <th>away_team_score</th>\n",
       "      <th>penalty_shoot_out</th>\n",
       "      <th>attendance</th>\n",
       "      <th>result</th>\n",
       "      <th>timestamp</th>\n",
       "      <th>opp_code</th>\n",
       "      <th>day_code</th>\n",
       "      <th>venue_code</th>\n",
       "      <th>target</th>\n",
       "      <th>total_wins</th>\n",
       "      <th>total_goals</th>\n",
       "      <th>appearances</th>\n",
       "    </tr>\n",
       "  </thead>\n",
       "  <tbody>\n",
       "    <tr>\n",
       "      <th>0</th>\n",
       "      <td>mt1</td>\n",
       "      <td>2021</td>\n",
       "      <td>2021-09-15 20:00:00</td>\n",
       "      <td>Manchester City</td>\n",
       "      <td>RB Leipzig</td>\n",
       "      <td>Etihad Stadium</td>\n",
       "      <td>6</td>\n",
       "      <td>3</td>\n",
       "      <td>0</td>\n",
       "      <td>38062</td>\n",
       "      <td>W</td>\n",
       "      <td>1.631736e+09</td>\n",
       "      <td>55</td>\n",
       "      <td>2</td>\n",
       "      <td>1</td>\n",
       "      <td>1</td>\n",
       "      <td>40.0</td>\n",
       "      <td>83</td>\n",
       "      <td>32</td>\n",
       "    </tr>\n",
       "    <tr>\n",
       "      <th>1</th>\n",
       "      <td>mt2</td>\n",
       "      <td>2021</td>\n",
       "      <td>2021-09-15 20:00:00</td>\n",
       "      <td>Club Brugge KV</td>\n",
       "      <td>Paris Saint-Germain</td>\n",
       "      <td>Jan Breydel Stadion</td>\n",
       "      <td>1</td>\n",
       "      <td>1</td>\n",
       "      <td>0</td>\n",
       "      <td>27546</td>\n",
       "      <td>D</td>\n",
       "      <td>1.631736e+09</td>\n",
       "      <td>53</td>\n",
       "      <td>2</td>\n",
       "      <td>1</td>\n",
       "      <td>0</td>\n",
       "      <td>4.0</td>\n",
       "      <td>9</td>\n",
       "      <td>15</td>\n",
       "    </tr>\n",
       "    <tr>\n",
       "      <th>2</th>\n",
       "      <td>mt3</td>\n",
       "      <td>2021</td>\n",
       "      <td>2021-09-28 20:00:00</td>\n",
       "      <td>Paris Saint-Germain</td>\n",
       "      <td>Manchester City</td>\n",
       "      <td>Parc des Princes</td>\n",
       "      <td>2</td>\n",
       "      <td>0</td>\n",
       "      <td>0</td>\n",
       "      <td>37350</td>\n",
       "      <td>W</td>\n",
       "      <td>1.632859e+09</td>\n",
       "      <td>45</td>\n",
       "      <td>1</td>\n",
       "      <td>1</td>\n",
       "      <td>1</td>\n",
       "      <td>31.0</td>\n",
       "      <td>67</td>\n",
       "      <td>27</td>\n",
       "    </tr>\n",
       "    <tr>\n",
       "      <th>3</th>\n",
       "      <td>mt4</td>\n",
       "      <td>2021</td>\n",
       "      <td>2021-09-28 20:00:00</td>\n",
       "      <td>RB Leipzig</td>\n",
       "      <td>Club Brugge KV</td>\n",
       "      <td>Red Bull Arena</td>\n",
       "      <td>1</td>\n",
       "      <td>2</td>\n",
       "      <td>0</td>\n",
       "      <td>23500</td>\n",
       "      <td>L</td>\n",
       "      <td>1.632859e+09</td>\n",
       "      <td>19</td>\n",
       "      <td>1</td>\n",
       "      <td>1</td>\n",
       "      <td>2</td>\n",
       "      <td>14.0</td>\n",
       "      <td>26</td>\n",
       "      <td>16</td>\n",
       "    </tr>\n",
       "    <tr>\n",
       "      <th>4</th>\n",
       "      <td>mt5</td>\n",
       "      <td>2021</td>\n",
       "      <td>2021-10-19 17:45:00</td>\n",
       "      <td>Club Brugge KV</td>\n",
       "      <td>Manchester City</td>\n",
       "      <td>Jan Breydel Stadion</td>\n",
       "      <td>1</td>\n",
       "      <td>5</td>\n",
       "      <td>0</td>\n",
       "      <td>24915</td>\n",
       "      <td>L</td>\n",
       "      <td>1.634666e+09</td>\n",
       "      <td>45</td>\n",
       "      <td>1</td>\n",
       "      <td>1</td>\n",
       "      <td>2</td>\n",
       "      <td>4.0</td>\n",
       "      <td>9</td>\n",
       "      <td>15</td>\n",
       "    </tr>\n",
       "  </tbody>\n",
       "</table>\n",
       "</div>"
      ],
      "text/plain": [
       "  match_id  season            date_time                 team  \\\n",
       "0      mt1    2021  2021-09-15 20:00:00      Manchester City   \n",
       "1      mt2    2021  2021-09-15 20:00:00       Club Brugge KV   \n",
       "2      mt3    2021  2021-09-28 20:00:00  Paris Saint-Germain   \n",
       "3      mt4    2021  2021-09-28 20:00:00           RB Leipzig   \n",
       "4      mt5    2021  2021-10-19 17:45:00       Club Brugge KV   \n",
       "\n",
       "              opponent              stadium  home_team_score  away_team_score  \\\n",
       "0           RB Leipzig       Etihad Stadium                6                3   \n",
       "1  Paris Saint-Germain  Jan Breydel Stadion                1                1   \n",
       "2      Manchester City     Parc des Princes                2                0   \n",
       "3       Club Brugge KV       Red Bull Arena                1                2   \n",
       "4      Manchester City  Jan Breydel Stadion                1                5   \n",
       "\n",
       "   penalty_shoot_out  attendance result     timestamp  opp_code  day_code  \\\n",
       "0                  0       38062      W  1.631736e+09        55         2   \n",
       "1                  0       27546      D  1.631736e+09        53         2   \n",
       "2                  0       37350      W  1.632859e+09        45         1   \n",
       "3                  0       23500      L  1.632859e+09        19         1   \n",
       "4                  0       24915      L  1.634666e+09        45         1   \n",
       "\n",
       "   venue_code  target  total_wins  total_goals  appearances  \n",
       "0           1       1        40.0           83           32  \n",
       "1           1       0         4.0            9           15  \n",
       "2           1       1        31.0           67           27  \n",
       "3           1       2        14.0           26           16  \n",
       "4           1       2         4.0            9           15  "
      ]
     },
     "execution_count": 3,
     "metadata": {},
     "output_type": "execute_result"
    }
   ],
   "source": [
    "matches.head()"
   ]
  },
  {
   "cell_type": "code",
   "execution_count": 7,
   "id": "1cf35e9e",
   "metadata": {},
   "outputs": [
    {
     "name": "stdout",
     "output_type": "stream",
     "text": [
      "The format of datetime values in the column is: 2021-09-15 20:00:00\n"
     ]
    }
   ],
   "source": [
    "# check the format of the datetime column\n",
    "format_str = pd.to_datetime(matches['date_time'], infer_datetime_format=True).dt.strftime('%Y-%m-%d %H:%M:%S').iloc[0]\n",
    "print(f'The format of datetime values in the column is: {format_str}')\n"
   ]
  },
  {
   "cell_type": "code",
   "execution_count": 8,
   "id": "5ebded75",
   "metadata": {},
   "outputs": [],
   "source": [
    "# convert the datetime column to datetime dtype\n",
    "matches['date_time'] = pd.to_datetime(matches['date_time'])"
   ]
  },
  {
   "cell_type": "code",
   "execution_count": 9,
   "id": "badf9a33",
   "metadata": {},
   "outputs": [
    {
     "data": {
      "text/plain": [
       "match_id                     object\n",
       "season                        int64\n",
       "date_time            datetime64[ns]\n",
       "team                         object\n",
       "opponent                     object\n",
       "stadium                      object\n",
       "home_team_score               int64\n",
       "away_team_score               int64\n",
       "penalty_shoot_out             int64\n",
       "attendance                    int64\n",
       "result                       object\n",
       "timestamp                   float64\n",
       "opp_code                      int64\n",
       "day_code                      int64\n",
       "venue_code                    int64\n",
       "target                        int64\n",
       "total_wins                  float64\n",
       "total_goals                   int64\n",
       "appearances                   int64\n",
       "dtype: object"
      ]
     },
     "execution_count": 9,
     "metadata": {},
     "output_type": "execute_result"
    }
   ],
   "source": [
    "matches.dtypes"
   ]
  },
  {
   "cell_type": "code",
   "execution_count": 32,
   "id": "5dc7cc7d",
   "metadata": {},
   "outputs": [],
   "source": [
    "from sklearn.linear_model import LogisticRegression\n",
    "lr = LogisticRegression(max_iter=1000)"
   ]
  },
  {
   "cell_type": "code",
   "execution_count": 33,
   "id": "98786c80",
   "metadata": {},
   "outputs": [],
   "source": [
    "train=matches[matches[\"date_time\"]< '2022-06-01']"
   ]
  },
  {
   "cell_type": "code",
   "execution_count": 34,
   "id": "19249cda",
   "metadata": {},
   "outputs": [],
   "source": [
    "test = matches[matches[\"date_time\"] > '2016-01-01']"
   ]
  },
  {
   "cell_type": "code",
   "execution_count": 35,
   "id": "d9e9f403",
   "metadata": {},
   "outputs": [],
   "source": [
    "# Define the predictors\n",
    "predictors = [\"venue_code\", \"opp_code\", \"day_code\", \"total_wins\", \"total_goals\", \"appearances\"]"
   ]
  },
  {
   "cell_type": "code",
   "execution_count": 36,
   "id": "d94c1715",
   "metadata": {},
   "outputs": [],
   "source": [
    "from sklearn.impute import SimpleImputer\n",
    "\n",
    "imputer = SimpleImputer(strategy='mean')\n",
    "train[predictors] = imputer.fit_transform(train[predictors])\n",
    "test[predictors] = imputer.transform(test[predictors])"
   ]
  },
  {
   "cell_type": "code",
   "execution_count": 37,
   "id": "2652a123",
   "metadata": {},
   "outputs": [
    {
     "data": {
      "text/html": [
       "<style>#sk-container-id-2 {color: black;background-color: white;}#sk-container-id-2 pre{padding: 0;}#sk-container-id-2 div.sk-toggleable {background-color: white;}#sk-container-id-2 label.sk-toggleable__label {cursor: pointer;display: block;width: 100%;margin-bottom: 0;padding: 0.3em;box-sizing: border-box;text-align: center;}#sk-container-id-2 label.sk-toggleable__label-arrow:before {content: \"▸\";float: left;margin-right: 0.25em;color: #696969;}#sk-container-id-2 label.sk-toggleable__label-arrow:hover:before {color: black;}#sk-container-id-2 div.sk-estimator:hover label.sk-toggleable__label-arrow:before {color: black;}#sk-container-id-2 div.sk-toggleable__content {max-height: 0;max-width: 0;overflow: hidden;text-align: left;background-color: #f0f8ff;}#sk-container-id-2 div.sk-toggleable__content pre {margin: 0.2em;color: black;border-radius: 0.25em;background-color: #f0f8ff;}#sk-container-id-2 input.sk-toggleable__control:checked~div.sk-toggleable__content {max-height: 200px;max-width: 100%;overflow: auto;}#sk-container-id-2 input.sk-toggleable__control:checked~label.sk-toggleable__label-arrow:before {content: \"▾\";}#sk-container-id-2 div.sk-estimator input.sk-toggleable__control:checked~label.sk-toggleable__label {background-color: #d4ebff;}#sk-container-id-2 div.sk-label input.sk-toggleable__control:checked~label.sk-toggleable__label {background-color: #d4ebff;}#sk-container-id-2 input.sk-hidden--visually {border: 0;clip: rect(1px 1px 1px 1px);clip: rect(1px, 1px, 1px, 1px);height: 1px;margin: -1px;overflow: hidden;padding: 0;position: absolute;width: 1px;}#sk-container-id-2 div.sk-estimator {font-family: monospace;background-color: #f0f8ff;border: 1px dotted black;border-radius: 0.25em;box-sizing: border-box;margin-bottom: 0.5em;}#sk-container-id-2 div.sk-estimator:hover {background-color: #d4ebff;}#sk-container-id-2 div.sk-parallel-item::after {content: \"\";width: 100%;border-bottom: 1px solid gray;flex-grow: 1;}#sk-container-id-2 div.sk-label:hover label.sk-toggleable__label {background-color: #d4ebff;}#sk-container-id-2 div.sk-serial::before {content: \"\";position: absolute;border-left: 1px solid gray;box-sizing: border-box;top: 0;bottom: 0;left: 50%;z-index: 0;}#sk-container-id-2 div.sk-serial {display: flex;flex-direction: column;align-items: center;background-color: white;padding-right: 0.2em;padding-left: 0.2em;position: relative;}#sk-container-id-2 div.sk-item {position: relative;z-index: 1;}#sk-container-id-2 div.sk-parallel {display: flex;align-items: stretch;justify-content: center;background-color: white;position: relative;}#sk-container-id-2 div.sk-item::before, #sk-container-id-2 div.sk-parallel-item::before {content: \"\";position: absolute;border-left: 1px solid gray;box-sizing: border-box;top: 0;bottom: 0;left: 50%;z-index: -1;}#sk-container-id-2 div.sk-parallel-item {display: flex;flex-direction: column;z-index: 1;position: relative;background-color: white;}#sk-container-id-2 div.sk-parallel-item:first-child::after {align-self: flex-end;width: 50%;}#sk-container-id-2 div.sk-parallel-item:last-child::after {align-self: flex-start;width: 50%;}#sk-container-id-2 div.sk-parallel-item:only-child::after {width: 0;}#sk-container-id-2 div.sk-dashed-wrapped {border: 1px dashed gray;margin: 0 0.4em 0.5em 0.4em;box-sizing: border-box;padding-bottom: 0.4em;background-color: white;}#sk-container-id-2 div.sk-label label {font-family: monospace;font-weight: bold;display: inline-block;line-height: 1.2em;}#sk-container-id-2 div.sk-label-container {text-align: center;}#sk-container-id-2 div.sk-container {/* jupyter's `normalize.less` sets `[hidden] { display: none; }` but bootstrap.min.css set `[hidden] { display: none !important; }` so we also need the `!important` here to be able to override the default hidden behavior on the sphinx rendered scikit-learn.org. See: https://github.com/scikit-learn/scikit-learn/issues/21755 */display: inline-block !important;position: relative;}#sk-container-id-2 div.sk-text-repr-fallback {display: none;}</style><div id=\"sk-container-id-2\" class=\"sk-top-container\"><div class=\"sk-text-repr-fallback\"><pre>LogisticRegression(max_iter=1000)</pre><b>In a Jupyter environment, please rerun this cell to show the HTML representation or trust the notebook. <br />On GitHub, the HTML representation is unable to render, please try loading this page with nbviewer.org.</b></div><div class=\"sk-container\" hidden><div class=\"sk-item\"><div class=\"sk-estimator sk-toggleable\"><input class=\"sk-toggleable__control sk-hidden--visually\" id=\"sk-estimator-id-2\" type=\"checkbox\" checked><label for=\"sk-estimator-id-2\" class=\"sk-toggleable__label sk-toggleable__label-arrow\">LogisticRegression</label><div class=\"sk-toggleable__content\"><pre>LogisticRegression(max_iter=1000)</pre></div></div></div></div></div>"
      ],
      "text/plain": [
       "LogisticRegression(max_iter=1000)"
      ]
     },
     "execution_count": 37,
     "metadata": {},
     "output_type": "execute_result"
    }
   ],
   "source": [
    "lr.fit(train[predictors], train[\"target\"])"
   ]
  },
  {
   "cell_type": "code",
   "execution_count": 38,
   "id": "18ab0349",
   "metadata": {},
   "outputs": [],
   "source": [
    "# Make predictions on the test set\n",
    "preds = lr.predict(test[predictors])"
   ]
  },
  {
   "cell_type": "code",
   "execution_count": 51,
   "id": "e1c7ba8d",
   "metadata": {},
   "outputs": [
    {
     "name": "stdout",
     "output_type": "stream",
     "text": [
      "Accuracy: 0.5376344086021505\n"
     ]
    }
   ],
   "source": [
    "from sklearn.metrics import accuracy_score\n",
    "# Evaluate the model's accuracy\n",
    "accuracy = accuracy_score(test[\"target\"], preds)\n",
    "print(\"Accuracy:\", accuracy)"
   ]
  },
  {
   "cell_type": "code",
   "execution_count": 40,
   "id": "c8d5749f",
   "metadata": {},
   "outputs": [
    {
     "name": "stdout",
     "output_type": "stream",
     "text": [
      "     target  predicted\n",
      "0         1          1\n",
      "1         0          2\n",
      "2         1          1\n",
      "3         2          1\n",
      "4         2          2\n",
      "..      ...        ...\n",
      "739       1          1\n",
      "740       2          2\n",
      "741       1          1\n",
      "742       1          1\n",
      "743       2          1\n",
      "\n",
      "[744 rows x 2 columns]\n"
     ]
    }
   ],
   "source": [
    "result_df = pd.concat([test['target'], pd.Series(preds, name='predicted', index=test.index)], axis=1)\n",
    "print(result_df)"
   ]
  },
  {
   "cell_type": "code",
   "execution_count": 41,
   "id": "6caa6756",
   "metadata": {},
   "outputs": [
    {
     "name": "stdout",
     "output_type": "stream",
     "text": [
      "[[  0  69  90]\n",
      " [  0 237  90]\n",
      " [  0  95 163]]\n"
     ]
    }
   ],
   "source": [
    "from sklearn.metrics import confusion_matrix\n",
    "\n",
    "# Generate confusion matrix\n",
    "cm = confusion_matrix(test[\"target\"], preds)\n",
    "print(cm)"
   ]
  },
  {
   "cell_type": "code",
   "execution_count": 52,
   "id": "ecb77a02",
   "metadata": {},
   "outputs": [
    {
     "data": {
      "image/png": "[encoded data removed]",
      "text/plain": [
       "<Figure size 640x480 with 2 Axes>"
      ]
     },
     "metadata": {},
     "output_type": "display_data"
    }
   ],
   "source": [
    "import seaborn as sns\n",
    "import matplotlib.pyplot as plt\n",
    "\n",
    "# Plot heatmap of confusion matrix\n",
    "sns.heatmap(cm, annot=True, cmap=\"Blues\", fmt=\"d\", xticklabels=[\"D\", \"W\", \"L\"], yticklabels=[\"D\", \"W\", \"L\"])\n",
    "plt.xlabel(\"Predicted\")\n",
    "plt.ylabel(\"Actual\")\n",
    "plt.show()"
   ]
  },
  {
   "cell_type": "code",
   "execution_count": 43,
   "id": "74457c9e",
   "metadata": {},
   "outputs": [],
   "source": [
    "combined=pd.DataFrame(dict(actual=test[\"target\"], prediction=preds))"
   ]
  },
  {
   "cell_type": "code",
   "execution_count": 44,
   "id": "4cf04703",
   "metadata": {},
   "outputs": [
    {
     "data": {
      "text/html": [
       "<div>\n",
       "<style scoped>\n",
       "    .dataframe tbody tr th:only-of-type {\n",
       "        vertical-align: middle;\n",
       "    }\n",
       "\n",
       "    .dataframe tbody tr th {\n",
       "        vertical-align: top;\n",
       "    }\n",
       "\n",
       "    .dataframe thead th {\n",
       "        text-align: right;\n",
       "    }\n",
       "</style>\n",
       "<table border=\"1\" class=\"dataframe\">\n",
       "  <thead>\n",
       "    <tr style=\"text-align: right;\">\n",
       "      <th>prediction</th>\n",
       "      <th>1</th>\n",
       "      <th>2</th>\n",
       "    </tr>\n",
       "    <tr>\n",
       "      <th>actual</th>\n",
       "      <th></th>\n",
       "      <th></th>\n",
       "    </tr>\n",
       "  </thead>\n",
       "  <tbody>\n",
       "    <tr>\n",
       "      <th>0</th>\n",
       "      <td>69</td>\n",
       "      <td>90</td>\n",
       "    </tr>\n",
       "    <tr>\n",
       "      <th>1</th>\n",
       "      <td>237</td>\n",
       "      <td>90</td>\n",
       "    </tr>\n",
       "    <tr>\n",
       "      <th>2</th>\n",
       "      <td>95</td>\n",
       "      <td>163</td>\n",
       "    </tr>\n",
       "  </tbody>\n",
       "</table>\n",
       "</div>"
      ],
      "text/plain": [
       "prediction    1    2\n",
       "actual              \n",
       "0            69   90\n",
       "1           237   90\n",
       "2            95  163"
      ]
     },
     "execution_count": 44,
     "metadata": {},
     "output_type": "execute_result"
    }
   ],
   "source": [
    "pd.crosstab(index=combined[\"actual\"], columns= combined[\"prediction\"])"
   ]
  },
  {
   "cell_type": "code",
   "execution_count": 48,
   "id": "4c6f89f2",
   "metadata": {},
   "outputs": [
    {
     "name": "stdout",
     "output_type": "stream",
     "text": [
      "Precision Score: 0.64\n"
     ]
    }
   ],
   "source": [
    "from sklearn.metrics import precision_score\n",
    "\n",
    "precision = precision_score(test[\"target\"], preds, average='weighted', zero_division=1)\n",
    "print(\"Precision Score: {:.2f}\".format(precision))\n"
   ]
  },
  {
   "cell_type": "code",
   "execution_count": 46,
   "id": "286e4737",
   "metadata": {},
   "outputs": [
    {
     "name": "stdout",
     "output_type": "stream",
     "text": [
      "F1 Score: 0.47\n"
     ]
    }
   ],
   "source": [
    "from sklearn.metrics import f1_score\n",
    "\n",
    "f1 = f1_score(test[\"target\"], preds, average='weighted')\n",
    "print(\"F1 Score: {:.2f}\".format(f1))\n",
    "\n"
   ]
  },
  {
   "cell_type": "code",
   "execution_count": 47,
   "id": "dd0bf282",
   "metadata": {},
   "outputs": [
    {
     "data": {
      "text/plain": [
       "['match_prediction_model_lr_test2.joblib']"
      ]
     },
     "execution_count": 47,
     "metadata": {},
     "output_type": "execute_result"
    }
   ],
   "source": [
    "import joblib\n",
    "\n",
    "filename = 'match_prediction_model_lr_test2.joblib'\n",
    "joblib.dump(lr, filename)"
   ]
  },
  {
   "cell_type": "code",
   "execution_count": null,
   "id": "6417d5bc",
   "metadata": {},
   "outputs": [],
   "source": []
  },
  {
   "cell_type": "code",
   "execution_count": null,
   "id": "2b5b827d",
   "metadata": {},
   "outputs": [],
   "source": []
  },
  {
   "cell_type": "code",
   "execution_count": null,
   "id": "6a98f4da",
   "metadata": {},
   "outputs": [],
   "source": []
  },
  {
   "cell_type": "code",
   "execution_count": null,
   "id": "31c8b306",
   "metadata": {},
   "outputs": [],
   "source": []
  },
  {
   "cell_type": "code",
   "execution_count": null,
   "id": "81236fde",
   "metadata": {},
   "outputs": [],
   "source": []
  },
  {
   "cell_type": "code",
   "execution_count": null,
   "id": "327fe6ee",
   "metadata": {},
   "outputs": [],
   "source": []
  }
 ],
 "metadata": {
  "kernelspec": {
   "display_name": "Python 3 (ipykernel)",
   "language": "python",
   "name": "python3"
  },
  "language_info": {
   "codemirror_mode": {
    "name": "ipython",
    "version": 3
   },
   "file_extension": ".py",
   "mimetype": "text/x-python",
   "name": "python",
   "nbconvert_exporter": "python",
   "pygments_lexer": "ipython3",
   "version": "3.10.9"
  }
 },
 "nbformat": 4,
 "nbformat_minor": 5
}
