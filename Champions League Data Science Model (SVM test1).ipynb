{
 "cells": [
  {
   "cell_type": "code",
   "execution_count": 1,
   "id": "142ba6d9",
   "metadata": {},
   "outputs": [],
   "source": [
    "# Importing necessary libraries\n",
    "import pandas as pd\n",
    "import numpy as np\n",
    "import matplotlib.pyplot as plt\n",
    "import seaborn as sns"
   ]
  },
  {
   "cell_type": "code",
   "execution_count": 2,
   "id": "c3d90581",
   "metadata": {},
   "outputs": [],
   "source": [
    "path = r'C:\\Users\\Administrator\\Desktop\\Data Science project\\archive\\UEFA Champions League 2016-2022 Data.xlsx'"
   ]
  },
  {
   "cell_type": "code",
   "execution_count": 3,
   "id": "22e5134d",
   "metadata": {},
   "outputs": [],
   "source": [
    "goals = pd.read_excel(path, sheet_name = 'goals')\n",
    "managers = pd.read_excel(path, sheet_name = 'managers')\n",
    "matches = pd.read_excel(path, sheet_name = 'matches')\n",
    "players = pd.read_excel(path, sheet_name = 'players')\n",
    "stadiums = pd.read_excel(path, sheet_name = 'stadiums')\n",
    "teams = pd.read_excel(path, sheet_name = 'teams')"
   ]
  },
  {
   "cell_type": "code",
   "execution_count": 4,
   "id": "e1f594aa",
   "metadata": {},
   "outputs": [],
   "source": [
    "# function for changing columns to lower case\n",
    "def lower(df):\n",
    "    df.columns = df.columns.str.lower()\n",
    "    return df"
   ]
  },
  {
   "cell_type": "code",
   "execution_count": 5,
   "id": "0d37443a",
   "metadata": {},
   "outputs": [],
   "source": [
    "# Applying function for every dataframe\n",
    "goal = lower(goals)\n",
    "match = lower(matches)\n",
    "stadium = lower(stadiums)\n",
    "player = lower(players)\n",
    "manager = lower(managers)\n",
    "team = lower(teams)"
   ]
  },
  {
   "cell_type": "code",
   "execution_count": 6,
   "id": "aa6cda51",
   "metadata": {},
   "outputs": [],
   "source": [
    "matches['result'] = 'D'  # Set default value as 'D' (draw)\n",
    "\n",
    "# Update result based on home_team_score and away_team_score\n",
    "matches.loc[matches['home_team_score'] > matches['away_team_score'], 'result'] = 'W'\n",
    "matches.loc[matches['home_team_score'] < matches['away_team_score'], 'result'] = 'L'\n"
   ]
  },
  {
   "cell_type": "code",
   "execution_count": 7,
   "id": "ca76e0fc",
   "metadata": {},
   "outputs": [],
   "source": [
    "matches['season'] = matches['season'].apply(lambda x: int(x.split('-')[0]))"
   ]
  },
  {
   "cell_type": "code",
   "execution_count": 8,
   "id": "fa62ba3c",
   "metadata": {},
   "outputs": [],
   "source": [
    "match[\"date_time\"] = pd.to_datetime(match[\"date_time\"], format=\"%d-%b-%y %I.%M.%S.%f000000 %p\")"
   ]
  },
  {
   "cell_type": "code",
   "execution_count": 9,
   "id": "7b1f017a",
   "metadata": {},
   "outputs": [
    {
     "data": {
      "text/html": [
       "<div>\n",
       "<style scoped>\n",
       "    .dataframe tbody tr th:only-of-type {\n",
       "        vertical-align: middle;\n",
       "    }\n",
       "\n",
       "    .dataframe tbody tr th {\n",
       "        vertical-align: top;\n",
       "    }\n",
       "\n",
       "    .dataframe thead th {\n",
       "        text-align: right;\n",
       "    }\n",
       "</style>\n",
       "<table border=\"1\" class=\"dataframe\">\n",
       "  <thead>\n",
       "    <tr style=\"text-align: right;\">\n",
       "      <th></th>\n",
       "      <th>match_id</th>\n",
       "      <th>season</th>\n",
       "      <th>date_time</th>\n",
       "      <th>home_team</th>\n",
       "      <th>away_team</th>\n",
       "      <th>stadium</th>\n",
       "      <th>home_team_score</th>\n",
       "      <th>away_team_score</th>\n",
       "      <th>penalty_shoot_out</th>\n",
       "      <th>attendance</th>\n",
       "      <th>result</th>\n",
       "    </tr>\n",
       "  </thead>\n",
       "  <tbody>\n",
       "    <tr>\n",
       "      <th>0</th>\n",
       "      <td>mt1</td>\n",
       "      <td>2021</td>\n",
       "      <td>2021-09-15 20:00:00</td>\n",
       "      <td>Manchester City</td>\n",
       "      <td>RB Leipzig</td>\n",
       "      <td>Etihad Stadium</td>\n",
       "      <td>6</td>\n",
       "      <td>3</td>\n",
       "      <td>0</td>\n",
       "      <td>38062</td>\n",
       "      <td>W</td>\n",
       "    </tr>\n",
       "    <tr>\n",
       "      <th>1</th>\n",
       "      <td>mt2</td>\n",
       "      <td>2021</td>\n",
       "      <td>2021-09-15 20:00:00</td>\n",
       "      <td>Club Brugge KV</td>\n",
       "      <td>Paris Saint-Germain</td>\n",
       "      <td>Jan Breydel Stadion</td>\n",
       "      <td>1</td>\n",
       "      <td>1</td>\n",
       "      <td>0</td>\n",
       "      <td>27546</td>\n",
       "      <td>D</td>\n",
       "    </tr>\n",
       "    <tr>\n",
       "      <th>2</th>\n",
       "      <td>mt3</td>\n",
       "      <td>2021</td>\n",
       "      <td>2021-09-28 20:00:00</td>\n",
       "      <td>Paris Saint-Germain</td>\n",
       "      <td>Manchester City</td>\n",
       "      <td>Parc des Princes</td>\n",
       "      <td>2</td>\n",
       "      <td>0</td>\n",
       "      <td>0</td>\n",
       "      <td>37350</td>\n",
       "      <td>W</td>\n",
       "    </tr>\n",
       "    <tr>\n",
       "      <th>3</th>\n",
       "      <td>mt4</td>\n",
       "      <td>2021</td>\n",
       "      <td>2021-09-28 20:00:00</td>\n",
       "      <td>RB Leipzig</td>\n",
       "      <td>Club Brugge KV</td>\n",
       "      <td>Red Bull Arena</td>\n",
       "      <td>1</td>\n",
       "      <td>2</td>\n",
       "      <td>0</td>\n",
       "      <td>23500</td>\n",
       "      <td>L</td>\n",
       "    </tr>\n",
       "    <tr>\n",
       "      <th>4</th>\n",
       "      <td>mt5</td>\n",
       "      <td>2021</td>\n",
       "      <td>2021-10-19 17:45:00</td>\n",
       "      <td>Club Brugge KV</td>\n",
       "      <td>Manchester City</td>\n",
       "      <td>Jan Breydel Stadion</td>\n",
       "      <td>1</td>\n",
       "      <td>5</td>\n",
       "      <td>0</td>\n",
       "      <td>24915</td>\n",
       "      <td>L</td>\n",
       "    </tr>\n",
       "    <tr>\n",
       "      <th>...</th>\n",
       "      <td>...</td>\n",
       "      <td>...</td>\n",
       "      <td>...</td>\n",
       "      <td>...</td>\n",
       "      <td>...</td>\n",
       "      <td>...</td>\n",
       "      <td>...</td>\n",
       "      <td>...</td>\n",
       "      <td>...</td>\n",
       "      <td>...</td>\n",
       "      <td>...</td>\n",
       "    </tr>\n",
       "    <tr>\n",
       "      <th>739</th>\n",
       "      <td>mt740</td>\n",
       "      <td>2016</td>\n",
       "      <td>2017-05-02 19:45:00</td>\n",
       "      <td>Real Madrid</td>\n",
       "      <td>Atlético Madrid</td>\n",
       "      <td>Santiago Bernabéu</td>\n",
       "      <td>3</td>\n",
       "      <td>0</td>\n",
       "      <td>0</td>\n",
       "      <td>77609</td>\n",
       "      <td>W</td>\n",
       "    </tr>\n",
       "    <tr>\n",
       "      <th>740</th>\n",
       "      <td>mt741</td>\n",
       "      <td>2016</td>\n",
       "      <td>2017-05-03 19:45:00</td>\n",
       "      <td>AS Monaco</td>\n",
       "      <td>Juventus</td>\n",
       "      <td>Stade Louis II</td>\n",
       "      <td>0</td>\n",
       "      <td>2</td>\n",
       "      <td>0</td>\n",
       "      <td>16762</td>\n",
       "      <td>L</td>\n",
       "    </tr>\n",
       "    <tr>\n",
       "      <th>741</th>\n",
       "      <td>mt742</td>\n",
       "      <td>2016</td>\n",
       "      <td>2017-05-09 19:45:00</td>\n",
       "      <td>Juventus</td>\n",
       "      <td>AS Monaco</td>\n",
       "      <td>Allianz Stadium</td>\n",
       "      <td>2</td>\n",
       "      <td>1</td>\n",
       "      <td>0</td>\n",
       "      <td>40244</td>\n",
       "      <td>W</td>\n",
       "    </tr>\n",
       "    <tr>\n",
       "      <th>742</th>\n",
       "      <td>mt743</td>\n",
       "      <td>2016</td>\n",
       "      <td>2017-05-10 19:45:00</td>\n",
       "      <td>Atlético Madrid</td>\n",
       "      <td>Real Madrid</td>\n",
       "      <td>Vicente Calderón</td>\n",
       "      <td>2</td>\n",
       "      <td>1</td>\n",
       "      <td>0</td>\n",
       "      <td>53422</td>\n",
       "      <td>W</td>\n",
       "    </tr>\n",
       "    <tr>\n",
       "      <th>743</th>\n",
       "      <td>mt744</td>\n",
       "      <td>2016</td>\n",
       "      <td>2017-06-03 19:45:00</td>\n",
       "      <td>Juventus</td>\n",
       "      <td>Real Madrid</td>\n",
       "      <td>Millennium</td>\n",
       "      <td>1</td>\n",
       "      <td>4</td>\n",
       "      <td>0</td>\n",
       "      <td>65842</td>\n",
       "      <td>L</td>\n",
       "    </tr>\n",
       "  </tbody>\n",
       "</table>\n",
       "<p>744 rows × 11 columns</p>\n",
       "</div>"
      ],
      "text/plain": [
       "    match_id  season           date_time            home_team  \\\n",
       "0        mt1    2021 2021-09-15 20:00:00      Manchester City   \n",
       "1        mt2    2021 2021-09-15 20:00:00       Club Brugge KV   \n",
       "2        mt3    2021 2021-09-28 20:00:00  Paris Saint-Germain   \n",
       "3        mt4    2021 2021-09-28 20:00:00           RB Leipzig   \n",
       "4        mt5    2021 2021-10-19 17:45:00       Club Brugge KV   \n",
       "..       ...     ...                 ...                  ...   \n",
       "739    mt740    2016 2017-05-02 19:45:00          Real Madrid   \n",
       "740    mt741    2016 2017-05-03 19:45:00            AS Monaco   \n",
       "741    mt742    2016 2017-05-09 19:45:00             Juventus   \n",
       "742    mt743    2016 2017-05-10 19:45:00      Atlético Madrid   \n",
       "743    mt744    2016 2017-06-03 19:45:00             Juventus   \n",
       "\n",
       "               away_team              stadium  home_team_score  \\\n",
       "0             RB Leipzig       Etihad Stadium                6   \n",
       "1    Paris Saint-Germain  Jan Breydel Stadion                1   \n",
       "2        Manchester City     Parc des Princes                2   \n",
       "3         Club Brugge KV       Red Bull Arena                1   \n",
       "4        Manchester City  Jan Breydel Stadion                1   \n",
       "..                   ...                  ...              ...   \n",
       "739      Atlético Madrid    Santiago Bernabéu                3   \n",
       "740             Juventus       Stade Louis II                0   \n",
       "741            AS Monaco      Allianz Stadium                2   \n",
       "742          Real Madrid     Vicente Calderón                2   \n",
       "743          Real Madrid           Millennium                1   \n",
       "\n",
       "     away_team_score  penalty_shoot_out  attendance result  \n",
       "0                  3                  0       38062      W  \n",
       "1                  1                  0       27546      D  \n",
       "2                  0                  0       37350      W  \n",
       "3                  2                  0       23500      L  \n",
       "4                  5                  0       24915      L  \n",
       "..               ...                ...         ...    ...  \n",
       "739                0                  0       77609      W  \n",
       "740                2                  0       16762      L  \n",
       "741                1                  0       40244      W  \n",
       "742                1                  0       53422      W  \n",
       "743                4                  0       65842      L  \n",
       "\n",
       "[744 rows x 11 columns]"
      ]
     },
     "execution_count": 9,
     "metadata": {},
     "output_type": "execute_result"
    }
   ],
   "source": [
    "match"
   ]
  },
  {
   "cell_type": "code",
   "execution_count": 10,
   "id": "3bd170db",
   "metadata": {},
   "outputs": [],
   "source": [
    "matches.rename(columns={'home_team': 'team', 'away_team': 'opponent'}, inplace=True)"
   ]
  },
  {
   "cell_type": "code",
   "execution_count": 11,
   "id": "1f95c5d1",
   "metadata": {},
   "outputs": [],
   "source": [
    "# Convert opponent and day of the week to categorical codes\n",
    "matches['opp_code'] = matches['opponent'].astype(\"category\").cat.codes\n",
    "matches[\"day_code\"]=matches[\"date_time\"].dt.dayofweek"
   ]
  },
  {
   "cell_type": "code",
   "execution_count": 12,
   "id": "30730317",
   "metadata": {},
   "outputs": [],
   "source": [
    "# Create a feature for home/away matches\n",
    "matches['home_match'] = np.where(matches['team'] == matches['team'], '1', '0')"
   ]
  },
  {
   "cell_type": "code",
   "execution_count": 13,
   "id": "adf71838",
   "metadata": {},
   "outputs": [],
   "source": [
    "# Create a target variable\n",
    "matches[\"target\"] = matches[\"result\"].map({\"W\": 1, \"L\": 2, \"D\": 0}).astype(\"int\")\n"
   ]
  },
  {
   "cell_type": "code",
   "execution_count": 14,
   "id": "5c4495d2",
   "metadata": {},
   "outputs": [],
   "source": [
    "train=matches[matches[\"date_time\"]< '2020-01-01']"
   ]
  },
  {
   "cell_type": "code",
   "execution_count": 15,
   "id": "b9a645f6",
   "metadata": {},
   "outputs": [],
   "source": [
    "test = matches[matches[\"date_time\"] > '2020-01-01']"
   ]
  },
  {
   "cell_type": "code",
   "execution_count": 16,
   "id": "b25da4cc",
   "metadata": {},
   "outputs": [
    {
     "name": "stdout",
     "output_type": "stream",
     "text": [
      "1    327\n",
      "2    258\n",
      "0    159\n",
      "Name: target, dtype: int64\n"
     ]
    }
   ],
   "source": [
    "# Check the distribution of the target variable\n",
    "print(matches[\"target\"].value_counts())"
   ]
  },
  {
   "cell_type": "code",
   "execution_count": 17,
   "id": "367de2d5",
   "metadata": {},
   "outputs": [],
   "source": [
    "from sklearn.model_selection import train_test_split\n",
    "from sklearn.svm import SVC\n",
    "from sklearn.metrics import accuracy_score, confusion_matrix\n",
    "from sklearn.ensemble import HistGradientBoostingClassifier"
   ]
  },
  {
   "cell_type": "code",
   "execution_count": 18,
   "id": "46ebc889",
   "metadata": {},
   "outputs": [],
   "source": [
    "# Define the predictors\n",
    "predictors = [\"home_match\", \"opp_code\", \"day_code\"]"
   ]
  },
  {
   "cell_type": "code",
   "execution_count": 19,
   "id": "e5a43bd4",
   "metadata": {},
   "outputs": [
    {
     "data": {
      "text/plain": [
       "['home_match', 'opp_code', 'day_code']"
      ]
     },
     "execution_count": 19,
     "metadata": {},
     "output_type": "execute_result"
    }
   ],
   "source": [
    "predictors"
   ]
  },
  {
   "cell_type": "code",
   "execution_count": 20,
   "id": "86a34d39",
   "metadata": {},
   "outputs": [],
   "source": [
    "svm = SVC(kernel='rbf', gamma='auto')\n",
    "\n",
    "# Train the SVM model on the training set\n",
    "svm.fit(train[predictors], train[\"target\"])\n",
    "\n",
    "# Use the SVM model to generate predictions on the testing set\n",
    "preds = svm.predict(test[predictors])"
   ]
  },
  {
   "cell_type": "code",
   "execution_count": 21,
   "id": "a3bb26c6",
   "metadata": {},
   "outputs": [
    {
     "name": "stdout",
     "output_type": "stream",
     "text": [
      "Accuracy: 0.45787545787545786\n"
     ]
    }
   ],
   "source": [
    "\n",
    "# Calculate the accuracy of the model\n",
    "\n",
    "accuracy = accuracy_score(test[\"target\"], preds)\n",
    "print(\"Accuracy:\", accuracy)\n"
   ]
  },
  {
   "cell_type": "code",
   "execution_count": 22,
   "id": "f51a5eec",
   "metadata": {},
   "outputs": [
    {
     "name": "stdout",
     "output_type": "stream",
     "text": [
      "[[ 3 33 15]\n",
      " [ 7 79 32]\n",
      " [ 1 60 43]]\n"
     ]
    }
   ],
   "source": [
    "\n",
    "# Calculate and print the confusion matrix\n",
    "# Generate confusion matrix\n",
    "cm = confusion_matrix(test[\"target\"], preds)\n",
    "print(cm)"
   ]
  },
  {
   "cell_type": "code",
   "execution_count": 28,
   "id": "9b4952d4",
   "metadata": {},
   "outputs": [
    {
     "data": {
      "image/png": "[encoded data removed]",
      "text/plain": [
       "<Figure size 640x480 with 2 Axes>"
      ]
     },
     "metadata": {},
     "output_type": "display_data"
    }
   ],
   "source": [
    "import seaborn as sns\n",
    "import matplotlib.pyplot as plt\n",
    "\n",
    "# Plot heatmap of confusion matrix\n",
    "sns.heatmap(cm, annot=True, cmap=\"Blues\", fmt=\"d\", xticklabels=[\"D\", \"W\", \"L\"], yticklabels=[\"D\", \"W\", \"L\"])\n",
    "plt.xlabel(\"Predicted\")\n",
    "plt.ylabel(\"Actual\")\n",
    "plt.show()"
   ]
  },
  {
   "cell_type": "code",
   "execution_count": 24,
   "id": "de4760fa",
   "metadata": {},
   "outputs": [],
   "source": [
    "combined=pd.DataFrame(dict(actual=test[\"target\"], prediction=preds))"
   ]
  },
  {
   "cell_type": "code",
   "execution_count": 25,
   "id": "779e93fc",
   "metadata": {},
   "outputs": [
    {
     "data": {
      "text/html": [
       "<div>\n",
       "<style scoped>\n",
       "    .dataframe tbody tr th:only-of-type {\n",
       "        vertical-align: middle;\n",
       "    }\n",
       "\n",
       "    .dataframe tbody tr th {\n",
       "        vertical-align: top;\n",
       "    }\n",
       "\n",
       "    .dataframe thead th {\n",
       "        text-align: right;\n",
       "    }\n",
       "</style>\n",
       "<table border=\"1\" class=\"dataframe\">\n",
       "  <thead>\n",
       "    <tr style=\"text-align: right;\">\n",
       "      <th>prediction</th>\n",
       "      <th>0</th>\n",
       "      <th>1</th>\n",
       "      <th>2</th>\n",
       "    </tr>\n",
       "    <tr>\n",
       "      <th>actual</th>\n",
       "      <th></th>\n",
       "      <th></th>\n",
       "      <th></th>\n",
       "    </tr>\n",
       "  </thead>\n",
       "  <tbody>\n",
       "    <tr>\n",
       "      <th>0</th>\n",
       "      <td>3</td>\n",
       "      <td>33</td>\n",
       "      <td>15</td>\n",
       "    </tr>\n",
       "    <tr>\n",
       "      <th>1</th>\n",
       "      <td>7</td>\n",
       "      <td>79</td>\n",
       "      <td>32</td>\n",
       "    </tr>\n",
       "    <tr>\n",
       "      <th>2</th>\n",
       "      <td>1</td>\n",
       "      <td>60</td>\n",
       "      <td>43</td>\n",
       "    </tr>\n",
       "  </tbody>\n",
       "</table>\n",
       "</div>"
      ],
      "text/plain": [
       "prediction  0   1   2\n",
       "actual               \n",
       "0           3  33  15\n",
       "1           7  79  32\n",
       "2           1  60  43"
      ]
     },
     "execution_count": 25,
     "metadata": {},
     "output_type": "execute_result"
    }
   ],
   "source": [
    "pd.crosstab(index=combined[\"actual\"], columns= combined[\"prediction\"])"
   ]
  },
  {
   "cell_type": "code",
   "execution_count": 26,
   "id": "fa542e31",
   "metadata": {},
   "outputs": [
    {
     "name": "stdout",
     "output_type": "stream",
     "text": [
      "Precision Score: 0.43\n"
     ]
    }
   ],
   "source": [
    "from sklearn.metrics import precision_score\n",
    "\n",
    "precision = precision_score(test[\"target\"], preds, average='weighted', zero_division=1)\n",
    "print(\"Precision Score: {:.2f}\".format(precision))"
   ]
  },
  {
   "cell_type": "code",
   "execution_count": 27,
   "id": "12c43df4",
   "metadata": {},
   "outputs": [
    {
     "name": "stdout",
     "output_type": "stream",
     "text": [
      "F1 Score: 0.42\n"
     ]
    }
   ],
   "source": [
    "from sklearn.metrics import f1_score\n",
    "\n",
    "f1 = f1_score(test[\"target\"], preds, average='weighted')\n",
    "print(\"F1 Score: {:.2f}\".format(f1))\n"
   ]
  },
  {
   "cell_type": "code",
   "execution_count": null,
   "id": "77ddc049",
   "metadata": {},
   "outputs": [],
   "source": []
  }
 ],
 "metadata": {
  "kernelspec": {
   "display_name": "Python 3 (ipykernel)",
   "language": "python",
   "name": "python3"
  },
  "language_info": {
   "codemirror_mode": {
    "name": "ipython",
    "version": 3
   },
   "file_extension": ".py",
   "mimetype": "text/x-python",
   "name": "python",
   "nbconvert_exporter": "python",
   "pygments_lexer": "ipython3",
   "version": "3.10.9"
  }
 },
 "nbformat": 4,
 "nbformat_minor": 5
}
