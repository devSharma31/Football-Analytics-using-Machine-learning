{
 "cells": [
  {
   "cell_type": "code",
   "execution_count": 38,
   "id": "7d48e9c3",
   "metadata": {},
   "outputs": [],
   "source": [
    "# Importing necessary libraries\n",
    "import pandas as pd\n",
    "import numpy as np\n",
    "import matplotlib.pyplot as plt\n",
    "import seaborn as sns"
   ]
  },
  {
   "cell_type": "code",
   "execution_count": 39,
   "id": "a0d95baf",
   "metadata": {},
   "outputs": [],
   "source": [
    "path = r'C:\\Users\\Administrator\\Desktop\\Data Science project\\archive\\UEFA Champions League 2016-2022 Data.xlsx'"
   ]
  },
  {
   "cell_type": "code",
   "execution_count": 40,
   "id": "b66d0b1c",
   "metadata": {},
   "outputs": [],
   "source": [
    "goals = pd.read_excel(path, sheet_name = 'goals')\n",
    "managers = pd.read_excel(path, sheet_name = 'managers')\n",
    "matches = pd.read_excel(path, sheet_name = 'matches')\n",
    "players = pd.read_excel(path, sheet_name = 'players')\n",
    "stadiums = pd.read_excel(path, sheet_name = 'stadiums')\n",
    "teams = pd.read_excel(path, sheet_name = 'teams')"
   ]
  },
  {
   "cell_type": "code",
   "execution_count": 41,
   "id": "0972720d",
   "metadata": {},
   "outputs": [],
   "source": [
    "# function for changing columns to lower case\n",
    "def lower(df):\n",
    "    df.columns = df.columns.str.lower()\n",
    "    return df"
   ]
  },
  {
   "cell_type": "code",
   "execution_count": 42,
   "id": "6363314b",
   "metadata": {},
   "outputs": [],
   "source": [
    "# Applying function for every dataframe\n",
    "goal = lower(goals)\n",
    "match = lower(matches)\n",
    "stadium = lower(stadiums)\n",
    "player = lower(players)\n",
    "manager = lower(managers)\n",
    "team = lower(teams)"
   ]
  },
  {
   "cell_type": "code",
   "execution_count": 43,
   "id": "544b03e2",
   "metadata": {},
   "outputs": [],
   "source": [
    "matches['result'] = 'D'  # Set default value as 'D' (draw)\n",
    "\n",
    "# Update result based on home_team_score and away_team_score\n",
    "matches.loc[matches['home_team_score'] > matches['away_team_score'], 'result'] = 'W'\n",
    "matches.loc[matches['home_team_score'] < matches['away_team_score'], 'result'] = 'L'\n"
   ]
  },
  {
   "cell_type": "code",
   "execution_count": 44,
   "id": "e81137d9",
   "metadata": {},
   "outputs": [],
   "source": [
    "matches['season'] = matches['season'].apply(lambda x: int(x.split('-')[0]))"
   ]
  },
  {
   "cell_type": "code",
   "execution_count": 45,
   "id": "d74d6d52",
   "metadata": {},
   "outputs": [],
   "source": [
    "match[\"date_time\"] = pd.to_datetime(match[\"date_time\"], format=\"%d-%b-%y %I.%M.%S.%f000000 %p\")"
   ]
  },
  {
   "cell_type": "code",
   "execution_count": 46,
   "id": "47b83a06",
   "metadata": {},
   "outputs": [],
   "source": [
    "matches.rename(columns={'home_team': 'team', 'away_team': 'opponent'}, inplace=True)"
   ]
  },
  {
   "cell_type": "code",
   "execution_count": 47,
   "id": "e49a6564",
   "metadata": {},
   "outputs": [],
   "source": [
    "matches.rename(columns={'home_team': 'team', 'away_team': 'opponent'}, inplace=True)"
   ]
  },
  {
   "cell_type": "code",
   "execution_count": 48,
   "id": "7cdd5439",
   "metadata": {},
   "outputs": [],
   "source": [
    "# Convert opponent and day of the week to categorical codes\n",
    "matches['opp_code'] = matches['opponent'].astype(\"category\").cat.codes\n",
    "matches[\"day_code\"]=matches[\"date_time\"].dt.dayofweek"
   ]
  },
  {
   "cell_type": "code",
   "execution_count": 49,
   "id": "3b918da0",
   "metadata": {},
   "outputs": [],
   "source": [
    "# Create a feature for home/away matches\n",
    "matches['home_match'] = np.where(matches['team'] == matches['team'], '1', '0')"
   ]
  },
  {
   "cell_type": "code",
   "execution_count": 50,
   "id": "360ce004",
   "metadata": {
    "scrolled": true
   },
   "outputs": [
    {
     "data": {
      "text/html": [
       "<div>\n",
       "<style scoped>\n",
       "    .dataframe tbody tr th:only-of-type {\n",
       "        vertical-align: middle;\n",
       "    }\n",
       "\n",
       "    .dataframe tbody tr th {\n",
       "        vertical-align: top;\n",
       "    }\n",
       "\n",
       "    .dataframe thead th {\n",
       "        text-align: right;\n",
       "    }\n",
       "</style>\n",
       "<table border=\"1\" class=\"dataframe\">\n",
       "  <thead>\n",
       "    <tr style=\"text-align: right;\">\n",
       "      <th></th>\n",
       "      <th>match_id</th>\n",
       "      <th>season</th>\n",
       "      <th>date_time</th>\n",
       "      <th>team</th>\n",
       "      <th>opponent</th>\n",
       "      <th>stadium</th>\n",
       "      <th>home_team_score</th>\n",
       "      <th>away_team_score</th>\n",
       "      <th>penalty_shoot_out</th>\n",
       "      <th>attendance</th>\n",
       "      <th>result</th>\n",
       "      <th>opp_code</th>\n",
       "      <th>day_code</th>\n",
       "      <th>home_match</th>\n",
       "    </tr>\n",
       "  </thead>\n",
       "  <tbody>\n",
       "    <tr>\n",
       "      <th>0</th>\n",
       "      <td>mt1</td>\n",
       "      <td>2021</td>\n",
       "      <td>2021-09-15 20:00:00</td>\n",
       "      <td>Manchester City</td>\n",
       "      <td>RB Leipzig</td>\n",
       "      <td>Etihad Stadium</td>\n",
       "      <td>6</td>\n",
       "      <td>3</td>\n",
       "      <td>0</td>\n",
       "      <td>38062</td>\n",
       "      <td>W</td>\n",
       "      <td>55</td>\n",
       "      <td>2</td>\n",
       "      <td>1</td>\n",
       "    </tr>\n",
       "    <tr>\n",
       "      <th>1</th>\n",
       "      <td>mt2</td>\n",
       "      <td>2021</td>\n",
       "      <td>2021-09-15 20:00:00</td>\n",
       "      <td>Club Brugge KV</td>\n",
       "      <td>Paris Saint-Germain</td>\n",
       "      <td>Jan Breydel Stadion</td>\n",
       "      <td>1</td>\n",
       "      <td>1</td>\n",
       "      <td>0</td>\n",
       "      <td>27546</td>\n",
       "      <td>D</td>\n",
       "      <td>53</td>\n",
       "      <td>2</td>\n",
       "      <td>1</td>\n",
       "    </tr>\n",
       "    <tr>\n",
       "      <th>2</th>\n",
       "      <td>mt3</td>\n",
       "      <td>2021</td>\n",
       "      <td>2021-09-28 20:00:00</td>\n",
       "      <td>Paris Saint-Germain</td>\n",
       "      <td>Manchester City</td>\n",
       "      <td>Parc des Princes</td>\n",
       "      <td>2</td>\n",
       "      <td>0</td>\n",
       "      <td>0</td>\n",
       "      <td>37350</td>\n",
       "      <td>W</td>\n",
       "      <td>45</td>\n",
       "      <td>1</td>\n",
       "      <td>1</td>\n",
       "    </tr>\n",
       "    <tr>\n",
       "      <th>3</th>\n",
       "      <td>mt4</td>\n",
       "      <td>2021</td>\n",
       "      <td>2021-09-28 20:00:00</td>\n",
       "      <td>RB Leipzig</td>\n",
       "      <td>Club Brugge KV</td>\n",
       "      <td>Red Bull Arena</td>\n",
       "      <td>1</td>\n",
       "      <td>2</td>\n",
       "      <td>0</td>\n",
       "      <td>23500</td>\n",
       "      <td>L</td>\n",
       "      <td>19</td>\n",
       "      <td>1</td>\n",
       "      <td>1</td>\n",
       "    </tr>\n",
       "    <tr>\n",
       "      <th>4</th>\n",
       "      <td>mt5</td>\n",
       "      <td>2021</td>\n",
       "      <td>2021-10-19 17:45:00</td>\n",
       "      <td>Club Brugge KV</td>\n",
       "      <td>Manchester City</td>\n",
       "      <td>Jan Breydel Stadion</td>\n",
       "      <td>1</td>\n",
       "      <td>5</td>\n",
       "      <td>0</td>\n",
       "      <td>24915</td>\n",
       "      <td>L</td>\n",
       "      <td>45</td>\n",
       "      <td>1</td>\n",
       "      <td>1</td>\n",
       "    </tr>\n",
       "  </tbody>\n",
       "</table>\n",
       "</div>"
      ],
      "text/plain": [
       "  match_id  season           date_time                 team  \\\n",
       "0      mt1    2021 2021-09-15 20:00:00      Manchester City   \n",
       "1      mt2    2021 2021-09-15 20:00:00       Club Brugge KV   \n",
       "2      mt3    2021 2021-09-28 20:00:00  Paris Saint-Germain   \n",
       "3      mt4    2021 2021-09-28 20:00:00           RB Leipzig   \n",
       "4      mt5    2021 2021-10-19 17:45:00       Club Brugge KV   \n",
       "\n",
       "              opponent              stadium  home_team_score  away_team_score  \\\n",
       "0           RB Leipzig       Etihad Stadium                6                3   \n",
       "1  Paris Saint-Germain  Jan Breydel Stadion                1                1   \n",
       "2      Manchester City     Parc des Princes                2                0   \n",
       "3       Club Brugge KV       Red Bull Arena                1                2   \n",
       "4      Manchester City  Jan Breydel Stadion                1                5   \n",
       "\n",
       "   penalty_shoot_out  attendance result  opp_code  day_code home_match  \n",
       "0                  0       38062      W        55         2          1  \n",
       "1                  0       27546      D        53         2          1  \n",
       "2                  0       37350      W        45         1          1  \n",
       "3                  0       23500      L        19         1          1  \n",
       "4                  0       24915      L        45         1          1  "
      ]
     },
     "execution_count": 50,
     "metadata": {},
     "output_type": "execute_result"
    }
   ],
   "source": [
    "matches.head()"
   ]
  },
  {
   "cell_type": "code",
   "execution_count": 51,
   "id": "2a2048e5",
   "metadata": {},
   "outputs": [],
   "source": [
    "# Create a target variable\n",
    "matches[\"target\"] = matches[\"result\"].map({\"W\": 1, \"L\": 2, \"D\": 0}).astype(\"int\")\n"
   ]
  },
  {
   "cell_type": "code",
   "execution_count": 52,
   "id": "6eb83b95",
   "metadata": {},
   "outputs": [],
   "source": [
    "target = \"target\"\n",
    "\n",
    "# Create a dictionary to keep track of each team's win count\n",
    "team_wins = {}\n",
    "\n",
    "# Loop through each match\n",
    "for i, match in matches.iterrows():\n",
    "\n",
    "    # Get home and away team names and match result\n",
    "    home_team = match['team']\n",
    "    away_team = match['opponent']\n",
    "    result = match['result']\n",
    "\n",
    "    # Update home team's win count\n",
    "    if result == \"W\":\n",
    "        if home_team not in team_wins:\n",
    "            team_wins[home_team] = 0\n",
    "        team_wins[home_team] += 1\n",
    "\n",
    "    # Update away team's win count\n",
    "    elif result == \"L\":\n",
    "        if away_team not in team_wins:\n",
    "            team_wins[away_team] = 0\n",
    "        team_wins[away_team] += 1\n",
    "\n",
    "# Create a new DataFrame with total wins for each team\n",
    "team_wins_df = pd.DataFrame({'team': list(team_wins.keys()), 'total_wins': list(team_wins.values())})\n",
    "\n"
   ]
  },
  {
   "cell_type": "code",
   "execution_count": 53,
   "id": "fe6e3342",
   "metadata": {},
   "outputs": [],
   "source": [
    "from sklearn.model_selection import train_test_split\n",
    "from sklearn.svm import SVC\n",
    "from sklearn.metrics import accuracy_score, confusion_matrix"
   ]
  },
  {
   "cell_type": "code",
   "execution_count": 54,
   "id": "9cb71fd8",
   "metadata": {},
   "outputs": [],
   "source": [
    "train=matches[matches[\"date_time\"]< '2022-06-01']"
   ]
  },
  {
   "cell_type": "code",
   "execution_count": 55,
   "id": "cfd7c7d3",
   "metadata": {},
   "outputs": [],
   "source": [
    "test = matches[matches[\"date_time\"] > '2016-01-01']"
   ]
  },
  {
   "cell_type": "code",
   "execution_count": 56,
   "id": "5c9eefc2",
   "metadata": {},
   "outputs": [],
   "source": [
    "# Merge the team_wins_df DataFrame with the train and test DataFrames on the team name\n",
    "train = pd.merge(matches, team_wins_df, on='team', how='left')\n",
    "test = pd.merge(matches, team_wins_df, on='team', how='left')"
   ]
  },
  {
   "cell_type": "code",
   "execution_count": 57,
   "id": "a5e9e152",
   "metadata": {},
   "outputs": [],
   "source": [
    "# Define the predictors\n",
    "predictors = [\"home_match\", \"opp_code\", \"day_code\", \"total_wins\"]"
   ]
  },
  {
   "cell_type": "code",
   "execution_count": 58,
   "id": "ead3b373",
   "metadata": {},
   "outputs": [],
   "source": [
    "from sklearn.impute import SimpleImputer\n",
    "\n",
    "imputer = SimpleImputer(strategy='mean')\n",
    "train[predictors] = imputer.fit_transform(train[predictors])\n",
    "test[predictors] = imputer.transform(test[predictors])"
   ]
  },
  {
   "cell_type": "code",
   "execution_count": 59,
   "id": "29617775",
   "metadata": {},
   "outputs": [],
   "source": [
    "svm = SVC(kernel='rbf', gamma='auto')\n",
    "\n",
    "# Train the SVM model on the training set\n",
    "svm.fit(train[predictors], train[\"target\"])\n",
    "\n",
    "# Use the SVM model to generate predictions on the testing set\n",
    "preds = svm.predict(test[predictors])"
   ]
  },
  {
   "cell_type": "code",
   "execution_count": 60,
   "id": "439c280f",
   "metadata": {},
   "outputs": [
    {
     "name": "stdout",
     "output_type": "stream",
     "text": [
      "Accuracy: 0.7620967741935484\n"
     ]
    }
   ],
   "source": [
    "\n",
    "# Calculate the accuracy of the model\n",
    "accuracy = accuracy_score(test[\"target\"], preds)\n",
    "print(f\"Accuracy: {accuracy}\")"
   ]
  },
  {
   "cell_type": "code",
   "execution_count": 61,
   "id": "d6157c3d",
   "metadata": {},
   "outputs": [
    {
     "name": "stdout",
     "output_type": "stream",
     "text": [
      "[[ 69  48  42]\n",
      " [  6 291  30]\n",
      " [  6  45 207]]\n"
     ]
    }
   ],
   "source": [
    "# Calculate and print the confusion matrix\n",
    "# Generate confusion matrix\n",
    "cm = confusion_matrix(test[\"target\"], preds)\n",
    "print(cm)"
   ]
  },
  {
   "cell_type": "code",
   "execution_count": 62,
   "id": "93b30c81",
   "metadata": {},
   "outputs": [],
   "source": [
    "combined=pd.DataFrame(dict(actual=test[\"target\"], prediction=preds))"
   ]
  },
  {
   "cell_type": "code",
   "execution_count": 63,
   "id": "82e546bb",
   "metadata": {},
   "outputs": [
    {
     "data": {
      "text/html": [
       "<div>\n",
       "<style scoped>\n",
       "    .dataframe tbody tr th:only-of-type {\n",
       "        vertical-align: middle;\n",
       "    }\n",
       "\n",
       "    .dataframe tbody tr th {\n",
       "        vertical-align: top;\n",
       "    }\n",
       "\n",
       "    .dataframe thead th {\n",
       "        text-align: right;\n",
       "    }\n",
       "</style>\n",
       "<table border=\"1\" class=\"dataframe\">\n",
       "  <thead>\n",
       "    <tr style=\"text-align: right;\">\n",
       "      <th>prediction</th>\n",
       "      <th>0</th>\n",
       "      <th>1</th>\n",
       "      <th>2</th>\n",
       "    </tr>\n",
       "    <tr>\n",
       "      <th>actual</th>\n",
       "      <th></th>\n",
       "      <th></th>\n",
       "      <th></th>\n",
       "    </tr>\n",
       "  </thead>\n",
       "  <tbody>\n",
       "    <tr>\n",
       "      <th>0</th>\n",
       "      <td>69</td>\n",
       "      <td>48</td>\n",
       "      <td>42</td>\n",
       "    </tr>\n",
       "    <tr>\n",
       "      <th>1</th>\n",
       "      <td>6</td>\n",
       "      <td>291</td>\n",
       "      <td>30</td>\n",
       "    </tr>\n",
       "    <tr>\n",
       "      <th>2</th>\n",
       "      <td>6</td>\n",
       "      <td>45</td>\n",
       "      <td>207</td>\n",
       "    </tr>\n",
       "  </tbody>\n",
       "</table>\n",
       "</div>"
      ],
      "text/plain": [
       "prediction   0    1    2\n",
       "actual                  \n",
       "0           69   48   42\n",
       "1            6  291   30\n",
       "2            6   45  207"
      ]
     },
     "execution_count": 63,
     "metadata": {},
     "output_type": "execute_result"
    }
   ],
   "source": [
    "pd.crosstab(index=combined[\"actual\"], columns= combined[\"prediction\"])"
   ]
  },
  {
   "cell_type": "code",
   "execution_count": 69,
   "id": "cbb481e2",
   "metadata": {},
   "outputs": [
    {
     "data": {
      "image/png": "[encoded data removed]",
      "text/plain": [
       "<Figure size 640x480 with 2 Axes>"
      ]
     },
     "metadata": {},
     "output_type": "display_data"
    }
   ],
   "source": [
    "import seaborn as sns\n",
    "import matplotlib.pyplot as plt\n",
    "\n",
    "# Plot heatmap of confusion matrix\n",
    "sns.heatmap(cm, annot=True, cmap=\"Blues\", fmt=\"d\", xticklabels=[\"D\", \"W\", \"L\"], yticklabels=[\"D\", \"W\", \"L\"])\n",
    "plt.xlabel(\"Predicted\")\n",
    "plt.ylabel(\"Actual\")\n",
    "plt.show()"
   ]
  },
  {
   "cell_type": "code",
   "execution_count": 65,
   "id": "72ce0a67",
   "metadata": {},
   "outputs": [
    {
     "name": "stdout",
     "output_type": "stream",
     "text": [
      "Precision Score: 0.77\n"
     ]
    }
   ],
   "source": [
    "from sklearn.metrics import precision_score\n",
    "\n",
    "precision = precision_score(test[\"target\"], preds, average='weighted', zero_division=1)\n",
    "print(\"Precision Score: {:.2f}\".format(precision))"
   ]
  },
  {
   "cell_type": "code",
   "execution_count": 66,
   "id": "f0de5702",
   "metadata": {},
   "outputs": [
    {
     "name": "stdout",
     "output_type": "stream",
     "text": [
      "F1 Score: 0.75\n"
     ]
    }
   ],
   "source": [
    "from sklearn.metrics import f1_score\n",
    "\n",
    "f1 = f1_score(test[\"target\"], preds, average='weighted')\n",
    "print(\"F1 Score: {:.2f}\".format(f1))"
   ]
  },
  {
   "cell_type": "code",
   "execution_count": 67,
   "id": "634ec5b3",
   "metadata": {},
   "outputs": [
    {
     "data": {
      "text/html": [
       "<div>\n",
       "<style scoped>\n",
       "    .dataframe tbody tr th:only-of-type {\n",
       "        vertical-align: middle;\n",
       "    }\n",
       "\n",
       "    .dataframe tbody tr th {\n",
       "        vertical-align: top;\n",
       "    }\n",
       "\n",
       "    .dataframe thead th {\n",
       "        text-align: right;\n",
       "    }\n",
       "</style>\n",
       "<table border=\"1\" class=\"dataframe\">\n",
       "  <thead>\n",
       "    <tr style=\"text-align: right;\">\n",
       "      <th></th>\n",
       "      <th>match_id</th>\n",
       "      <th>season</th>\n",
       "      <th>date_time</th>\n",
       "      <th>team</th>\n",
       "      <th>opponent</th>\n",
       "      <th>stadium</th>\n",
       "      <th>home_team_score</th>\n",
       "      <th>away_team_score</th>\n",
       "      <th>penalty_shoot_out</th>\n",
       "      <th>attendance</th>\n",
       "      <th>result</th>\n",
       "      <th>opp_code</th>\n",
       "      <th>day_code</th>\n",
       "      <th>home_match</th>\n",
       "      <th>target</th>\n",
       "    </tr>\n",
       "  </thead>\n",
       "  <tbody>\n",
       "    <tr>\n",
       "      <th>0</th>\n",
       "      <td>mt1</td>\n",
       "      <td>2021</td>\n",
       "      <td>2021-09-15 20:00:00</td>\n",
       "      <td>Manchester City</td>\n",
       "      <td>RB Leipzig</td>\n",
       "      <td>Etihad Stadium</td>\n",
       "      <td>6</td>\n",
       "      <td>3</td>\n",
       "      <td>0</td>\n",
       "      <td>38062</td>\n",
       "      <td>W</td>\n",
       "      <td>55</td>\n",
       "      <td>2</td>\n",
       "      <td>1</td>\n",
       "      <td>1</td>\n",
       "    </tr>\n",
       "    <tr>\n",
       "      <th>1</th>\n",
       "      <td>mt2</td>\n",
       "      <td>2021</td>\n",
       "      <td>2021-09-15 20:00:00</td>\n",
       "      <td>Club Brugge KV</td>\n",
       "      <td>Paris Saint-Germain</td>\n",
       "      <td>Jan Breydel Stadion</td>\n",
       "      <td>1</td>\n",
       "      <td>1</td>\n",
       "      <td>0</td>\n",
       "      <td>27546</td>\n",
       "      <td>D</td>\n",
       "      <td>53</td>\n",
       "      <td>2</td>\n",
       "      <td>1</td>\n",
       "      <td>0</td>\n",
       "    </tr>\n",
       "    <tr>\n",
       "      <th>2</th>\n",
       "      <td>mt3</td>\n",
       "      <td>2021</td>\n",
       "      <td>2021-09-28 20:00:00</td>\n",
       "      <td>Paris Saint-Germain</td>\n",
       "      <td>Manchester City</td>\n",
       "      <td>Parc des Princes</td>\n",
       "      <td>2</td>\n",
       "      <td>0</td>\n",
       "      <td>0</td>\n",
       "      <td>37350</td>\n",
       "      <td>W</td>\n",
       "      <td>45</td>\n",
       "      <td>1</td>\n",
       "      <td>1</td>\n",
       "      <td>1</td>\n",
       "    </tr>\n",
       "    <tr>\n",
       "      <th>3</th>\n",
       "      <td>mt4</td>\n",
       "      <td>2021</td>\n",
       "      <td>2021-09-28 20:00:00</td>\n",
       "      <td>RB Leipzig</td>\n",
       "      <td>Club Brugge KV</td>\n",
       "      <td>Red Bull Arena</td>\n",
       "      <td>1</td>\n",
       "      <td>2</td>\n",
       "      <td>0</td>\n",
       "      <td>23500</td>\n",
       "      <td>L</td>\n",
       "      <td>19</td>\n",
       "      <td>1</td>\n",
       "      <td>1</td>\n",
       "      <td>2</td>\n",
       "    </tr>\n",
       "    <tr>\n",
       "      <th>4</th>\n",
       "      <td>mt5</td>\n",
       "      <td>2021</td>\n",
       "      <td>2021-10-19 17:45:00</td>\n",
       "      <td>Club Brugge KV</td>\n",
       "      <td>Manchester City</td>\n",
       "      <td>Jan Breydel Stadion</td>\n",
       "      <td>1</td>\n",
       "      <td>5</td>\n",
       "      <td>0</td>\n",
       "      <td>24915</td>\n",
       "      <td>L</td>\n",
       "      <td>45</td>\n",
       "      <td>1</td>\n",
       "      <td>1</td>\n",
       "      <td>2</td>\n",
       "    </tr>\n",
       "  </tbody>\n",
       "</table>\n",
       "</div>"
      ],
      "text/plain": [
       "  match_id  season           date_time                 team  \\\n",
       "0      mt1    2021 2021-09-15 20:00:00      Manchester City   \n",
       "1      mt2    2021 2021-09-15 20:00:00       Club Brugge KV   \n",
       "2      mt3    2021 2021-09-28 20:00:00  Paris Saint-Germain   \n",
       "3      mt4    2021 2021-09-28 20:00:00           RB Leipzig   \n",
       "4      mt5    2021 2021-10-19 17:45:00       Club Brugge KV   \n",
       "\n",
       "              opponent              stadium  home_team_score  away_team_score  \\\n",
       "0           RB Leipzig       Etihad Stadium                6                3   \n",
       "1  Paris Saint-Germain  Jan Breydel Stadion                1                1   \n",
       "2      Manchester City     Parc des Princes                2                0   \n",
       "3       Club Brugge KV       Red Bull Arena                1                2   \n",
       "4      Manchester City  Jan Breydel Stadion                1                5   \n",
       "\n",
       "   penalty_shoot_out  attendance result  opp_code  day_code home_match  target  \n",
       "0                  0       38062      W        55         2          1       1  \n",
       "1                  0       27546      D        53         2          1       0  \n",
       "2                  0       37350      W        45         1          1       1  \n",
       "3                  0       23500      L        19         1          1       2  \n",
       "4                  0       24915      L        45         1          1       2  "
      ]
     },
     "execution_count": 67,
     "metadata": {},
     "output_type": "execute_result"
    }
   ],
   "source": [
    "matches.head()"
   ]
  },
  {
   "cell_type": "code",
   "execution_count": 68,
   "id": "f0da5937",
   "metadata": {},
   "outputs": [
    {
     "data": {
      "text/plain": [
       "['match_prediction_model_svm_test2.joblib']"
      ]
     },
     "execution_count": 68,
     "metadata": {},
     "output_type": "execute_result"
    }
   ],
   "source": [
    "import joblib\n",
    "\n",
    "filename = 'match_prediction_model_svm_test2.joblib'\n",
    "joblib.dump(svm, filename)"
   ]
  },
  {
   "cell_type": "code",
   "execution_count": null,
   "id": "d67ff4db",
   "metadata": {},
   "outputs": [],
   "source": []
  }
 ],
 "metadata": {
  "kernelspec": {
   "display_name": "Python 3 (ipykernel)",
   "language": "python",
   "name": "python3"
  },
  "language_info": {
   "codemirror_mode": {
    "name": "ipython",
    "version": 3
   },
   "file_extension": ".py",
   "mimetype": "text/x-python",
   "name": "python",
   "nbconvert_exporter": "python",
   "pygments_lexer": "ipython3",
   "version": "3.10.9"
  }
 },
 "nbformat": 4,
 "nbformat_minor": 5
}
