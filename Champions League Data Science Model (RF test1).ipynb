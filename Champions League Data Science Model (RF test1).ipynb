{
 "cells": [
  {
   "cell_type": "code",
   "execution_count": 175,
   "id": "142ba6d9",
   "metadata": {},
   "outputs": [],
   "source": [
    "# Importing necessary libraries\n",
    "import pandas as pd\n",
    "import numpy as np\n",
    "import matplotlib.pyplot as plt\n",
    "import seaborn as sns"
   ]
  },
  {
   "cell_type": "code",
   "execution_count": 176,
   "id": "c3d90581",
   "metadata": {},
   "outputs": [],
   "source": [
    "path = r'C:\\Users\\Administrator\\Desktop\\Data Science project\\archive\\UEFA Champions League 2016-2022 Data.xlsx'"
   ]
  },
  {
   "cell_type": "code",
   "execution_count": 177,
   "id": "22e5134d",
   "metadata": {},
   "outputs": [],
   "source": [
    "goals = pd.read_excel(path, sheet_name = 'goals')\n",
    "managers = pd.read_excel(path, sheet_name = 'managers')\n",
    "matches = pd.read_excel(path, sheet_name = 'matches')\n",
    "players = pd.read_excel(path, sheet_name = 'players')\n",
    "stadiums = pd.read_excel(path, sheet_name = 'stadiums')\n",
    "teams = pd.read_excel(path, sheet_name = 'teams')"
   ]
  },
  {
   "cell_type": "code",
   "execution_count": 178,
   "id": "e1f594aa",
   "metadata": {},
   "outputs": [],
   "source": [
    "# function for changing columns to lower case\n",
    "def lower(df):\n",
    "    df.columns = df.columns.str.lower()\n",
    "    return df"
   ]
  },
  {
   "cell_type": "code",
   "execution_count": 179,
   "id": "0d37443a",
   "metadata": {},
   "outputs": [],
   "source": [
    "# Applying function for every dataframe\n",
    "goal = lower(goals)\n",
    "match = lower(matches)\n",
    "stadium = lower(stadiums)\n",
    "player = lower(players)\n",
    "manager = lower(managers)\n",
    "team = lower(teams)"
   ]
  },
  {
   "cell_type": "code",
   "execution_count": 180,
   "id": "aa6cda51",
   "metadata": {},
   "outputs": [],
   "source": [
    "matches['result'] = 'D'  # Set default value as 'D' (draw)\n",
    "\n",
    "# Update result based on home_team_score and away_team_score\n",
    "matches.loc[matches['home_team_score'] > matches['away_team_score'], 'result'] = 'W'\n",
    "matches.loc[matches['home_team_score'] < matches['away_team_score'], 'result'] = 'L'\n"
   ]
  },
  {
   "cell_type": "code",
   "execution_count": 181,
   "id": "ca76e0fc",
   "metadata": {},
   "outputs": [],
   "source": [
    "matches['season'] = matches['season'].apply(lambda x: int(x.split('-')[0]))"
   ]
  },
  {
   "cell_type": "code",
   "execution_count": 182,
   "id": "fa62ba3c",
   "metadata": {},
   "outputs": [],
   "source": [
    "match[\"date_time\"] = pd.to_datetime(match[\"date_time\"], format=\"%d-%b-%y %I.%M.%S.%f000000 %p\")"
   ]
  },
  {
   "cell_type": "code",
   "execution_count": 183,
   "id": "7b1f017a",
   "metadata": {},
   "outputs": [
    {
     "data": {
      "text/plain": [
       "match_id                     object\n",
       "season                        int64\n",
       "date_time            datetime64[ns]\n",
       "home_team                    object\n",
       "away_team                    object\n",
       "stadium                      object\n",
       "home_team_score               int64\n",
       "away_team_score               int64\n",
       "penalty_shoot_out             int64\n",
       "attendance                    int64\n",
       "result                       object\n",
       "dtype: object"
      ]
     },
     "execution_count": 183,
     "metadata": {},
     "output_type": "execute_result"
    }
   ],
   "source": [
    "match.dtypes"
   ]
  },
  {
   "cell_type": "code",
   "execution_count": 184,
   "id": "3bd170db",
   "metadata": {},
   "outputs": [],
   "source": [
    "matches.rename(columns={'home_team': 'team', 'away_team': 'opponent'}, inplace=True)\n"
   ]
  },
  {
   "cell_type": "code",
   "execution_count": 185,
   "id": "521ed6c1",
   "metadata": {},
   "outputs": [],
   "source": [
    "matches['opp_code'] = matches['opponent'].astype(\"category\").cat.codes"
   ]
  },
  {
   "cell_type": "code",
   "execution_count": 186,
   "id": "897e4390",
   "metadata": {},
   "outputs": [],
   "source": [
    "matches[\"day_code\"]=matches[\"date_time\"].dt.dayofweek"
   ]
  },
  {
   "cell_type": "code",
   "execution_count": 187,
   "id": "08f429fc",
   "metadata": {},
   "outputs": [],
   "source": [
    "matches['venue_code'] = np.where(matches['team']==matches['team'], 1, 0)\n"
   ]
  },
  {
   "cell_type": "code",
   "execution_count": 188,
   "id": "d0c11ba9",
   "metadata": {},
   "outputs": [],
   "source": [
    "matches[\"target\"] = matches[\"result\"].map({\"W\": 1, \"L\": 2, \"D\": 0}).astype(\"int\")\n"
   ]
  },
  {
   "cell_type": "code",
   "execution_count": 189,
   "id": "f397e4a6",
   "metadata": {},
   "outputs": [],
   "source": [
    "from sklearn.ensemble import RandomForestClassifier"
   ]
  },
  {
   "cell_type": "code",
   "execution_count": 315,
   "id": "f69e7e2f",
   "metadata": {},
   "outputs": [],
   "source": [
    "from sklearn.ensemble import RandomForestClassifier\n",
    "\n",
    "rf = RandomForestClassifier(n_estimators=50, min_samples_split=10, random_state=42)\n"
   ]
  },
  {
   "cell_type": "code",
   "execution_count": 316,
   "id": "3c669f9d",
   "metadata": {},
   "outputs": [],
   "source": [
    "train=matches[matches[\"date_time\"]< '2020-01-01']"
   ]
  },
  {
   "cell_type": "code",
   "execution_count": 317,
   "id": "7be05d18",
   "metadata": {},
   "outputs": [],
   "source": [
    "test=matches[matches[\"date_time\"]> '2020-01-01']"
   ]
  },
  {
   "cell_type": "code",
   "execution_count": 318,
   "id": "e5bd8ec4",
   "metadata": {},
   "outputs": [],
   "source": [
    "predictors= [\"venue_code\", \"opp_code\", \"day_code\"]"
   ]
  },
  {
   "cell_type": "code",
   "execution_count": 319,
   "id": "914b85ae",
   "metadata": {},
   "outputs": [
    {
     "data": {
      "text/html": [
       "<style>#sk-container-id-16 {color: black;background-color: white;}#sk-container-id-16 pre{padding: 0;}#sk-container-id-16 div.sk-toggleable {background-color: white;}#sk-container-id-16 label.sk-toggleable__label {cursor: pointer;display: block;width: 100%;margin-bottom: 0;padding: 0.3em;box-sizing: border-box;text-align: center;}#sk-container-id-16 label.sk-toggleable__label-arrow:before {content: \"▸\";float: left;margin-right: 0.25em;color: #696969;}#sk-container-id-16 label.sk-toggleable__label-arrow:hover:before {color: black;}#sk-container-id-16 div.sk-estimator:hover label.sk-toggleable__label-arrow:before {color: black;}#sk-container-id-16 div.sk-toggleable__content {max-height: 0;max-width: 0;overflow: hidden;text-align: left;background-color: #f0f8ff;}#sk-container-id-16 div.sk-toggleable__content pre {margin: 0.2em;color: black;border-radius: 0.25em;background-color: #f0f8ff;}#sk-container-id-16 input.sk-toggleable__control:checked~div.sk-toggleable__content {max-height: 200px;max-width: 100%;overflow: auto;}#sk-container-id-16 input.sk-toggleable__control:checked~label.sk-toggleable__label-arrow:before {content: \"▾\";}#sk-container-id-16 div.sk-estimator input.sk-toggleable__control:checked~label.sk-toggleable__label {background-color: #d4ebff;}#sk-container-id-16 div.sk-label input.sk-toggleable__control:checked~label.sk-toggleable__label {background-color: #d4ebff;}#sk-container-id-16 input.sk-hidden--visually {border: 0;clip: rect(1px 1px 1px 1px);clip: rect(1px, 1px, 1px, 1px);height: 1px;margin: -1px;overflow: hidden;padding: 0;position: absolute;width: 1px;}#sk-container-id-16 div.sk-estimator {font-family: monospace;background-color: #f0f8ff;border: 1px dotted black;border-radius: 0.25em;box-sizing: border-box;margin-bottom: 0.5em;}#sk-container-id-16 div.sk-estimator:hover {background-color: #d4ebff;}#sk-container-id-16 div.sk-parallel-item::after {content: \"\";width: 100%;border-bottom: 1px solid gray;flex-grow: 1;}#sk-container-id-16 div.sk-label:hover label.sk-toggleable__label {background-color: #d4ebff;}#sk-container-id-16 div.sk-serial::before {content: \"\";position: absolute;border-left: 1px solid gray;box-sizing: border-box;top: 0;bottom: 0;left: 50%;z-index: 0;}#sk-container-id-16 div.sk-serial {display: flex;flex-direction: column;align-items: center;background-color: white;padding-right: 0.2em;padding-left: 0.2em;position: relative;}#sk-container-id-16 div.sk-item {position: relative;z-index: 1;}#sk-container-id-16 div.sk-parallel {display: flex;align-items: stretch;justify-content: center;background-color: white;position: relative;}#sk-container-id-16 div.sk-item::before, #sk-container-id-16 div.sk-parallel-item::before {content: \"\";position: absolute;border-left: 1px solid gray;box-sizing: border-box;top: 0;bottom: 0;left: 50%;z-index: -1;}#sk-container-id-16 div.sk-parallel-item {display: flex;flex-direction: column;z-index: 1;position: relative;background-color: white;}#sk-container-id-16 div.sk-parallel-item:first-child::after {align-self: flex-end;width: 50%;}#sk-container-id-16 div.sk-parallel-item:last-child::after {align-self: flex-start;width: 50%;}#sk-container-id-16 div.sk-parallel-item:only-child::after {width: 0;}#sk-container-id-16 div.sk-dashed-wrapped {border: 1px dashed gray;margin: 0 0.4em 0.5em 0.4em;box-sizing: border-box;padding-bottom: 0.4em;background-color: white;}#sk-container-id-16 div.sk-label label {font-family: monospace;font-weight: bold;display: inline-block;line-height: 1.2em;}#sk-container-id-16 div.sk-label-container {text-align: center;}#sk-container-id-16 div.sk-container {/* jupyter's `normalize.less` sets `[hidden] { display: none; }` but bootstrap.min.css set `[hidden] { display: none !important; }` so we also need the `!important` here to be able to override the default hidden behavior on the sphinx rendered scikit-learn.org. See: https://github.com/scikit-learn/scikit-learn/issues/21755 */display: inline-block !important;position: relative;}#sk-container-id-16 div.sk-text-repr-fallback {display: none;}</style><div id=\"sk-container-id-16\" class=\"sk-top-container\"><div class=\"sk-text-repr-fallback\"><pre>RandomForestClassifier(min_samples_split=10, n_estimators=50, random_state=42)</pre><b>In a Jupyter environment, please rerun this cell to show the HTML representation or trust the notebook. <br />On GitHub, the HTML representation is unable to render, please try loading this page with nbviewer.org.</b></div><div class=\"sk-container\" hidden><div class=\"sk-item\"><div class=\"sk-estimator sk-toggleable\"><input class=\"sk-toggleable__control sk-hidden--visually\" id=\"sk-estimator-id-22\" type=\"checkbox\" checked><label for=\"sk-estimator-id-22\" class=\"sk-toggleable__label sk-toggleable__label-arrow\">RandomForestClassifier</label><div class=\"sk-toggleable__content\"><pre>RandomForestClassifier(min_samples_split=10, n_estimators=50, random_state=42)</pre></div></div></div></div></div>"
      ],
      "text/plain": [
       "RandomForestClassifier(min_samples_split=10, n_estimators=50, random_state=42)"
      ]
     },
     "execution_count": 319,
     "metadata": {},
     "output_type": "execute_result"
    }
   ],
   "source": [
    "rf.fit(train[predictors], train[\"target\"])"
   ]
  },
  {
   "cell_type": "code",
   "execution_count": 320,
   "id": "e57b933f",
   "metadata": {},
   "outputs": [],
   "source": [
    "preds=rf.predict(test[predictors])"
   ]
  },
  {
   "cell_type": "code",
   "execution_count": 321,
   "id": "0eb85faf",
   "metadata": {},
   "outputs": [
    {
     "name": "stdout",
     "output_type": "stream",
     "text": [
      "Accuracy: 0.4652014652014652\n"
     ]
    }
   ],
   "source": [
    "from sklearn.metrics import accuracy_score\n",
    "\n",
    "accuracy = accuracy_score(test[\"target\"], preds)\n",
    "print(\"Accuracy:\", accuracy)\n"
   ]
  },
  {
   "cell_type": "code",
   "execution_count": 322,
   "id": "c4e947c9",
   "metadata": {},
   "outputs": [
    {
     "name": "stdout",
     "output_type": "stream",
     "text": [
      "     target  predicted\n",
      "0         1          1\n",
      "1         0          1\n",
      "2         1          2\n",
      "3         2          1\n",
      "4         2          2\n",
      "..      ...        ...\n",
      "364       2          2\n",
      "365       2          2\n",
      "366       2          2\n",
      "367       2          2\n",
      "368       2          2\n",
      "\n",
      "[273 rows x 2 columns]\n"
     ]
    }
   ],
   "source": [
    "result_df = pd.concat([test['target'], pd.Series(preds, name='predicted', index=test.index)], axis=1)\n",
    "print(result_df)"
   ]
  },
  {
   "cell_type": "code",
   "execution_count": 323,
   "id": "f07ffa29",
   "metadata": {
    "scrolled": true
   },
   "outputs": [
    {
     "name": "stdout",
     "output_type": "stream",
     "text": [
      "[[ 6 23 22]\n",
      " [12 64 42]\n",
      " [ 5 42 57]]\n"
     ]
    }
   ],
   "source": [
    "from sklearn.metrics import confusion_matrix\n",
    "\n",
    "# Generate confusion matrix\n",
    "cm = confusion_matrix(test[\"target\"], preds)\n",
    "print(cm)\n"
   ]
  },
  {
   "cell_type": "code",
   "execution_count": 334,
   "id": "1b2d5124",
   "metadata": {},
   "outputs": [
    {
     "data": {
      "image/png": "[encoded data removed]",
      "text/plain": [
       "<Figure size 640x480 with 2 Axes>"
      ]
     },
     "metadata": {},
     "output_type": "display_data"
    }
   ],
   "source": [
    "import seaborn as sns\n",
    "import matplotlib.pyplot as plt\n",
    "\n",
    "# Plot heatmap of confusion matrix\n",
    "sns.heatmap(cm, annot=True, cmap=\"Blues\", fmt=\"d\", xticklabels=[\"D\", \"W\", \"L\"], yticklabels=[\"D\", \"W\", \"L\"])\n",
    "plt.xlabel(\"Predicted\")\n",
    "plt.ylabel(\"Actual\")\n",
    "plt.show()\n"
   ]
  },
  {
   "cell_type": "code",
   "execution_count": 325,
   "id": "85a49ca0",
   "metadata": {},
   "outputs": [],
   "source": [
    "combined=pd.DataFrame(dict(actual=test[\"target\"], prediction=preds))"
   ]
  },
  {
   "cell_type": "code",
   "execution_count": 326,
   "id": "90ae3949",
   "metadata": {},
   "outputs": [
    {
     "data": {
      "text/html": [
       "<div>\n",
       "<style scoped>\n",
       "    .dataframe tbody tr th:only-of-type {\n",
       "        vertical-align: middle;\n",
       "    }\n",
       "\n",
       "    .dataframe tbody tr th {\n",
       "        vertical-align: top;\n",
       "    }\n",
       "\n",
       "    .dataframe thead th {\n",
       "        text-align: right;\n",
       "    }\n",
       "</style>\n",
       "<table border=\"1\" class=\"dataframe\">\n",
       "  <thead>\n",
       "    <tr style=\"text-align: right;\">\n",
       "      <th>prediction</th>\n",
       "      <th>0</th>\n",
       "      <th>1</th>\n",
       "      <th>2</th>\n",
       "    </tr>\n",
       "    <tr>\n",
       "      <th>actual</th>\n",
       "      <th></th>\n",
       "      <th></th>\n",
       "      <th></th>\n",
       "    </tr>\n",
       "  </thead>\n",
       "  <tbody>\n",
       "    <tr>\n",
       "      <th>0</th>\n",
       "      <td>6</td>\n",
       "      <td>23</td>\n",
       "      <td>22</td>\n",
       "    </tr>\n",
       "    <tr>\n",
       "      <th>1</th>\n",
       "      <td>12</td>\n",
       "      <td>64</td>\n",
       "      <td>42</td>\n",
       "    </tr>\n",
       "    <tr>\n",
       "      <th>2</th>\n",
       "      <td>5</td>\n",
       "      <td>42</td>\n",
       "      <td>57</td>\n",
       "    </tr>\n",
       "  </tbody>\n",
       "</table>\n",
       "</div>"
      ],
      "text/plain": [
       "prediction   0   1   2\n",
       "actual                \n",
       "0            6  23  22\n",
       "1           12  64  42\n",
       "2            5  42  57"
      ]
     },
     "execution_count": 326,
     "metadata": {},
     "output_type": "execute_result"
    }
   ],
   "source": [
    "pd.crosstab(index=combined[\"actual\"], columns= combined[\"prediction\"])"
   ]
  },
  {
   "cell_type": "code",
   "execution_count": 327,
   "id": "7e0cc1f0",
   "metadata": {},
   "outputs": [
    {
     "name": "stdout",
     "output_type": "stream",
     "text": [
      "Precision Score: 0.44\n"
     ]
    }
   ],
   "source": [
    "from sklearn.metrics import precision_score\n",
    "\n",
    "precision = precision_score(test[\"target\"], preds, average='weighted')\n",
    "print(\"Precision Score: {:.2f}\".format(precision))\n"
   ]
  },
  {
   "cell_type": "code",
   "execution_count": 328,
   "id": "889728df",
   "metadata": {},
   "outputs": [
    {
     "name": "stdout",
     "output_type": "stream",
     "text": [
      "F1 Score: 0.45\n"
     ]
    }
   ],
   "source": [
    "from sklearn.metrics import f1_score\n",
    "\n",
    "f1 = f1_score(test[\"target\"], preds, average='weighted')\n",
    "print(\"F1 Score: {:.2f}\".format(f1))\n",
    "\n"
   ]
  },
  {
   "cell_type": "code",
   "execution_count": 329,
   "id": "e9240822",
   "metadata": {},
   "outputs": [
    {
     "data": {
      "text/plain": [
       "['match_prediction_model_rf_test1.joblib']"
      ]
     },
     "execution_count": 329,
     "metadata": {},
     "output_type": "execute_result"
    }
   ],
   "source": [
    "import joblib\n",
    "\n",
    "filename = 'match_prediction_model_rf_test1.joblib'\n",
    "joblib.dump(rf, filename)"
   ]
  },
  {
   "cell_type": "code",
   "execution_count": 330,
   "id": "3760020e",
   "metadata": {},
   "outputs": [],
   "source": [
    "from scipy.stats import randint as sp_randint\n",
    "import matplotlib.pyplot as plt"
   ]
  },
  {
   "cell_type": "code",
   "execution_count": 331,
   "id": "73543f2a",
   "metadata": {},
   "outputs": [],
   "source": [
    "from sklearn.ensemble import GradientBoostingClassifier\n",
    "from sklearn.model_selection import RandomizedSearchCV\n",
    "import numpy as np\n",
    "from sklearn.model_selection import GridSearchCV\n",
    "\n",
    "# define the parameter grid to search over\n",
    "param_grid = {'max_depth': [3, 5, 7, 9], 'learning_rate': [0.001, 0.01, 0.1, 1]}\n",
    "\n",
    "# create a gradient boosting classifier\n",
    "gbc = GradientBoostingClassifier()\n",
    "\n",
    "# create the grid search object\n",
    "gs = GridSearchCV(gbc, param_grid, cv=5)"
   ]
  },
  {
   "cell_type": "code",
   "execution_count": 332,
   "id": "5a2493d8",
   "metadata": {},
   "outputs": [
    {
     "data": {
      "text/html": [
       "<style>#sk-container-id-17 {color: black;background-color: white;}#sk-container-id-17 pre{padding: 0;}#sk-container-id-17 div.sk-toggleable {background-color: white;}#sk-container-id-17 label.sk-toggleable__label {cursor: pointer;display: block;width: 100%;margin-bottom: 0;padding: 0.3em;box-sizing: border-box;text-align: center;}#sk-container-id-17 label.sk-toggleable__label-arrow:before {content: \"▸\";float: left;margin-right: 0.25em;color: #696969;}#sk-container-id-17 label.sk-toggleable__label-arrow:hover:before {color: black;}#sk-container-id-17 div.sk-estimator:hover label.sk-toggleable__label-arrow:before {color: black;}#sk-container-id-17 div.sk-toggleable__content {max-height: 0;max-width: 0;overflow: hidden;text-align: left;background-color: #f0f8ff;}#sk-container-id-17 div.sk-toggleable__content pre {margin: 0.2em;color: black;border-radius: 0.25em;background-color: #f0f8ff;}#sk-container-id-17 input.sk-toggleable__control:checked~div.sk-toggleable__content {max-height: 200px;max-width: 100%;overflow: auto;}#sk-container-id-17 input.sk-toggleable__control:checked~label.sk-toggleable__label-arrow:before {content: \"▾\";}#sk-container-id-17 div.sk-estimator input.sk-toggleable__control:checked~label.sk-toggleable__label {background-color: #d4ebff;}#sk-container-id-17 div.sk-label input.sk-toggleable__control:checked~label.sk-toggleable__label {background-color: #d4ebff;}#sk-container-id-17 input.sk-hidden--visually {border: 0;clip: rect(1px 1px 1px 1px);clip: rect(1px, 1px, 1px, 1px);height: 1px;margin: -1px;overflow: hidden;padding: 0;position: absolute;width: 1px;}#sk-container-id-17 div.sk-estimator {font-family: monospace;background-color: #f0f8ff;border: 1px dotted black;border-radius: 0.25em;box-sizing: border-box;margin-bottom: 0.5em;}#sk-container-id-17 div.sk-estimator:hover {background-color: #d4ebff;}#sk-container-id-17 div.sk-parallel-item::after {content: \"\";width: 100%;border-bottom: 1px solid gray;flex-grow: 1;}#sk-container-id-17 div.sk-label:hover label.sk-toggleable__label {background-color: #d4ebff;}#sk-container-id-17 div.sk-serial::before {content: \"\";position: absolute;border-left: 1px solid gray;box-sizing: border-box;top: 0;bottom: 0;left: 50%;z-index: 0;}#sk-container-id-17 div.sk-serial {display: flex;flex-direction: column;align-items: center;background-color: white;padding-right: 0.2em;padding-left: 0.2em;position: relative;}#sk-container-id-17 div.sk-item {position: relative;z-index: 1;}#sk-container-id-17 div.sk-parallel {display: flex;align-items: stretch;justify-content: center;background-color: white;position: relative;}#sk-container-id-17 div.sk-item::before, #sk-container-id-17 div.sk-parallel-item::before {content: \"\";position: absolute;border-left: 1px solid gray;box-sizing: border-box;top: 0;bottom: 0;left: 50%;z-index: -1;}#sk-container-id-17 div.sk-parallel-item {display: flex;flex-direction: column;z-index: 1;position: relative;background-color: white;}#sk-container-id-17 div.sk-parallel-item:first-child::after {align-self: flex-end;width: 50%;}#sk-container-id-17 div.sk-parallel-item:last-child::after {align-self: flex-start;width: 50%;}#sk-container-id-17 div.sk-parallel-item:only-child::after {width: 0;}#sk-container-id-17 div.sk-dashed-wrapped {border: 1px dashed gray;margin: 0 0.4em 0.5em 0.4em;box-sizing: border-box;padding-bottom: 0.4em;background-color: white;}#sk-container-id-17 div.sk-label label {font-family: monospace;font-weight: bold;display: inline-block;line-height: 1.2em;}#sk-container-id-17 div.sk-label-container {text-align: center;}#sk-container-id-17 div.sk-container {/* jupyter's `normalize.less` sets `[hidden] { display: none; }` but bootstrap.min.css set `[hidden] { display: none !important; }` so we also need the `!important` here to be able to override the default hidden behavior on the sphinx rendered scikit-learn.org. See: https://github.com/scikit-learn/scikit-learn/issues/21755 */display: inline-block !important;position: relative;}#sk-container-id-17 div.sk-text-repr-fallback {display: none;}</style><div id=\"sk-container-id-17\" class=\"sk-top-container\"><div class=\"sk-text-repr-fallback\"><pre>GridSearchCV(cv=5, estimator=GradientBoostingClassifier(),\n",
       "             param_grid={&#x27;learning_rate&#x27;: [0.001, 0.01, 0.1, 1],\n",
       "                         &#x27;max_depth&#x27;: [3, 5, 7, 9]})</pre><b>In a Jupyter environment, please rerun this cell to show the HTML representation or trust the notebook. <br />On GitHub, the HTML representation is unable to render, please try loading this page with nbviewer.org.</b></div><div class=\"sk-container\" hidden><div class=\"sk-item sk-dashed-wrapped\"><div class=\"sk-label-container\"><div class=\"sk-label sk-toggleable\"><input class=\"sk-toggleable__control sk-hidden--visually\" id=\"sk-estimator-id-23\" type=\"checkbox\" ><label for=\"sk-estimator-id-23\" class=\"sk-toggleable__label sk-toggleable__label-arrow\">GridSearchCV</label><div class=\"sk-toggleable__content\"><pre>GridSearchCV(cv=5, estimator=GradientBoostingClassifier(),\n",
       "             param_grid={&#x27;learning_rate&#x27;: [0.001, 0.01, 0.1, 1],\n",
       "                         &#x27;max_depth&#x27;: [3, 5, 7, 9]})</pre></div></div></div><div class=\"sk-parallel\"><div class=\"sk-parallel-item\"><div class=\"sk-item\"><div class=\"sk-label-container\"><div class=\"sk-label sk-toggleable\"><input class=\"sk-toggleable__control sk-hidden--visually\" id=\"sk-estimator-id-24\" type=\"checkbox\" ><label for=\"sk-estimator-id-24\" class=\"sk-toggleable__label sk-toggleable__label-arrow\">estimator: GradientBoostingClassifier</label><div class=\"sk-toggleable__content\"><pre>GradientBoostingClassifier()</pre></div></div></div><div class=\"sk-serial\"><div class=\"sk-item\"><div class=\"sk-estimator sk-toggleable\"><input class=\"sk-toggleable__control sk-hidden--visually\" id=\"sk-estimator-id-25\" type=\"checkbox\" ><label for=\"sk-estimator-id-25\" class=\"sk-toggleable__label sk-toggleable__label-arrow\">GradientBoostingClassifier</label><div class=\"sk-toggleable__content\"><pre>GradientBoostingClassifier()</pre></div></div></div></div></div></div></div></div></div></div>"
      ],
      "text/plain": [
       "GridSearchCV(cv=5, estimator=GradientBoostingClassifier(),\n",
       "             param_grid={'learning_rate': [0.001, 0.01, 0.1, 1],\n",
       "                         'max_depth': [3, 5, 7, 9]})"
      ]
     },
     "execution_count": 332,
     "metadata": {},
     "output_type": "execute_result"
    }
   ],
   "source": [
    "# Fit the randomized search object to the data\n",
    "gs.fit(train[predictors], train[\"target\"])"
   ]
  },
  {
   "cell_type": "code",
   "execution_count": 274,
   "id": "8f057aaa",
   "metadata": {},
   "outputs": [],
   "source": [
    "# extract the results of the grid search\n",
    "results = gs.cv_results_\n"
   ]
  },
  {
   "cell_type": "code",
   "execution_count": 276,
   "id": "024a4a35",
   "metadata": {},
   "outputs": [
    {
     "data": {
      "image/png": "[encoded data removed]",
      "text/plain": [
       "<Figure size 1000x500 with 2 Axes>"
      ]
     },
     "metadata": {},
     "output_type": "display_data"
    }
   ],
   "source": [
    "# plot the results of the grid search\n",
    "plt.figure(figsize=(10, 5))\n",
    "plt.title(\"Grid Search Results for Gradient Boosting Classifier\")\n",
    "plt.xlabel(\"max_depth\")\n",
    "plt.ylabel(\"learning_rate\")\n",
    "plt.imshow(results['mean_test_score'].reshape(4, 4), cmap='viridis', interpolation='nearest')\n",
    "plt.xticks(range(len(param_grid['max_depth'])), param_grid['max_depth'])\n",
    "plt.yticks(range(len(param_grid['learning_rate'])), param_grid['learning_rate'])\n",
    "plt.colorbar()\n",
    "plt.show()"
   ]
  }
 ],
 "metadata": {
  "kernelspec": {
   "display_name": "Python 3 (ipykernel)",
   "language": "python",
   "name": "python3"
  },
  "language_info": {
   "codemirror_mode": {
    "name": "ipython",
    "version": 3
   },
   "file_extension": ".py",
   "mimetype": "text/x-python",
   "name": "python",
   "nbconvert_exporter": "python",
   "pygments_lexer": "ipython3",
   "version": "3.10.9"
  }
 },
 "nbformat": 4,
 "nbformat_minor": 5
}
