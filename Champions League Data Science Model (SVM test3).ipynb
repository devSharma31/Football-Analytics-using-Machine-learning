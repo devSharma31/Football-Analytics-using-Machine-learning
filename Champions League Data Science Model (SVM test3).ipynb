{
 "cells": [
  {
   "cell_type": "code",
   "execution_count": 1,
   "id": "3543640c",
   "metadata": {},
   "outputs": [],
   "source": [
    "# Importing necessary libraries\n",
    "import pandas as pd\n",
    "import numpy as np\n",
    "import matplotlib.pyplot as plt\n",
    "import seaborn as sns"
   ]
  },
  {
   "cell_type": "code",
   "execution_count": 2,
   "id": "a5dae7ce",
   "metadata": {},
   "outputs": [],
   "source": [
    "matches_new = pd.read_csv('matches_new.csv')"
   ]
  },
  {
   "cell_type": "code",
   "execution_count": 3,
   "id": "2d050334",
   "metadata": {},
   "outputs": [
    {
     "data": {
      "text/html": [
       "<div>\n",
       "<style scoped>\n",
       "    .dataframe tbody tr th:only-of-type {\n",
       "        vertical-align: middle;\n",
       "    }\n",
       "\n",
       "    .dataframe tbody tr th {\n",
       "        vertical-align: top;\n",
       "    }\n",
       "\n",
       "    .dataframe thead th {\n",
       "        text-align: right;\n",
       "    }\n",
       "</style>\n",
       "<table border=\"1\" class=\"dataframe\">\n",
       "  <thead>\n",
       "    <tr style=\"text-align: right;\">\n",
       "      <th></th>\n",
       "      <th>match week</th>\n",
       "      <th>date_time</th>\n",
       "      <th>team</th>\n",
       "      <th>xg</th>\n",
       "      <th>score</th>\n",
       "      <th>xg.1</th>\n",
       "      <th>opponent</th>\n",
       "      <th>stadium</th>\n",
       "      <th>home_team_score</th>\n",
       "      <th>away_team_score</th>\n",
       "      <th>result</th>\n",
       "      <th>opp_code</th>\n",
       "      <th>day_code</th>\n",
       "      <th>venue_code</th>\n",
       "      <th>target</th>\n",
       "      <th>season</th>\n",
       "      <th>total_wins</th>\n",
       "      <th>total_goals</th>\n",
       "      <th>appearances</th>\n",
       "    </tr>\n",
       "  </thead>\n",
       "  <tbody>\n",
       "    <tr>\n",
       "      <th>0</th>\n",
       "      <td>1</td>\n",
       "      <td>2022-06-09 18:45:00</td>\n",
       "      <td>Dinamo Zagreb</td>\n",
       "      <td>0.6</td>\n",
       "      <td>1-0</td>\n",
       "      <td>0.9</td>\n",
       "      <td>Chelsea FC</td>\n",
       "      <td>Stadion Maksimir</td>\n",
       "      <td>1</td>\n",
       "      <td>0</td>\n",
       "      <td>W</td>\n",
       "      <td>7</td>\n",
       "      <td>3</td>\n",
       "      <td>1</td>\n",
       "      <td>1</td>\n",
       "      <td>2023</td>\n",
       "      <td>1.0</td>\n",
       "      <td>83</td>\n",
       "      <td>32</td>\n",
       "    </tr>\n",
       "    <tr>\n",
       "      <th>1</th>\n",
       "      <td>1</td>\n",
       "      <td>2022-06-09 18:45:00</td>\n",
       "      <td>Borussia Dortmund</td>\n",
       "      <td>2.3</td>\n",
       "      <td>3-0</td>\n",
       "      <td>0.5</td>\n",
       "      <td>FC Copenhagen</td>\n",
       "      <td>Signal Iduna Park</td>\n",
       "      <td>3</td>\n",
       "      <td>0</td>\n",
       "      <td>W</td>\n",
       "      <td>12</td>\n",
       "      <td>3</td>\n",
       "      <td>1</td>\n",
       "      <td>1</td>\n",
       "      <td>2023</td>\n",
       "      <td>21.0</td>\n",
       "      <td>9</td>\n",
       "      <td>15</td>\n",
       "    </tr>\n",
       "    <tr>\n",
       "      <th>2</th>\n",
       "      <td>1</td>\n",
       "      <td>2022-06-09 18:45:00</td>\n",
       "      <td>Celtic FC</td>\n",
       "      <td>1.4</td>\n",
       "      <td>0-3</td>\n",
       "      <td>1.9</td>\n",
       "      <td>Real Madrid</td>\n",
       "      <td>Celtic Park</td>\n",
       "      <td>0</td>\n",
       "      <td>3</td>\n",
       "      <td>L</td>\n",
       "      <td>24</td>\n",
       "      <td>3</td>\n",
       "      <td>1</td>\n",
       "      <td>2</td>\n",
       "      <td>2023</td>\n",
       "      <td>1.0</td>\n",
       "      <td>67</td>\n",
       "      <td>27</td>\n",
       "    </tr>\n",
       "    <tr>\n",
       "      <th>3</th>\n",
       "      <td>1</td>\n",
       "      <td>2022-06-09 18:45:00</td>\n",
       "      <td>SL Benfica</td>\n",
       "      <td>1.1</td>\n",
       "      <td>2-0</td>\n",
       "      <td>0.2</td>\n",
       "      <td>Maccabi Haifa</td>\n",
       "      <td>Estádio do Sport Lisboa e Benfica</td>\n",
       "      <td>2</td>\n",
       "      <td>0</td>\n",
       "      <td>W</td>\n",
       "      <td>17</td>\n",
       "      <td>3</td>\n",
       "      <td>1</td>\n",
       "      <td>1</td>\n",
       "      <td>2023</td>\n",
       "      <td>10.0</td>\n",
       "      <td>26</td>\n",
       "      <td>16</td>\n",
       "    </tr>\n",
       "    <tr>\n",
       "      <th>4</th>\n",
       "      <td>1</td>\n",
       "      <td>2022-06-09 21:00:00</td>\n",
       "      <td>RB Salzburg</td>\n",
       "      <td>1.3</td>\n",
       "      <td>1-1</td>\n",
       "      <td>0.9</td>\n",
       "      <td>AC Milan</td>\n",
       "      <td>Red Bull Arena</td>\n",
       "      <td>1</td>\n",
       "      <td>1</td>\n",
       "      <td>D</td>\n",
       "      <td>0</td>\n",
       "      <td>3</td>\n",
       "      <td>1</td>\n",
       "      <td>0</td>\n",
       "      <td>2023</td>\n",
       "      <td>6.0</td>\n",
       "      <td>9</td>\n",
       "      <td>15</td>\n",
       "    </tr>\n",
       "  </tbody>\n",
       "</table>\n",
       "</div>"
      ],
      "text/plain": [
       "   match week            date_time               team   xg score  xg.1  \\\n",
       "0           1  2022-06-09 18:45:00      Dinamo Zagreb  0.6   1-0   0.9   \n",
       "1           1  2022-06-09 18:45:00  Borussia Dortmund  2.3   3-0   0.5   \n",
       "2           1  2022-06-09 18:45:00          Celtic FC  1.4   0-3   1.9   \n",
       "3           1  2022-06-09 18:45:00         SL Benfica  1.1   2-0   0.2   \n",
       "4           1  2022-06-09 21:00:00        RB Salzburg  1.3   1-1   0.9   \n",
       "\n",
       "        opponent                            stadium  home_team_score  \\\n",
       "0     Chelsea FC                   Stadion Maksimir                1   \n",
       "1  FC Copenhagen                  Signal Iduna Park                3   \n",
       "2    Real Madrid                        Celtic Park                0   \n",
       "3  Maccabi Haifa  Estádio do Sport Lisboa e Benfica                2   \n",
       "4       AC Milan                     Red Bull Arena                1   \n",
       "\n",
       "   away_team_score result  opp_code  day_code  venue_code  target  season  \\\n",
       "0                0      W         7         3           1       1    2023   \n",
       "1                0      W        12         3           1       1    2023   \n",
       "2                3      L        24         3           1       2    2023   \n",
       "3                0      W        17         3           1       1    2023   \n",
       "4                1      D         0         3           1       0    2023   \n",
       "\n",
       "   total_wins  total_goals  appearances  \n",
       "0         1.0           83           32  \n",
       "1        21.0            9           15  \n",
       "2         1.0           67           27  \n",
       "3        10.0           26           16  \n",
       "4         6.0            9           15  "
      ]
     },
     "execution_count": 3,
     "metadata": {},
     "output_type": "execute_result"
    }
   ],
   "source": [
    "matches_new.head()"
   ]
  },
  {
   "cell_type": "code",
   "execution_count": 4,
   "id": "4046f8d4",
   "metadata": {},
   "outputs": [
    {
     "name": "stdout",
     "output_type": "stream",
     "text": [
      "The format of datetime values in the column is: 2022-06-09 18:45:00\n"
     ]
    }
   ],
   "source": [
    "# check the format of the datetime column\n",
    "format_str = pd.to_datetime(matches_new['date_time'], infer_datetime_format=True).dt.strftime('%Y-%m-%d %H:%M:%S').iloc[0]\n",
    "print(f'The format of datetime values in the column is: {format_str}')\n"
   ]
  },
  {
   "cell_type": "code",
   "execution_count": 5,
   "id": "e942cba0",
   "metadata": {},
   "outputs": [],
   "source": [
    "import pandas as pd\n",
    "\n",
    "matches = pd.read_csv(\"matches.csv\")"
   ]
  },
  {
   "cell_type": "code",
   "execution_count": 6,
   "id": "f59eb2db",
   "metadata": {},
   "outputs": [
    {
     "name": "stdout",
     "output_type": "stream",
     "text": [
      "The format of datetime values in the column is: 2021-09-15 20:00:00\n"
     ]
    }
   ],
   "source": [
    "# check the format of the datetime column\n",
    "format_str = pd.to_datetime(matches['date_time'], infer_datetime_format=True).dt.strftime('%Y-%m-%d %H:%M:%S').iloc[0]\n",
    "print(f'The format of datetime values in the column is: {format_str}')\n"
   ]
  },
  {
   "cell_type": "code",
   "execution_count": 7,
   "id": "e6dbc08a",
   "metadata": {},
   "outputs": [],
   "source": [
    "# convert the datetime column to datetime dtype\n",
    "matches_new['date_time'] = pd.to_datetime(matches_new['date_time'])"
   ]
  },
  {
   "cell_type": "code",
   "execution_count": 8,
   "id": "42236dbb",
   "metadata": {},
   "outputs": [],
   "source": [
    "# convert the datetime column to datetime dtype\n",
    "matches['date_time'] = pd.to_datetime(matches['date_time'])"
   ]
  },
  {
   "cell_type": "code",
   "execution_count": 9,
   "id": "49d0dfe4",
   "metadata": {},
   "outputs": [
    {
     "data": {
      "text/plain": [
       "match week                  int64\n",
       "date_time          datetime64[ns]\n",
       "team                       object\n",
       "xg                        float64\n",
       "score                      object\n",
       "xg.1                      float64\n",
       "opponent                   object\n",
       "stadium                    object\n",
       "home_team_score             int64\n",
       "away_team_score             int64\n",
       "result                     object\n",
       "opp_code                    int64\n",
       "day_code                    int64\n",
       "venue_code                  int64\n",
       "target                      int64\n",
       "season                      int64\n",
       "total_wins                float64\n",
       "total_goals                 int64\n",
       "appearances                 int64\n",
       "dtype: object"
      ]
     },
     "execution_count": 9,
     "metadata": {},
     "output_type": "execute_result"
    }
   ],
   "source": [
    "matches_new.dtypes"
   ]
  },
  {
   "cell_type": "code",
   "execution_count": 10,
   "id": "43991ffd",
   "metadata": {},
   "outputs": [
    {
     "data": {
      "text/plain": [
       "match_id             0\n",
       "season               0\n",
       "date_time            0\n",
       "team                 0\n",
       "opponent             0\n",
       "stadium              0\n",
       "home_team_score      0\n",
       "away_team_score      0\n",
       "penalty_shoot_out    0\n",
       "attendance           0\n",
       "result               0\n",
       "timestamp            0\n",
       "opp_code             0\n",
       "day_code             0\n",
       "venue_code           0\n",
       "target               0\n",
       "total_wins           0\n",
       "total_goals          0\n",
       "appearances          0\n",
       "dtype: int64"
      ]
     },
     "execution_count": 10,
     "metadata": {},
     "output_type": "execute_result"
    }
   ],
   "source": [
    "matches.isnull().sum()"
   ]
  },
  {
   "cell_type": "code",
   "execution_count": 11,
   "id": "584c54f2",
   "metadata": {},
   "outputs": [],
   "source": [
    "from sklearn.model_selection import train_test_split"
   ]
  },
  {
   "cell_type": "code",
   "execution_count": 12,
   "id": "7bd5363c",
   "metadata": {},
   "outputs": [],
   "source": [
    "from sklearn.preprocessing import StandardScaler\n",
    "from sklearn.pipeline import make_pipeline\n",
    "from sklearn.svm import SVC"
   ]
  },
  {
   "cell_type": "code",
   "execution_count": 13,
   "id": "e1afbe45",
   "metadata": {},
   "outputs": [],
   "source": [
    "import joblib\n",
    "\n",
    "# Load the trained Logistic Regression model\n",
    "svm = joblib.load('match_prediction_model_svm_test2.joblib')"
   ]
  },
  {
   "cell_type": "code",
   "execution_count": 14,
   "id": "6e6feb1c",
   "metadata": {},
   "outputs": [],
   "source": [
    "train=matches[matches[\"date_time\"]< '2022-06-01']"
   ]
  },
  {
   "cell_type": "code",
   "execution_count": 15,
   "id": "cab6683f",
   "metadata": {},
   "outputs": [],
   "source": [
    "test = matches_new[matches_new[\"date_time\"] > '2022-06-01']"
   ]
  },
  {
   "cell_type": "code",
   "execution_count": 16,
   "id": "2ee191c6",
   "metadata": {},
   "outputs": [],
   "source": [
    "# Define the predictors\n",
    "predictors = [\"venue_code\", \"opp_code\", \"day_code\", \"total_wins\"]"
   ]
  },
  {
   "cell_type": "code",
   "execution_count": 17,
   "id": "5d6b867f",
   "metadata": {},
   "outputs": [],
   "source": [
    "from sklearn.impute import SimpleImputer\n",
    "\n",
    "imputer = SimpleImputer(strategy='mean')\n",
    "train_imputed = pd.DataFrame(imputer.fit_transform(train[predictors]), columns=predictors, index=train.index)\n",
    "test_imputed = pd.DataFrame(imputer.transform(test[predictors]), columns=predictors, index=test.index)"
   ]
  },
  {
   "cell_type": "code",
   "execution_count": 18,
   "id": "e19504e9",
   "metadata": {},
   "outputs": [
    {
     "data": {
      "text/html": [
       "<style>#sk-container-id-1 {color: black;background-color: white;}#sk-container-id-1 pre{padding: 0;}#sk-container-id-1 div.sk-toggleable {background-color: white;}#sk-container-id-1 label.sk-toggleable__label {cursor: pointer;display: block;width: 100%;margin-bottom: 0;padding: 0.3em;box-sizing: border-box;text-align: center;}#sk-container-id-1 label.sk-toggleable__label-arrow:before {content: \"▸\";float: left;margin-right: 0.25em;color: #696969;}#sk-container-id-1 label.sk-toggleable__label-arrow:hover:before {color: black;}#sk-container-id-1 div.sk-estimator:hover label.sk-toggleable__label-arrow:before {color: black;}#sk-container-id-1 div.sk-toggleable__content {max-height: 0;max-width: 0;overflow: hidden;text-align: left;background-color: #f0f8ff;}#sk-container-id-1 div.sk-toggleable__content pre {margin: 0.2em;color: black;border-radius: 0.25em;background-color: #f0f8ff;}#sk-container-id-1 input.sk-toggleable__control:checked~div.sk-toggleable__content {max-height: 200px;max-width: 100%;overflow: auto;}#sk-container-id-1 input.sk-toggleable__control:checked~label.sk-toggleable__label-arrow:before {content: \"▾\";}#sk-container-id-1 div.sk-estimator input.sk-toggleable__control:checked~label.sk-toggleable__label {background-color: #d4ebff;}#sk-container-id-1 div.sk-label input.sk-toggleable__control:checked~label.sk-toggleable__label {background-color: #d4ebff;}#sk-container-id-1 input.sk-hidden--visually {border: 0;clip: rect(1px 1px 1px 1px);clip: rect(1px, 1px, 1px, 1px);height: 1px;margin: -1px;overflow: hidden;padding: 0;position: absolute;width: 1px;}#sk-container-id-1 div.sk-estimator {font-family: monospace;background-color: #f0f8ff;border: 1px dotted black;border-radius: 0.25em;box-sizing: border-box;margin-bottom: 0.5em;}#sk-container-id-1 div.sk-estimator:hover {background-color: #d4ebff;}#sk-container-id-1 div.sk-parallel-item::after {content: \"\";width: 100%;border-bottom: 1px solid gray;flex-grow: 1;}#sk-container-id-1 div.sk-label:hover label.sk-toggleable__label {background-color: #d4ebff;}#sk-container-id-1 div.sk-serial::before {content: \"\";position: absolute;border-left: 1px solid gray;box-sizing: border-box;top: 0;bottom: 0;left: 50%;z-index: 0;}#sk-container-id-1 div.sk-serial {display: flex;flex-direction: column;align-items: center;background-color: white;padding-right: 0.2em;padding-left: 0.2em;position: relative;}#sk-container-id-1 div.sk-item {position: relative;z-index: 1;}#sk-container-id-1 div.sk-parallel {display: flex;align-items: stretch;justify-content: center;background-color: white;position: relative;}#sk-container-id-1 div.sk-item::before, #sk-container-id-1 div.sk-parallel-item::before {content: \"\";position: absolute;border-left: 1px solid gray;box-sizing: border-box;top: 0;bottom: 0;left: 50%;z-index: -1;}#sk-container-id-1 div.sk-parallel-item {display: flex;flex-direction: column;z-index: 1;position: relative;background-color: white;}#sk-container-id-1 div.sk-parallel-item:first-child::after {align-self: flex-end;width: 50%;}#sk-container-id-1 div.sk-parallel-item:last-child::after {align-self: flex-start;width: 50%;}#sk-container-id-1 div.sk-parallel-item:only-child::after {width: 0;}#sk-container-id-1 div.sk-dashed-wrapped {border: 1px dashed gray;margin: 0 0.4em 0.5em 0.4em;box-sizing: border-box;padding-bottom: 0.4em;background-color: white;}#sk-container-id-1 div.sk-label label {font-family: monospace;font-weight: bold;display: inline-block;line-height: 1.2em;}#sk-container-id-1 div.sk-label-container {text-align: center;}#sk-container-id-1 div.sk-container {/* jupyter's `normalize.less` sets `[hidden] { display: none; }` but bootstrap.min.css set `[hidden] { display: none !important; }` so we also need the `!important` here to be able to override the default hidden behavior on the sphinx rendered scikit-learn.org. See: https://github.com/scikit-learn/scikit-learn/issues/21755 */display: inline-block !important;position: relative;}#sk-container-id-1 div.sk-text-repr-fallback {display: none;}</style><div id=\"sk-container-id-1\" class=\"sk-top-container\"><div class=\"sk-text-repr-fallback\"><pre>SVC(gamma=&#x27;auto&#x27;)</pre><b>In a Jupyter environment, please rerun this cell to show the HTML representation or trust the notebook. <br />On GitHub, the HTML representation is unable to render, please try loading this page with nbviewer.org.</b></div><div class=\"sk-container\" hidden><div class=\"sk-item\"><div class=\"sk-estimator sk-toggleable\"><input class=\"sk-toggleable__control sk-hidden--visually\" id=\"sk-estimator-id-1\" type=\"checkbox\" checked><label for=\"sk-estimator-id-1\" class=\"sk-toggleable__label sk-toggleable__label-arrow\">SVC</label><div class=\"sk-toggleable__content\"><pre>SVC(gamma=&#x27;auto&#x27;)</pre></div></div></div></div></div>"
      ],
      "text/plain": [
       "SVC(gamma='auto')"
      ]
     },
     "execution_count": 18,
     "metadata": {},
     "output_type": "execute_result"
    }
   ],
   "source": [
    "\n",
    "# Train the SVM model on the training set\n",
    "svm.fit(train[predictors], train[\"target\"])"
   ]
  },
  {
   "cell_type": "code",
   "execution_count": 19,
   "id": "53e9afed",
   "metadata": {},
   "outputs": [],
   "source": [
    "preds=svm.predict(test[predictors])"
   ]
  },
  {
   "cell_type": "code",
   "execution_count": 20,
   "id": "16c88fcb",
   "metadata": {},
   "outputs": [
    {
     "name": "stdout",
     "output_type": "stream",
     "text": [
      "Accuracy: 0.4838709677419355\n"
     ]
    }
   ],
   "source": [
    "from sklearn.metrics import accuracy_score\n",
    "\n",
    "accuracy = accuracy_score(test[\"target\"], preds)\n",
    "print(\"Accuracy:\", accuracy)"
   ]
  },
  {
   "cell_type": "code",
   "execution_count": 21,
   "id": "e6272e72",
   "metadata": {},
   "outputs": [
    {
     "name": "stdout",
     "output_type": "stream",
     "text": [
      "     target  predicted\n",
      "0         1          1\n",
      "1         1          1\n",
      "2         2          2\n",
      "3         1          1\n",
      "4         0          0\n",
      "..      ...        ...\n",
      "119       0          2\n",
      "120       0          0\n",
      "121       0          2\n",
      "122       0          0\n",
      "123       0          1\n",
      "\n",
      "[93 rows x 2 columns]\n"
     ]
    }
   ],
   "source": [
    "result_df = pd.concat([test['target'], pd.Series(preds, name='predicted', index=test.index)], axis=1)\n",
    "print(result_df)"
   ]
  },
  {
   "cell_type": "code",
   "execution_count": 22,
   "id": "9f36ab10",
   "metadata": {},
   "outputs": [
    {
     "name": "stdout",
     "output_type": "stream",
     "text": [
      "[[ 4 13  8]\n",
      " [ 0 32  8]\n",
      " [ 1 18  9]]\n"
     ]
    }
   ],
   "source": [
    "from sklearn.metrics import confusion_matrix\n",
    "\n",
    "# Generate confusion matrix\n",
    "cm = confusion_matrix(test[\"target\"], preds)\n",
    "print(cm)"
   ]
  },
  {
   "cell_type": "code",
   "execution_count": 31,
   "id": "f78945d3",
   "metadata": {},
   "outputs": [
    {
     "data": {
      "image/png": "[encoded data removed]",
      "text/plain": [
       "<Figure size 640x480 with 2 Axes>"
      ]
     },
     "metadata": {},
     "output_type": "display_data"
    }
   ],
   "source": [
    "import seaborn as sns\n",
    "import matplotlib.pyplot as plt\n",
    "\n",
    "# Plot heatmap of confusion matrix\n",
    "sns.heatmap(cm, annot=True, cmap=\"Blues\", fmt=\"d\", xticklabels=[\"D\", \"W\", \"L\"], yticklabels=[\"D\", \"W\", \"L\"])\n",
    "plt.xlabel(\"Predicted\")\n",
    "plt.ylabel(\"Actual\")\n",
    "plt.show()"
   ]
  },
  {
   "cell_type": "code",
   "execution_count": 24,
   "id": "4a1940ba",
   "metadata": {},
   "outputs": [],
   "source": [
    "combined=pd.DataFrame(dict(actual=test[\"target\"], prediction=preds))"
   ]
  },
  {
   "cell_type": "code",
   "execution_count": 25,
   "id": "e342a793",
   "metadata": {},
   "outputs": [
    {
     "data": {
      "text/html": [
       "<div>\n",
       "<style scoped>\n",
       "    .dataframe tbody tr th:only-of-type {\n",
       "        vertical-align: middle;\n",
       "    }\n",
       "\n",
       "    .dataframe tbody tr th {\n",
       "        vertical-align: top;\n",
       "    }\n",
       "\n",
       "    .dataframe thead th {\n",
       "        text-align: right;\n",
       "    }\n",
       "</style>\n",
       "<table border=\"1\" class=\"dataframe\">\n",
       "  <thead>\n",
       "    <tr style=\"text-align: right;\">\n",
       "      <th>prediction</th>\n",
       "      <th>0</th>\n",
       "      <th>1</th>\n",
       "      <th>2</th>\n",
       "    </tr>\n",
       "    <tr>\n",
       "      <th>actual</th>\n",
       "      <th></th>\n",
       "      <th></th>\n",
       "      <th></th>\n",
       "    </tr>\n",
       "  </thead>\n",
       "  <tbody>\n",
       "    <tr>\n",
       "      <th>0</th>\n",
       "      <td>4</td>\n",
       "      <td>13</td>\n",
       "      <td>8</td>\n",
       "    </tr>\n",
       "    <tr>\n",
       "      <th>1</th>\n",
       "      <td>0</td>\n",
       "      <td>32</td>\n",
       "      <td>8</td>\n",
       "    </tr>\n",
       "    <tr>\n",
       "      <th>2</th>\n",
       "      <td>1</td>\n",
       "      <td>18</td>\n",
       "      <td>9</td>\n",
       "    </tr>\n",
       "  </tbody>\n",
       "</table>\n",
       "</div>"
      ],
      "text/plain": [
       "prediction  0   1  2\n",
       "actual              \n",
       "0           4  13  8\n",
       "1           0  32  8\n",
       "2           1  18  9"
      ]
     },
     "execution_count": 25,
     "metadata": {},
     "output_type": "execute_result"
    }
   ],
   "source": [
    "pd.crosstab(index=combined[\"actual\"], columns= combined[\"prediction\"])"
   ]
  },
  {
   "cell_type": "code",
   "execution_count": 29,
   "id": "e27b19a3",
   "metadata": {},
   "outputs": [
    {
     "name": "stdout",
     "output_type": "stream",
     "text": [
      "Precision Score: 0.54\n"
     ]
    }
   ],
   "source": [
    "from sklearn.metrics import precision_score\n",
    "\n",
    "precision = precision_score(test[\"target\"], preds, average='weighted', zero_division=1)\n",
    "print(\"Precision Score: {:.2f}\".format(precision))"
   ]
  },
  {
   "cell_type": "code",
   "execution_count": 30,
   "id": "f24d6370",
   "metadata": {},
   "outputs": [
    {
     "name": "stdout",
     "output_type": "stream",
     "text": [
      "F1 Score: 0.44\n"
     ]
    }
   ],
   "source": [
    "from sklearn.metrics import f1_score\n",
    "\n",
    "f1 = f1_score(test[\"target\"], preds, average='weighted', zero_division=1)\n",
    "print(\"F1 Score: {:.2f}\".format(f1))\n"
   ]
  },
  {
   "cell_type": "code",
   "execution_count": null,
   "id": "890cfbee",
   "metadata": {},
   "outputs": [],
   "source": []
  }
 ],
 "metadata": {
  "kernelspec": {
   "display_name": "Python 3 (ipykernel)",
   "language": "python",
   "name": "python3"
  },
  "language_info": {
   "codemirror_mode": {
    "name": "ipython",
    "version": 3
   },
   "file_extension": ".py",
   "mimetype": "text/x-python",
   "name": "python",
   "nbconvert_exporter": "python",
   "pygments_lexer": "ipython3",
   "version": "3.10.9"
  }
 },
 "nbformat": 4,
 "nbformat_minor": 5
}
